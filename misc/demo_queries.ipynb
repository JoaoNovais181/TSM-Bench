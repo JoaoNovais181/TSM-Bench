{
 "cells": [
  {
   "cell_type": "code",
   "execution_count": 1,
   "id": "bd6e867f-408f-4d36-8439-15d2343c4e26",
   "metadata": {},
   "outputs": [
    {
     "data": {
      "text/plain": [
       "'/home/luca/test/TSM-Bench'"
      ]
     },
     "execution_count": 1,
     "metadata": {},
     "output_type": "execute_result"
    }
   ],
   "source": [
    "import os\n",
    "root_dir = f\"{os.getcwd().split('TSM-Bench')[0]}/TSM-Bench\"\n",
    "os.chdir(root_dir)\n",
    "os.getcwd()"
   ]
  },
  {
   "cell_type": "code",
   "execution_count": 2,
   "id": "86b35b23-214c-4cf7-ae15-aa97ff353c64",
   "metadata": {},
   "outputs": [],
   "source": [
    "import os\n",
    "import pandas\n",
    "import systems\n",
    "\n",
    "from systems import (clickhouse, questdb , extremedb, druid, timescaledb, influx , monetdb)\n"
   ]
  },
  {
   "cell_type": "code",
   "execution_count": 3,
   "id": "1c13340f-9986-4e96-9cf9-dc62f53c35d3",
   "metadata": {},
   "outputs": [],
   "source": [
    "def load_query_file(system):\n",
    "    path = os.path.dirname(system.__file__)\n",
    "    with open(f'{path}/queries.sql') as file: \n",
    "        queries = [line.rstrip() for line in file]\n",
    "    return queries"
   ]
  },
  {
   "cell_type": "code",
   "execution_count": 34,
   "id": "69da105d-8ec3-4bf5-9f23-2fa9b2cda997",
   "metadata": {},
   "outputs": [
    {
     "data": {
      "text/plain": [
       "[(1, 1, 'Minute'),\n",
       " (1, 1, 'Hour'),\n",
       " (1, 1, 'Day'),\n",
       " (1, 1, 'Week'),\n",
       " (1, 1, 'Month')]"
      ]
     },
     "execution_count": 34,
     "metadata": {},
     "output_type": "execute_result"
    }
   ],
   "source": [
    "# settings\n",
    "n_sensors = [1]# , 10,20,30,40,50,60,70,80,90,100]\n",
    "n_stations =  [1]# ,2,3,4,5,6,7,8,9,10] \n",
    "time_ranges = [\"Minute\",\"Hour\",\"Day\",\"Week\",\"Month\"]\n",
    "dataset = \"d1\"\n",
    "\n",
    "n_iter = 4\n",
    "timeout = 1000\n",
    "\n",
    "scenarios  = [(sensor, station, time_range) for sensor in n_sensors for station in n_stations for time_range in time_ranges]\n",
    "scenarios"
   ]
  },
  {
   "cell_type": "code",
   "execution_count": 35,
   "id": "0d80e67f-e1e6-4ff7-bdf8-a3a5ffe81367",
   "metadata": {},
   "outputs": [],
   "source": [
    "def load_query_file(system):\n",
    "    path = os.path.dirname(system.__file__)\n",
    "    with open(f'{path}/queries.sql') as file: \n",
    "                queries = [line.rstrip() for line in file]\n",
    "    return queries\n",
    "    "
   ]
  },
  {
   "cell_type": "code",
   "execution_count": 36,
   "id": "d42ff652-d357-40a3-b0ee-a4b636770dc4",
   "metadata": {},
   "outputs": [
    {
     "name": "stdout",
     "output_type": "stream",
     "text": [
      "launching questdb\n",
      "/home/luca/test/TSM-Bench/systems/questdb/run_system.py\n",
      "changing directory to /home/luca/test/TSM-Bench/systems/questdb\n",
      "[\"select ts, id_station, <sid> FROM <db> where id_station in <stid> AND  ts < '<timestamp>' AND ts >  '<timestamp>' - <range>*<rangesUnit>* 1000000L\", \"select ts, id_station, <sid> FROM <db> where id_station in <stid> AND  ts < '<timestamp>' AND ts >  '<timestamp>' - <range>*<rangesUnit>* 1000000L and <sfilter>;\", \"SELECT id_station, <avg_s> FROM <db> WHERE  ts < '<timestamp>' AND ts >  '<timestamp>' - <range>*<rangesUnit>* 1000000L AND id_station in <stid> GROUP BY id_station;\", \"SELECT id_station, ts, <avg_s> FROM <db> WHERE ts < '<timestamp>' AND ts >  '<timestamp>' - <range>*<rangesUnit>* 1000000L AND id_station in <stid> SAMPLE BY 1h;\", \"SELECT id_station, ts, <avg_s> FROM <db> WHERE  ts < '<timestamp>' AND ts >  '<timestamp>' - <range>*<rangesUnit>* 1000000L AND id_station in <stid> SAMPLE BY 5s FILL(LINEAR) GROUP BY ts, id_station ORDER BY ts;\", \"SELECT ts, s<sid1> as s_1, s<sid2> as s_2, (s<sid1>+ s<sid2>)/2 from d1 WHERE ts > TIMESTAMP '<timestamp>' - <range>*<rangesUnit>* 1000000L AND ts < TIMESTAMP '<timestamp>' AND id_station in <stid>;\", \"SELECT ((SUM(s<sid1> * s<sid2>) - (SUM(s<sid1>) * SUM(s<sid2>)) / COUNT())) / (SQRT(SUM(s<sid1> * s<sid1>) - (SUM(s<sid1>) * SUM (s<sid1>)) / COUNT()) * SQRT(SUM(s<sid2> * s<sid2>) - (SUM(s<sid2>) * SUM(s<sid2>)) / COUNT() )) AS pearson_corr FROM d1 WHERE  id_station=<stid> AND ts < '<timestamp>' AND ts >  '<timestamp>' - <range>*<rangesUnit>* 1000000L;\"]\n"
     ]
    },
    {
     "name": "stderr",
     "output_type": "stream",
     "text": [
      "100%|█████████████████████████████████████████████████████████████████████████████████████████████████████████████████████████| 3/3 [00:00<00:00, 45.48it/s]\n"
     ]
    },
    {
     "name": "stdout",
     "output_type": "stream",
     "text": [
      "21.489302317301433 , 19.90762996461749  , 0 , 1 , 1 , Minute , questdb , select ts, id_station, <sid> FROM d1 where id_station in <stid> AND  ts < '<timestamp>' AND ts >  '<timestamp>' - <range>*<rangesUnit>* 1000000L\n",
      "\n"
     ]
    },
    {
     "name": "stderr",
     "output_type": "stream",
     "text": [
      "100%|████████████████████████████████████████████████████████████████████████████████████████████████████████████████████████| 3/3 [00:00<00:00, 132.78it/s]"
     ]
    },
    {
     "name": "stdout",
     "output_type": "stream",
     "text": [
      "7.3308149973551435 , 3.485247122136897  , 0 , 1 , 1 , Hour , questdb , select ts, id_station, <sid> FROM d1 where id_station in <stid> AND  ts < '<timestamp>' AND ts >  '<timestamp>' - <range>*<rangesUnit>* 1000000L\n",
      "\n"
     ]
    },
    {
     "name": "stderr",
     "output_type": "stream",
     "text": [
      "\n",
      "100%|█████████████████████████████████████████████████████████████████████████████████████████████████████████████████████████| 3/3 [00:00<00:00,  9.86it/s]\n"
     ]
    },
    {
     "name": "stdout",
     "output_type": "stream",
     "text": [
      "100.49168268839519 , 89.32968245331494  , 0 , 1 , 1 , Day , questdb , select ts, id_station, <sid> FROM d1 where id_station in <stid> AND  ts < '<timestamp>' AND ts >  '<timestamp>' - <range>*<rangesUnit>* 1000000L\n",
      "\n"
     ]
    },
    {
     "name": "stderr",
     "output_type": "stream",
     "text": [
      "100%|█████████████████████████████████████████████████████████████████████████████████████████████████████████████████████████| 3/3 [00:00<00:00,  6.57it/s]\n"
     ]
    },
    {
     "name": "stdout",
     "output_type": "stream",
     "text": [
      "150.79387029012045 , 13.968986913318705  , 0 , 1 , 1 , Week , questdb , select ts, id_station, <sid> FROM d1 where id_station in <stid> AND  ts < '<timestamp>' AND ts >  '<timestamp>' - <range>*<rangesUnit>* 1000000L\n",
      "\n"
     ]
    },
    {
     "name": "stderr",
     "output_type": "stream",
     "text": [
      "100%|█████████████████████████████████████████████████████████████████████████████████████████████████████████████████████████| 3/3 [00:01<00:00,  2.24it/s]\n"
     ]
    },
    {
     "name": "stdout",
     "output_type": "stream",
     "text": [
      "445.6530412038167 , 49.915026681681404  , 0 , 1 , 1 , Month , questdb , select ts, id_station, <sid> FROM d1 where id_station in <stid> AND  ts < '<timestamp>' AND ts >  '<timestamp>' - <range>*<rangesUnit>* 1000000L\n",
      "\n"
     ]
    },
    {
     "name": "stderr",
     "output_type": "stream",
     "text": [
      "100%|████████████████████████████████████████████████████████████████████████████████████████████████████████████████████████| 3/3 [00:00<00:00, 298.53it/s]\n"
     ]
    },
    {
     "name": "stdout",
     "output_type": "stream",
     "text": [
      "3.1995773315429688 , 2.9378922939252208  , 1 , 1 , 1 , Minute , questdb , select ts, id_station, <sid> FROM d1 where id_station in <stid> AND  ts < '<timestamp>' AND ts >  '<timestamp>' - <range>*<rangesUnit>* 1000000L and <sfilter>;\n",
      "\n"
     ]
    },
    {
     "name": "stderr",
     "output_type": "stream",
     "text": [
      "100%|████████████████████████████████████████████████████████████████████████████████████████████████████████████████████████| 3/3 [00:00<00:00, 345.99it/s]\n"
     ]
    },
    {
     "name": "stdout",
     "output_type": "stream",
     "text": [
      "2.634127934773763 , 0.6407006525710585  , 1 , 1 , 1 , Hour , questdb , select ts, id_station, <sid> FROM d1 where id_station in <stid> AND  ts < '<timestamp>' AND ts >  '<timestamp>' - <range>*<rangesUnit>* 1000000L and <sfilter>;\n",
      "\n"
     ]
    },
    {
     "name": "stderr",
     "output_type": "stream",
     "text": [
      "100%|████████████████████████████████████████████████████████████████████████████████████████████████████████████████████████| 3/3 [00:00<00:00, 137.47it/s]\n"
     ]
    },
    {
     "name": "stdout",
     "output_type": "stream",
     "text": [
      "7.079839706420898 , 6.850280316675413  , 1 , 1 , 1 , Day , questdb , select ts, id_station, <sid> FROM d1 where id_station in <stid> AND  ts < '<timestamp>' AND ts >  '<timestamp>' - <range>*<rangesUnit>* 1000000L and <sfilter>;\n",
      "\n"
     ]
    },
    {
     "name": "stderr",
     "output_type": "stream",
     "text": [
      "100%|█████████████████████████████████████████████████████████████████████████████████████████████████████████████████████████| 3/3 [00:00<00:00, 94.97it/s]\n"
     ]
    },
    {
     "name": "stdout",
     "output_type": "stream",
     "text": [
      "10.27536392211914 , 0.8380343869657612  , 1 , 1 , 1 , Week , questdb , select ts, id_station, <sid> FROM d1 where id_station in <stid> AND  ts < '<timestamp>' AND ts >  '<timestamp>' - <range>*<rangesUnit>* 1000000L and <sfilter>;\n",
      "\n"
     ]
    },
    {
     "name": "stderr",
     "output_type": "stream",
     "text": [
      "100%|█████████████████████████████████████████████████████████████████████████████████████████████████████████████████████████| 3/3 [00:00<00:00, 20.26it/s]\n"
     ]
    },
    {
     "name": "stdout",
     "output_type": "stream",
     "text": [
      "48.78314336140951 , 13.412944265746209  , 1 , 1 , 1 , Month , questdb , select ts, id_station, <sid> FROM d1 where id_station in <stid> AND  ts < '<timestamp>' AND ts >  '<timestamp>' - <range>*<rangesUnit>* 1000000L and <sfilter>;\n",
      "\n"
     ]
    },
    {
     "name": "stderr",
     "output_type": "stream",
     "text": [
      "100%|█████████████████████████████████████████████████████████████████████████████████████████████████████████████████████████| 3/3 [00:00<00:00, 32.21it/s]\n"
     ]
    },
    {
     "name": "stdout",
     "output_type": "stream",
     "text": [
      "30.723174413045246 , 4.1994628664658755  , 2 , 1 , 1 , Minute , questdb , SELECT id_station, <avg_s> FROM d1 WHERE  ts < '<timestamp>' AND ts >  '<timestamp>' - <range>*<rangesUnit>* 1000000L AND id_station in <stid> GROUP BY id_station;\n",
      "\n"
     ]
    },
    {
     "name": "stderr",
     "output_type": "stream",
     "text": [
      "100%|█████████████████████████████████████████████████████████████████████████████████████████████████████████████████████████| 3/3 [00:00<00:00, 33.30it/s]\n"
     ]
    },
    {
     "name": "stdout",
     "output_type": "stream",
     "text": [
      "29.62215741475423 , 0.9746492122691907  , 2 , 1 , 1 , Hour , questdb , SELECT id_station, <avg_s> FROM d1 WHERE  ts < '<timestamp>' AND ts >  '<timestamp>' - <range>*<rangesUnit>* 1000000L AND id_station in <stid> GROUP BY id_station;\n",
      "\n"
     ]
    },
    {
     "name": "stderr",
     "output_type": "stream",
     "text": [
      "100%|█████████████████████████████████████████████████████████████████████████████████████████████████████████████████████████| 3/3 [00:00<00:00, 30.95it/s]\n"
     ]
    },
    {
     "name": "stdout",
     "output_type": "stream",
     "text": [
      "31.88610076904297 , 3.218326260839455  , 2 , 1 , 1 , Day , questdb , SELECT id_station, <avg_s> FROM d1 WHERE  ts < '<timestamp>' AND ts >  '<timestamp>' - <range>*<rangesUnit>* 1000000L AND id_station in <stid> GROUP BY id_station;\n",
      "\n"
     ]
    },
    {
     "name": "stderr",
     "output_type": "stream",
     "text": [
      "100%|█████████████████████████████████████████████████████████████████████████████████████████████████████████████████████████| 3/3 [00:00<00:00, 19.23it/s]\n"
     ]
    },
    {
     "name": "stdout",
     "output_type": "stream",
     "text": [
      "51.18083953857422 , 0.7853997628699088  , 2 , 1 , 1 , Week , questdb , SELECT id_station, <avg_s> FROM d1 WHERE  ts < '<timestamp>' AND ts >  '<timestamp>' - <range>*<rangesUnit>* 1000000L AND id_station in <stid> GROUP BY id_station;\n",
      "\n"
     ]
    },
    {
     "name": "stderr",
     "output_type": "stream",
     "text": [
      "100%|█████████████████████████████████████████████████████████████████████████████████████████████████████████████████████████| 3/3 [00:00<00:00,  6.39it/s]\n"
     ]
    },
    {
     "name": "stdout",
     "output_type": "stream",
     "text": [
      "154.5532544453939 , 1.1964318545553312  , 2 , 1 , 1 , Month , questdb , SELECT id_station, <avg_s> FROM d1 WHERE  ts < '<timestamp>' AND ts >  '<timestamp>' - <range>*<rangesUnit>* 1000000L AND id_station in <stid> GROUP BY id_station;\n",
      "\n"
     ]
    },
    {
     "name": "stderr",
     "output_type": "stream",
     "text": [
      "100%|█████████████████████████████████████████████████████████████████████████████████████████████████████████████████████████| 3/3 [00:00<00:00, 30.77it/s]\n"
     ]
    },
    {
     "name": "stdout",
     "output_type": "stream",
     "text": [
      "32.13032086690267 , 1.8825088394399196  , 3 , 1 , 1 , Minute , questdb , SELECT id_station, ts, <avg_s> FROM d1 WHERE ts < '<timestamp>' AND ts >  '<timestamp>' - <range>*<rangesUnit>* 1000000L AND id_station in <stid> SAMPLE BY 1h;\n",
      "\n"
     ]
    },
    {
     "name": "stderr",
     "output_type": "stream",
     "text": [
      "100%|█████████████████████████████████████████████████████████████████████████████████████████████████████████████████████████| 3/3 [00:00<00:00, 31.35it/s]\n"
     ]
    },
    {
     "name": "stdout",
     "output_type": "stream",
     "text": [
      "31.456391016642254 , 0.3616225407672258  , 3 , 1 , 1 , Hour , questdb , SELECT id_station, ts, <avg_s> FROM d1 WHERE ts < '<timestamp>' AND ts >  '<timestamp>' - <range>*<rangesUnit>* 1000000L AND id_station in <stid> SAMPLE BY 1h;\n",
      "\n"
     ]
    },
    {
     "name": "stderr",
     "output_type": "stream",
     "text": [
      "100%|█████████████████████████████████████████████████████████████████████████████████████████████████████████████████████████| 3/3 [00:00<00:00,  6.32it/s]\n"
     ]
    },
    {
     "name": "stdout",
     "output_type": "stream",
     "text": [
      "156.27193450927734 , 1.8184778642199442  , 3 , 1 , 1 , Day , questdb , SELECT id_station, ts, <avg_s> FROM d1 WHERE ts < '<timestamp>' AND ts >  '<timestamp>' - <range>*<rangesUnit>* 1000000L AND id_station in <stid> SAMPLE BY 1h;\n",
      "\n"
     ]
    },
    {
     "name": "stderr",
     "output_type": "stream",
     "text": [
      "100%|█████████████████████████████████████████████████████████████████████████████████████████████████████████████████████████| 3/3 [00:02<00:00,  1.09it/s]\n"
     ]
    },
    {
     "name": "stdout",
     "output_type": "stream",
     "text": [
      "917.4370765686035 , 1.5891217493698062  , 3 , 1 , 1 , Week , questdb , SELECT id_station, ts, <avg_s> FROM d1 WHERE ts < '<timestamp>' AND ts >  '<timestamp>' - <range>*<rangesUnit>* 1000000L AND id_station in <stid> SAMPLE BY 1h;\n",
      "\n"
     ]
    },
    {
     "name": "stderr",
     "output_type": "stream",
     "text": [
      "100%|█████████████████████████████████████████████████████████████████████████████████████████████████████████████████████████| 3/3 [00:11<00:00,  3.82s/it]\n"
     ]
    },
    {
     "name": "stdout",
     "output_type": "stream",
     "text": [
      "3822.8444258371987 , 29.954816231809705  , 3 , 1 , 1 , Month , questdb , SELECT id_station, ts, <avg_s> FROM d1 WHERE ts < '<timestamp>' AND ts >  '<timestamp>' - <range>*<rangesUnit>* 1000000L AND id_station in <stid> SAMPLE BY 1h;\n",
      "\n"
     ]
    },
    {
     "name": "stderr",
     "output_type": "stream",
     "text": [
      "100%|█████████████████████████████████████████████████████████████████████████████████████████████████████████████████████████| 3/3 [00:00<00:00, 18.46it/s]\n"
     ]
    },
    {
     "name": "stdout",
     "output_type": "stream",
     "text": [
      "53.30022176106771 , 5.096424830147879  , 4 , 1 , 1 , Minute , questdb , SELECT id_station, ts, <avg_s> FROM d1 WHERE  ts < '<timestamp>' AND ts >  '<timestamp>' - <range>*<rangesUnit>* 1000000L AND id_station in <stid> SAMPLE BY 5s FILL(LINEAR) GROUP BY ts, id_station ORDER BY ts;\n",
      "\n"
     ]
    },
    {
     "name": "stderr",
     "output_type": "stream",
     "text": [
      "100%|█████████████████████████████████████████████████████████████████████████████████████████████████████████████████████████| 3/3 [00:00<00:00, 17.93it/s]\n"
     ]
    },
    {
     "name": "stdout",
     "output_type": "stream",
     "text": [
      "54.905335108439125 , 1.7571322683484762  , 4 , 1 , 1 , Hour , questdb , SELECT id_station, ts, <avg_s> FROM d1 WHERE  ts < '<timestamp>' AND ts >  '<timestamp>' - <range>*<rangesUnit>* 1000000L AND id_station in <stid> SAMPLE BY 5s FILL(LINEAR) GROUP BY ts, id_station ORDER BY ts;\n",
      "\n"
     ]
    },
    {
     "name": "stderr",
     "output_type": "stream",
     "text": [
      "100%|█████████████████████████████████████████████████████████████████████████████████████████████████████████████████████████| 3/3 [00:00<00:00, 10.13it/s]\n"
     ]
    },
    {
     "name": "stdout",
     "output_type": "stream",
     "text": [
      "97.71339098612468 , 10.189587595179923  , 4 , 1 , 1 , Day , questdb , SELECT id_station, ts, <avg_s> FROM d1 WHERE  ts < '<timestamp>' AND ts >  '<timestamp>' - <range>*<rangesUnit>* 1000000L AND id_station in <stid> SAMPLE BY 5s FILL(LINEAR) GROUP BY ts, id_station ORDER BY ts;\n",
      "\n"
     ]
    },
    {
     "name": "stderr",
     "output_type": "stream",
     "text": [
      "100%|█████████████████████████████████████████████████████████████████████████████████████████████████████████████████████████| 3/3 [00:00<00:00,  3.24it/s]\n"
     ]
    },
    {
     "name": "stdout",
     "output_type": "stream",
     "text": [
      "306.4539432525635 , 27.79843879709091  , 4 , 1 , 1 , Week , questdb , SELECT id_station, ts, <avg_s> FROM d1 WHERE  ts < '<timestamp>' AND ts >  '<timestamp>' - <range>*<rangesUnit>* 1000000L AND id_station in <stid> SAMPLE BY 5s FILL(LINEAR) GROUP BY ts, id_station ORDER BY ts;\n",
      "\n"
     ]
    },
    {
     "name": "stderr",
     "output_type": "stream",
     "text": [
      "100%|█████████████████████████████████████████████████████████████████████████████████████████████████████████████████████████| 3/3 [00:03<00:00,  1.09s/it]\n"
     ]
    },
    {
     "name": "stdout",
     "output_type": "stream",
     "text": [
      "1083.4397474924724 , 59.324953258674014  , 4 , 1 , 1 , Month , questdb , SELECT id_station, ts, <avg_s> FROM d1 WHERE  ts < '<timestamp>' AND ts >  '<timestamp>' - <range>*<rangesUnit>* 1000000L AND id_station in <stid> SAMPLE BY 5s FILL(LINEAR) GROUP BY ts, id_station ORDER BY ts;\n",
      "\n"
     ]
    },
    {
     "name": "stderr",
     "output_type": "stream",
     "text": [
      "100%|████████████████████████████████████████████████████████████████████████████████████████████████████████████████████████| 3/3 [00:00<00:00, 147.59it/s]\n"
     ]
    },
    {
     "name": "stdout",
     "output_type": "stream",
     "text": [
      "6.375471750895183 , 8.813357912796246  , 5 , 1 , 1 , Minute , questdb , SELECT ts, s<sid1> as s_1, s<sid2> as s_2, (s<sid1>+ s<sid2>)/2 from d1 WHERE ts > TIMESTAMP '<timestamp>' - <range>*<rangesUnit>* 1000000L AND ts < TIMESTAMP '<timestamp>' AND id_station in <stid>;\n",
      "\n"
     ]
    },
    {
     "name": "stderr",
     "output_type": "stream",
     "text": [
      "100%|████████████████████████████████████████████████████████████████████████████████████████████████████████████████████████| 3/3 [00:00<00:00, 299.34it/s]\n"
     ]
    },
    {
     "name": "stdout",
     "output_type": "stream",
     "text": [
      "3.1086603800455728 , 0.5147952009897058  , 5 , 1 , 1 , Hour , questdb , SELECT ts, s<sid1> as s_1, s<sid2> as s_2, (s<sid1>+ s<sid2>)/2 from d1 WHERE ts > TIMESTAMP '<timestamp>' - <range>*<rangesUnit>* 1000000L AND ts < TIMESTAMP '<timestamp>' AND id_station in <stid>;\n",
      "\n"
     ]
    },
    {
     "name": "stderr",
     "output_type": "stream",
     "text": [
      "100%|█████████████████████████████████████████████████████████████████████████████████████████████████████████████████████████| 3/3 [00:00<00:00, 39.62it/s]\n"
     ]
    },
    {
     "name": "stdout",
     "output_type": "stream",
     "text": [
      "25.059620539347332 , 3.293499998456056  , 5 , 1 , 1 , Day , questdb , SELECT ts, s<sid1> as s_1, s<sid2> as s_2, (s<sid1>+ s<sid2>)/2 from d1 WHERE ts > TIMESTAMP '<timestamp>' - <range>*<rangesUnit>* 1000000L AND ts < TIMESTAMP '<timestamp>' AND id_station in <stid>;\n",
      "\n"
     ]
    },
    {
     "name": "stderr",
     "output_type": "stream",
     "text": [
      "100%|█████████████████████████████████████████████████████████████████████████████████████████████████████████████████████████| 3/3 [00:00<00:00,  5.23it/s]\n"
     ]
    },
    {
     "name": "stdout",
     "output_type": "stream",
     "text": [
      "189.9906794230143 , 36.20283533627795  , 5 , 1 , 1 , Week , questdb , SELECT ts, s<sid1> as s_1, s<sid2> as s_2, (s<sid1>+ s<sid2>)/2 from d1 WHERE ts > TIMESTAMP '<timestamp>' - <range>*<rangesUnit>* 1000000L AND ts < TIMESTAMP '<timestamp>' AND id_station in <stid>;\n",
      "\n"
     ]
    },
    {
     "name": "stderr",
     "output_type": "stream",
     "text": [
      "100%|█████████████████████████████████████████████████████████████████████████████████████████████████████████████████████████| 3/3 [00:02<00:00,  1.50it/s]\n"
     ]
    },
    {
     "name": "stdout",
     "output_type": "stream",
     "text": [
      "666.5573120117188 , 96.43159403787628  , 5 , 1 , 1 , Month , questdb , SELECT ts, s<sid1> as s_1, s<sid2> as s_2, (s<sid1>+ s<sid2>)/2 from d1 WHERE ts > TIMESTAMP '<timestamp>' - <range>*<rangesUnit>* 1000000L AND ts < TIMESTAMP '<timestamp>' AND id_station in <stid>;\n",
      "\n"
     ]
    },
    {
     "name": "stderr",
     "output_type": "stream",
     "text": [
      "100%|████████████████████████████████████████████████████████████████████████████████████████████████████████████████████████| 3/3 [00:00<00:00, 345.20it/s]\n"
     ]
    },
    {
     "name": "stdout",
     "output_type": "stream",
     "text": [
      "2.7229785919189453 , 2.5632397627982844  , 6 , 1 , 1 , Minute , questdb , SELECT ((SUM(s<sid1> * s<sid2>) - (SUM(s<sid1>) * SUM(s<sid2>)) / COUNT())) / (SQRT(SUM(s<sid1> * s<sid1>) - (SUM(s<sid1>) * SUM (s<sid1>)) / COUNT()) * SQRT(SUM(s<sid2> * s<sid2>) - (SUM(s<sid2>) * SUM(s<sid2>)) / COUNT() )) AS pearson_corr FROM d1 WHERE  id_station=<stid> AND ts < '<timestamp>' AND ts >  '<timestamp>' - <range>*<rangesUnit>* 1000000L;\n",
      "\n"
     ]
    },
    {
     "name": "stderr",
     "output_type": "stream",
     "text": [
      "100%|████████████████████████████████████████████████████████████████████████████████████████████████████████████████████████| 3/3 [00:00<00:00, 360.44it/s]\n"
     ]
    },
    {
     "name": "stdout",
     "output_type": "stream",
     "text": [
      "2.5610923767089844 , 1.2264665365658893  , 6 , 1 , 1 , Hour , questdb , SELECT ((SUM(s<sid1> * s<sid2>) - (SUM(s<sid1>) * SUM(s<sid2>)) / COUNT())) / (SQRT(SUM(s<sid1> * s<sid1>) - (SUM(s<sid1>) * SUM (s<sid1>)) / COUNT()) * SQRT(SUM(s<sid2> * s<sid2>) - (SUM(s<sid2>) * SUM(s<sid2>)) / COUNT() )) AS pearson_corr FROM d1 WHERE  id_station=<stid> AND ts < '<timestamp>' AND ts >  '<timestamp>' - <range>*<rangesUnit>* 1000000L;\n",
      "\n"
     ]
    },
    {
     "name": "stderr",
     "output_type": "stream",
     "text": [
      "100%|████████████████████████████████████████████████████████████████████████████████████████████████████████████████████████| 3/3 [00:00<00:00, 156.43it/s]\n"
     ]
    },
    {
     "name": "stdout",
     "output_type": "stream",
     "text": [
      "6.137450536092122 , 2.4893338799785125  , 6 , 1 , 1 , Day , questdb , SELECT ((SUM(s<sid1> * s<sid2>) - (SUM(s<sid1>) * SUM(s<sid2>)) / COUNT())) / (SQRT(SUM(s<sid1> * s<sid1>) - (SUM(s<sid1>) * SUM (s<sid1>)) / COUNT()) * SQRT(SUM(s<sid2> * s<sid2>) - (SUM(s<sid2>) * SUM(s<sid2>)) / COUNT() )) AS pearson_corr FROM d1 WHERE  id_station=<stid> AND ts < '<timestamp>' AND ts >  '<timestamp>' - <range>*<rangesUnit>* 1000000L;\n",
      "\n"
     ]
    },
    {
     "name": "stderr",
     "output_type": "stream",
     "text": [
      "100%|█████████████████████████████████████████████████████████████████████████████████████████████████████████████████████████| 3/3 [00:00<00:00, 66.92it/s]\n"
     ]
    },
    {
     "name": "stdout",
     "output_type": "stream",
     "text": [
      "14.608144760131836 , 2.6529487527450843  , 6 , 1 , 1 , Week , questdb , SELECT ((SUM(s<sid1> * s<sid2>) - (SUM(s<sid1>) * SUM(s<sid2>)) / COUNT())) / (SQRT(SUM(s<sid1> * s<sid1>) - (SUM(s<sid1>) * SUM (s<sid1>)) / COUNT()) * SQRT(SUM(s<sid2> * s<sid2>) - (SUM(s<sid2>) * SUM(s<sid2>)) / COUNT() )) AS pearson_corr FROM d1 WHERE  id_station=<stid> AND ts < '<timestamp>' AND ts >  '<timestamp>' - <range>*<rangesUnit>* 1000000L;\n",
      "\n"
     ]
    },
    {
     "name": "stderr",
     "output_type": "stream",
     "text": [
      "100%|█████████████████████████████████████████████████████████████████████████████████████████████████████████████████████████| 3/3 [00:00<00:00, 21.37it/s]\n"
     ]
    },
    {
     "name": "stdout",
     "output_type": "stream",
     "text": [
      "45.92974980672201 , 3.0270812274493237  , 6 , 1 , 1 , Month , questdb , SELECT ((SUM(s<sid1> * s<sid2>) - (SUM(s<sid1>) * SUM(s<sid2>)) / COUNT())) / (SQRT(SUM(s<sid1> * s<sid1>) - (SUM(s<sid1>) * SUM (s<sid1>)) / COUNT()) * SQRT(SUM(s<sid2> * s<sid2>) - (SUM(s<sid2>) * SUM(s<sid2>)) / COUNT() )) AS pearson_corr FROM d1 WHERE  id_station=<stid> AND ts < '<timestamp>' AND ts >  '<timestamp>' - <range>*<rangesUnit>* 1000000L;\n",
      "\n",
      "/home/luca/test/TSM-Bench/systems/questdb/run_system.py\n",
      "changing directory to /home/luca/test/TSM-Bench/systems/questdb\n",
      "/home/luca/test/TSM-Bench/systems/clickhouse/run_system.py\n",
      "changing directory to /home/luca/test/TSM-Bench/systems/clickhouse\n",
      "[\"select time, id_station, <sid> FROM <db> where id_station in <stid> AND time > TIMESTAMP '<timestamp>' - INTERVAL '<range>' <rangesUnit> AND time < TIMESTAMP '<timestamp>';\", \"select time, id_station, <sid> FROM <db> where id_station in <stid> AND time > TIMESTAMP '<timestamp>' - INTERVAL '<range>' <rangesUnit> AND time < TIMESTAMP '<timestamp>' and <sfilter>;\", \"SELECT id_station, <avg_s> FROM <db> WHERE time > TIMESTAMP '<timestamp>' - INTERVAL '<range>' <rangesUnit> AND time < TIMESTAMP '<timestamp>' AND id_station in <stid> GROUP BY id_station;\", 'SELECT id_station, EXTRACT(YEAR FROM time) AS \"year\", date_trunc(\\'month\\', time) AS \"month\", date_trunc(\\'day\\', time) AS \"day\", date_trunc(\\'hour\\', time) AS \"hour\", <avg_s> FROM <db> where  time > TIMESTAMP \\'<timestamp>\\' - INTERVAL \\'<range>\\' <rangesUnit> AND time < TIMESTAMP \\'<timestamp>\\' AND id_station in <stid> GROUP BY id_station, \"year\", \"month\", \"day\", \"hour\";', \"select time, id_station, <sid> FROM <db> where id_station in <stid> AND time > TIMESTAMP '<timestamp>' - INTERVAL '<range>' <rangesUnit> AND time < TIMESTAMP '<timestamp>' ORDER BY  time ASC WITH FILL STEP 5 INTERPOLATE ( <sid>, id_station AS id_station );\", \"with data1 as ( select time, s<sid1> as s_1, s<sid2> as s_2 from <db> WHERE time > TIMESTAMP '<timestamp>' - INTERVAL '<range>' <rangesUnit> AND time < TIMESTAMP '<timestamp>' AND id_station in <stid> ) select data1.time, s_1, s_2, (s_1 + s_2)/2 as avg from data1;\", \"SELECT corr(s<sid1>, s<sid2>) FROM <db> WHERE id_station in <stid> AND time > TIMESTAMP '<timestamp>' - INTERVAL '<range>' <rangesUnit> AND time < TIMESTAMP '<timestamp>';\", '']\n"
     ]
    },
    {
     "name": "stderr",
     "output_type": "stream",
     "text": [
      "100%|█████████████████████████████████████████████████████████████████████████████████████████████████████████████████████████| 3/3 [00:00<00:00, 71.83it/s]\n"
     ]
    },
    {
     "name": "stdout",
     "output_type": "stream",
     "text": [
      "13.55274518330892 , 8.309641980094128  , 0 , 1 , 1 , Minute , clickhouse , select time, id_station, <sid> FROM d1 where id_station in <stid> AND time > TIMESTAMP '<timestamp>' - INTERVAL '<range>' <rangesUnit> AND time < TIMESTAMP '<timestamp>';\n",
      "\n"
     ]
    },
    {
     "name": "stderr",
     "output_type": "stream",
     "text": [
      "100%|█████████████████████████████████████████████████████████████████████████████████████████████████████████████████████████| 3/3 [00:00<00:00, 73.83it/s]\n"
     ]
    },
    {
     "name": "stdout",
     "output_type": "stream",
     "text": [
      "13.303836186726889 , 0.9780345197604812  , 0 , 1 , 1 , Hour , clickhouse , select time, id_station, <sid> FROM d1 where id_station in <stid> AND time > TIMESTAMP '<timestamp>' - INTERVAL '<range>' <rangesUnit> AND time < TIMESTAMP '<timestamp>';\n",
      "\n"
     ]
    },
    {
     "name": "stderr",
     "output_type": "stream",
     "text": [
      "100%|█████████████████████████████████████████████████████████████████████████████████████████████████████████████████████████| 3/3 [00:00<00:00, 20.97it/s]\n"
     ]
    },
    {
     "name": "stdout",
     "output_type": "stream",
     "text": [
      "47.146876653035484 , 7.284046265459107  , 0 , 1 , 1 , Day , clickhouse , select time, id_station, <sid> FROM d1 where id_station in <stid> AND time > TIMESTAMP '<timestamp>' - INTERVAL '<range>' <rangesUnit> AND time < TIMESTAMP '<timestamp>';\n",
      "\n"
     ]
    },
    {
     "name": "stderr",
     "output_type": "stream",
     "text": [
      "100%|█████████████████████████████████████████████████████████████████████████████████████████████████████████████████████████| 3/3 [00:00<00:00,  4.72it/s]\n"
     ]
    },
    {
     "name": "stdout",
     "output_type": "stream",
     "text": [
      "210.04080772399902 , 11.331971657617935  , 0 , 1 , 1 , Week , clickhouse , select time, id_station, <sid> FROM d1 where id_station in <stid> AND time > TIMESTAMP '<timestamp>' - INTERVAL '<range>' <rangesUnit> AND time < TIMESTAMP '<timestamp>';\n",
      "\n"
     ]
    },
    {
     "name": "stderr",
     "output_type": "stream",
     "text": [
      "100%|█████████████████████████████████████████████████████████████████████████████████████████████████████████████████████████| 3/3 [00:02<00:00,  1.17it/s]\n"
     ]
    },
    {
     "name": "stdout",
     "output_type": "stream",
     "text": [
      "851.9968191782633 , 13.600303422518007  , 0 , 1 , 1 , Month , clickhouse , select time, id_station, <sid> FROM d1 where id_station in <stid> AND time > TIMESTAMP '<timestamp>' - INTERVAL '<range>' <rangesUnit> AND time < TIMESTAMP '<timestamp>';\n",
      "\n"
     ]
    },
    {
     "name": "stderr",
     "output_type": "stream",
     "text": [
      "100%|████████████████████████████████████████████████████████████████████████████████████████████████████████████████████████| 3/3 [00:00<00:00, 113.72it/s]\n"
     ]
    },
    {
     "name": "stdout",
     "output_type": "stream",
     "text": [
      "8.53268305460612 , 4.21453576549614  , 1 , 1 , 1 , Minute , clickhouse , select time, id_station, <sid> FROM d1 where id_station in <stid> AND time > TIMESTAMP '<timestamp>' - INTERVAL '<range>' <rangesUnit> AND time < TIMESTAMP '<timestamp>' and <sfilter>;\n",
      "\n"
     ]
    },
    {
     "name": "stderr",
     "output_type": "stream",
     "text": [
      "100%|████████████████████████████████████████████████████████████████████████████████████████████████████████████████████████| 3/3 [00:00<00:00, 116.31it/s]\n"
     ]
    },
    {
     "name": "stdout",
     "output_type": "stream",
     "text": [
      "8.431116739908854 , 0.035053477572154136  , 1 , 1 , 1 , Hour , clickhouse , select time, id_station, <sid> FROM d1 where id_station in <stid> AND time > TIMESTAMP '<timestamp>' - INTERVAL '<range>' <rangesUnit> AND time < TIMESTAMP '<timestamp>' and <sfilter>;\n",
      "\n"
     ]
    },
    {
     "name": "stderr",
     "output_type": "stream",
     "text": [
      "100%|█████████████████████████████████████████████████████████████████████████████████████████████████████████████████████████| 3/3 [00:00<00:00, 74.93it/s]\n"
     ]
    },
    {
     "name": "stdout",
     "output_type": "stream",
     "text": [
      "13.115326563517252 , 1.3022114251172874  , 1 , 1 , 1 , Day , clickhouse , select time, id_station, <sid> FROM d1 where id_station in <stid> AND time > TIMESTAMP '<timestamp>' - INTERVAL '<range>' <rangesUnit> AND time < TIMESTAMP '<timestamp>' and <sfilter>;\n",
      "\n"
     ]
    },
    {
     "name": "stderr",
     "output_type": "stream",
     "text": [
      "100%|█████████████████████████████████████████████████████████████████████████████████████████████████████████████████████████| 3/3 [00:00<00:00, 33.38it/s]\n"
     ]
    },
    {
     "name": "stdout",
     "output_type": "stream",
     "text": [
      "29.726425806681316 , 6.521394967479187  , 1 , 1 , 1 , Week , clickhouse , select time, id_station, <sid> FROM d1 where id_station in <stid> AND time > TIMESTAMP '<timestamp>' - INTERVAL '<range>' <rangesUnit> AND time < TIMESTAMP '<timestamp>' and <sfilter>;\n",
      "\n"
     ]
    },
    {
     "name": "stderr",
     "output_type": "stream",
     "text": [
      "100%|█████████████████████████████████████████████████████████████████████████████████████████████████████████████████████████| 3/3 [00:00<00:00, 12.26it/s]\n"
     ]
    },
    {
     "name": "stdout",
     "output_type": "stream",
     "text": [
      "80.84758122762044 , 5.909813635073039  , 1 , 1 , 1 , Month , clickhouse , select time, id_station, <sid> FROM d1 where id_station in <stid> AND time > TIMESTAMP '<timestamp>' - INTERVAL '<range>' <rangesUnit> AND time < TIMESTAMP '<timestamp>' and <sfilter>;\n",
      "\n"
     ]
    },
    {
     "name": "stderr",
     "output_type": "stream",
     "text": [
      "100%|█████████████████████████████████████████████████████████████████████████████████████████████████████████████████████████| 3/3 [00:00<00:00, 92.28it/s]\n"
     ]
    },
    {
     "name": "stdout",
     "output_type": "stream",
     "text": [
      "10.59428850809733 , 3.236005604418686  , 2 , 1 , 1 , Minute , clickhouse , SELECT id_station, <avg_s> FROM d1 WHERE time > TIMESTAMP '<timestamp>' - INTERVAL '<range>' <rangesUnit> AND time < TIMESTAMP '<timestamp>' AND id_station in <stid> GROUP BY id_station;\n",
      "\n"
     ]
    },
    {
     "name": "stderr",
     "output_type": "stream",
     "text": [
      "100%|█████████████████████████████████████████████████████████████████████████████████████████████████████████████████████████| 3/3 [00:00<00:00, 46.11it/s]\n"
     ]
    },
    {
     "name": "stdout",
     "output_type": "stream",
     "text": [
      "21.37303352355957 , 22.246159311028563  , 2 , 1 , 1 , Hour , clickhouse , SELECT id_station, <avg_s> FROM d1 WHERE time > TIMESTAMP '<timestamp>' - INTERVAL '<range>' <rangesUnit> AND time < TIMESTAMP '<timestamp>' AND id_station in <stid> GROUP BY id_station;\n",
      "\n"
     ]
    },
    {
     "name": "stderr",
     "output_type": "stream",
     "text": [
      "100%|█████████████████████████████████████████████████████████████████████████████████████████████████████████████████████████| 3/3 [00:00<00:00, 80.48it/s]\n"
     ]
    },
    {
     "name": "stdout",
     "output_type": "stream",
     "text": [
      "12.20560073852539 , 1.1324644588179802  , 2 , 1 , 1 , Day , clickhouse , SELECT id_station, <avg_s> FROM d1 WHERE time > TIMESTAMP '<timestamp>' - INTERVAL '<range>' <rangesUnit> AND time < TIMESTAMP '<timestamp>' AND id_station in <stid> GROUP BY id_station;\n",
      "\n"
     ]
    },
    {
     "name": "stderr",
     "output_type": "stream",
     "text": [
      "100%|█████████████████████████████████████████████████████████████████████████████████████████████████████████████████████████| 3/3 [00:00<00:00, 57.17it/s]\n"
     ]
    },
    {
     "name": "stdout",
     "output_type": "stream",
     "text": [
      "17.214616139729817 , 2.5590397642393805  , 2 , 1 , 1 , Week , clickhouse , SELECT id_station, <avg_s> FROM d1 WHERE time > TIMESTAMP '<timestamp>' - INTERVAL '<range>' <rangesUnit> AND time < TIMESTAMP '<timestamp>' AND id_station in <stid> GROUP BY id_station;\n",
      "\n"
     ]
    },
    {
     "name": "stderr",
     "output_type": "stream",
     "text": [
      "100%|█████████████████████████████████████████████████████████████████████████████████████████████████████████████████████████| 3/3 [00:00<00:00, 28.83it/s]\n"
     ]
    },
    {
     "name": "stdout",
     "output_type": "stream",
     "text": [
      "33.80322456359863 , 8.073012329436104  , 2 , 1 , 1 , Month , clickhouse , SELECT id_station, <avg_s> FROM d1 WHERE time > TIMESTAMP '<timestamp>' - INTERVAL '<range>' <rangesUnit> AND time < TIMESTAMP '<timestamp>' AND id_station in <stid> GROUP BY id_station;\n",
      "\n"
     ]
    },
    {
     "name": "stderr",
     "output_type": "stream",
     "text": [
      "100%|█████████████████████████████████████████████████████████████████████████████████████████████████████████████████████████| 3/3 [00:00<00:00, 93.72it/s]\n"
     ]
    },
    {
     "name": "stdout",
     "output_type": "stream",
     "text": [
      "10.496218999226889 , 3.5485481920914173  , 3 , 1 , 1 , Minute , clickhouse , SELECT id_station, EXTRACT(YEAR FROM time) AS \"year\", date_trunc('month', time) AS \"month\", date_trunc('day', time) AS \"day\", date_trunc('hour', time) AS \"hour\", <avg_s> FROM d1 where  time > TIMESTAMP '<timestamp>' - INTERVAL '<range>' <rangesUnit> AND time < TIMESTAMP '<timestamp>' AND id_station in <stid> GROUP BY id_station, \"year\", \"month\", \"day\", \"hour\";\n",
      "\n"
     ]
    },
    {
     "name": "stderr",
     "output_type": "stream",
     "text": [
      "100%|████████████████████████████████████████████████████████████████████████████████████████████████████████████████████████| 3/3 [00:00<00:00, 100.93it/s]\n"
     ]
    },
    {
     "name": "stdout",
     "output_type": "stream",
     "text": [
      "9.773572285970053 , 1.2793932907071042  , 3 , 1 , 1 , Hour , clickhouse , SELECT id_station, EXTRACT(YEAR FROM time) AS \"year\", date_trunc('month', time) AS \"month\", date_trunc('day', time) AS \"day\", date_trunc('hour', time) AS \"hour\", <avg_s> FROM d1 where  time > TIMESTAMP '<timestamp>' - INTERVAL '<range>' <rangesUnit> AND time < TIMESTAMP '<timestamp>' AND id_station in <stid> GROUP BY id_station, \"year\", \"month\", \"day\", \"hour\";\n",
      "\n"
     ]
    },
    {
     "name": "stderr",
     "output_type": "stream",
     "text": [
      "100%|█████████████████████████████████████████████████████████████████████████████████████████████████████████████████████████| 3/3 [00:00<00:00, 62.65it/s]\n"
     ]
    },
    {
     "name": "stdout",
     "output_type": "stream",
     "text": [
      "15.783071517944336 , 1.3647861053469945  , 3 , 1 , 1 , Day , clickhouse , SELECT id_station, EXTRACT(YEAR FROM time) AS \"year\", date_trunc('month', time) AS \"month\", date_trunc('day', time) AS \"day\", date_trunc('hour', time) AS \"hour\", <avg_s> FROM d1 where  time > TIMESTAMP '<timestamp>' - INTERVAL '<range>' <rangesUnit> AND time < TIMESTAMP '<timestamp>' AND id_station in <stid> GROUP BY id_station, \"year\", \"month\", \"day\", \"hour\";\n",
      "\n"
     ]
    },
    {
     "name": "stderr",
     "output_type": "stream",
     "text": [
      "100%|█████████████████████████████████████████████████████████████████████████████████████████████████████████████████████████| 3/3 [00:00<00:00, 34.06it/s]\n"
     ]
    },
    {
     "name": "stdout",
     "output_type": "stream",
     "text": [
      "29.13347880045573 , 3.3849048795107333  , 3 , 1 , 1 , Week , clickhouse , SELECT id_station, EXTRACT(YEAR FROM time) AS \"year\", date_trunc('month', time) AS \"month\", date_trunc('day', time) AS \"day\", date_trunc('hour', time) AS \"hour\", <avg_s> FROM d1 where  time > TIMESTAMP '<timestamp>' - INTERVAL '<range>' <rangesUnit> AND time < TIMESTAMP '<timestamp>' AND id_station in <stid> GROUP BY id_station, \"year\", \"month\", \"day\", \"hour\";\n",
      "\n"
     ]
    },
    {
     "name": "stderr",
     "output_type": "stream",
     "text": [
      "100%|█████████████████████████████████████████████████████████████████████████████████████████████████████████████████████████| 3/3 [00:00<00:00, 18.33it/s]\n"
     ]
    },
    {
     "name": "stdout",
     "output_type": "stream",
     "text": [
      "53.78452936808268 , 2.833149457064272  , 3 , 1 , 1 , Month , clickhouse , SELECT id_station, EXTRACT(YEAR FROM time) AS \"year\", date_trunc('month', time) AS \"month\", date_trunc('day', time) AS \"day\", date_trunc('hour', time) AS \"hour\", <avg_s> FROM d1 where  time > TIMESTAMP '<timestamp>' - INTERVAL '<range>' <rangesUnit> AND time < TIMESTAMP '<timestamp>' AND id_station in <stid> GROUP BY id_station, \"year\", \"month\", \"day\", \"hour\";\n",
      "\n"
     ]
    },
    {
     "name": "stderr",
     "output_type": "stream",
     "text": [
      "100%|████████████████████████████████████████████████████████████████████████████████████████████████████████████████████████| 3/3 [00:00<00:00, 110.11it/s]\n"
     ]
    },
    {
     "name": "stdout",
     "output_type": "stream",
     "text": [
      "8.89730453491211 , 1.8096909197088553  , 4 , 1 , 1 , Minute , clickhouse , select time, id_station, <sid> FROM d1 where id_station in <stid> AND time > TIMESTAMP '<timestamp>' - INTERVAL '<range>' <rangesUnit> AND time < TIMESTAMP '<timestamp>' ORDER BY  time ASC WITH FILL STEP 5 INTERPOLATE ( <sid>, id_station AS id_station );\n",
      "\n"
     ]
    },
    {
     "name": "stderr",
     "output_type": "stream",
     "text": [
      "100%|█████████████████████████████████████████████████████████████████████████████████████████████████████████████████████████| 3/3 [00:00<00:00, 70.15it/s]\n"
     ]
    },
    {
     "name": "stdout",
     "output_type": "stream",
     "text": [
      "14.014959335327148 , 0.5795970369082587  , 4 , 1 , 1 , Hour , clickhouse , select time, id_station, <sid> FROM d1 where id_station in <stid> AND time > TIMESTAMP '<timestamp>' - INTERVAL '<range>' <rangesUnit> AND time < TIMESTAMP '<timestamp>' ORDER BY  time ASC WITH FILL STEP 5 INTERPOLATE ( <sid>, id_station AS id_station );\n",
      "\n"
     ]
    },
    {
     "name": "stderr",
     "output_type": "stream",
     "text": [
      "100%|█████████████████████████████████████████████████████████████████████████████████████████████████████████████████████████| 3/3 [00:00<00:00, 12.27it/s]\n"
     ]
    },
    {
     "name": "stdout",
     "output_type": "stream",
     "text": [
      "80.9030532836914 , 3.2642430636781516  , 4 , 1 , 1 , Day , clickhouse , select time, id_station, <sid> FROM d1 where id_station in <stid> AND time > TIMESTAMP '<timestamp>' - INTERVAL '<range>' <rangesUnit> AND time < TIMESTAMP '<timestamp>' ORDER BY  time ASC WITH FILL STEP 5 INTERPOLATE ( <sid>, id_station AS id_station );\n",
      "\n"
     ]
    },
    {
     "name": "stderr",
     "output_type": "stream",
     "text": [
      "100%|█████████████████████████████████████████████████████████████████████████████████████████████████████████████████████████| 3/3 [00:01<00:00,  2.45it/s]\n"
     ]
    },
    {
     "name": "stdout",
     "output_type": "stream",
     "text": [
      "405.716339747111 , 8.636807938539752  , 4 , 1 , 1 , Week , clickhouse , select time, id_station, <sid> FROM d1 where id_station in <stid> AND time > TIMESTAMP '<timestamp>' - INTERVAL '<range>' <rangesUnit> AND time < TIMESTAMP '<timestamp>' ORDER BY  time ASC WITH FILL STEP 5 INTERPOLATE ( <sid>, id_station AS id_station );\n",
      "\n"
     ]
    },
    {
     "name": "stderr",
     "output_type": "stream",
     "text": [
      "100%|█████████████████████████████████████████████████████████████████████████████████████████████████████████████████████████| 3/3 [00:05<00:00,  1.69s/it]\n"
     ]
    },
    {
     "name": "stdout",
     "output_type": "stream",
     "text": [
      "1689.2464955647786 , 30.029796662008824  , 4 , 1 , 1 , Month , clickhouse , select time, id_station, <sid> FROM d1 where id_station in <stid> AND time > TIMESTAMP '<timestamp>' - INTERVAL '<range>' <rangesUnit> AND time < TIMESTAMP '<timestamp>' ORDER BY  time ASC WITH FILL STEP 5 INTERPOLATE ( <sid>, id_station AS id_station );\n",
      "\n"
     ]
    },
    {
     "name": "stderr",
     "output_type": "stream",
     "text": [
      "100%|█████████████████████████████████████████████████████████████████████████████████████████████████████████████████████████| 3/3 [00:00<00:00, 81.97it/s]\n"
     ]
    },
    {
     "name": "stdout",
     "output_type": "stream",
     "text": [
      "11.849482854207357 , 4.4675900553885315  , 5 , 1 , 1 , Minute , clickhouse , with data1 as ( select time, s<sid1> as s_1, s<sid2> as s_2 from d1 WHERE time > TIMESTAMP '<timestamp>' - INTERVAL '<range>' <rangesUnit> AND time < TIMESTAMP '<timestamp>' AND id_station in <stid> ) select data1.time, s_1, s_2, (s_1 + s_2)/2 as avg from data1;\n",
      "\n"
     ]
    },
    {
     "name": "stderr",
     "output_type": "stream",
     "text": [
      "100%|█████████████████████████████████████████████████████████████████████████████████████████████████████████████████████████| 3/3 [00:00<00:00, 73.02it/s]\n"
     ]
    },
    {
     "name": "stdout",
     "output_type": "stream",
     "text": [
      "13.442516326904297 , 0.20162389807737158  , 5 , 1 , 1 , Hour , clickhouse , with data1 as ( select time, s<sid1> as s_1, s<sid2> as s_2 from d1 WHERE time > TIMESTAMP '<timestamp>' - INTERVAL '<range>' <rangesUnit> AND time < TIMESTAMP '<timestamp>' AND id_station in <stid> ) select data1.time, s_1, s_2, (s_1 + s_2)/2 as avg from data1;\n",
      "\n"
     ]
    },
    {
     "name": "stderr",
     "output_type": "stream",
     "text": [
      "100%|█████████████████████████████████████████████████████████████████████████████████████████████████████████████████████████| 3/3 [00:00<00:00, 19.84it/s]\n"
     ]
    },
    {
     "name": "stdout",
     "output_type": "stream",
     "text": [
      "49.9119758605957 , 3.4744822479067365  , 5 , 1 , 1 , Day , clickhouse , with data1 as ( select time, s<sid1> as s_1, s<sid2> as s_2 from d1 WHERE time > TIMESTAMP '<timestamp>' - INTERVAL '<range>' <rangesUnit> AND time < TIMESTAMP '<timestamp>' AND id_station in <stid> ) select data1.time, s_1, s_2, (s_1 + s_2)/2 as avg from data1;\n",
      "\n"
     ]
    },
    {
     "name": "stderr",
     "output_type": "stream",
     "text": [
      "100%|█████████████████████████████████████████████████████████████████████████████████████████████████████████████████████████| 3/3 [00:00<00:00,  5.01it/s]\n"
     ]
    },
    {
     "name": "stdout",
     "output_type": "stream",
     "text": [
      "198.1222629547119 , 0.532912619214289  , 5 , 1 , 1 , Week , clickhouse , with data1 as ( select time, s<sid1> as s_1, s<sid2> as s_2 from d1 WHERE time > TIMESTAMP '<timestamp>' - INTERVAL '<range>' <rangesUnit> AND time < TIMESTAMP '<timestamp>' AND id_station in <stid> ) select data1.time, s_1, s_2, (s_1 + s_2)/2 as avg from data1;\n",
      "\n"
     ]
    },
    {
     "name": "stderr",
     "output_type": "stream",
     "text": [
      "100%|█████████████████████████████████████████████████████████████████████████████████████████████████████████████████████████| 3/3 [00:02<00:00,  1.14it/s]\n"
     ]
    },
    {
     "name": "stdout",
     "output_type": "stream",
     "text": [
      "877.2197564442953 , 11.143440317498975  , 5 , 1 , 1 , Month , clickhouse , with data1 as ( select time, s<sid1> as s_1, s<sid2> as s_2 from d1 WHERE time > TIMESTAMP '<timestamp>' - INTERVAL '<range>' <rangesUnit> AND time < TIMESTAMP '<timestamp>' AND id_station in <stid> ) select data1.time, s_1, s_2, (s_1 + s_2)/2 as avg from data1;\n",
      "\n"
     ]
    },
    {
     "name": "stderr",
     "output_type": "stream",
     "text": [
      "100%|█████████████████████████████████████████████████████████████████████████████████████████████████████████████████████████| 3/3 [00:00<00:00, 88.52it/s]\n"
     ]
    },
    {
     "name": "stdout",
     "output_type": "stream",
     "text": [
      "11.034488677978516 , 4.182310030063254  , 6 , 1 , 1 , Minute , clickhouse , SELECT corr(s<sid1>, s<sid2>) FROM d1 WHERE id_station in <stid> AND time > TIMESTAMP '<timestamp>' - INTERVAL '<range>' <rangesUnit> AND time < TIMESTAMP '<timestamp>';\n",
      "\n"
     ]
    },
    {
     "name": "stderr",
     "output_type": "stream",
     "text": [
      "100%|████████████████████████████████████████████████████████████████████████████████████████████████████████████████████████| 3/3 [00:00<00:00, 104.74it/s]\n"
     ]
    },
    {
     "name": "stdout",
     "output_type": "stream",
     "text": [
      "9.3839963277181 , 1.8720415850273295  , 6 , 1 , 1 , Hour , clickhouse , SELECT corr(s<sid1>, s<sid2>) FROM d1 WHERE id_station in <stid> AND time > TIMESTAMP '<timestamp>' - INTERVAL '<range>' <rangesUnit> AND time < TIMESTAMP '<timestamp>';\n",
      "\n"
     ]
    },
    {
     "name": "stderr",
     "output_type": "stream",
     "text": [
      "100%|█████████████████████████████████████████████████████████████████████████████████████████████████████████████████████████| 3/3 [00:00<00:00, 80.43it/s]\n"
     ]
    },
    {
     "name": "stdout",
     "output_type": "stream",
     "text": [
      "12.183268864949545 , 1.1423553806518734  , 6 , 1 , 1 , Day , clickhouse , SELECT corr(s<sid1>, s<sid2>) FROM d1 WHERE id_station in <stid> AND time > TIMESTAMP '<timestamp>' - INTERVAL '<range>' <rangesUnit> AND time < TIMESTAMP '<timestamp>';\n",
      "\n"
     ]
    },
    {
     "name": "stderr",
     "output_type": "stream",
     "text": [
      "100%|█████████████████████████████████████████████████████████████████████████████████████████████████████████████████████████| 3/3 [00:00<00:00, 60.03it/s]\n"
     ]
    },
    {
     "name": "stdout",
     "output_type": "stream",
     "text": [
      "16.43967628479004 , 3.1578868952104964  , 6 , 1 , 1 , Week , clickhouse , SELECT corr(s<sid1>, s<sid2>) FROM d1 WHERE id_station in <stid> AND time > TIMESTAMP '<timestamp>' - INTERVAL '<range>' <rangesUnit> AND time < TIMESTAMP '<timestamp>';\n",
      "\n"
     ]
    },
    {
     "name": "stderr",
     "output_type": "stream",
     "text": [
      "100%|█████████████████████████████████████████████████████████████████████████████████████████████████████████████████████████| 3/3 [00:00<00:00, 26.43it/s]\n"
     ]
    },
    {
     "name": "stdout",
     "output_type": "stream",
     "text": [
      "37.17223803202311 , 0.47565733464350174  , 6 , 1 , 1 , Month , clickhouse , SELECT corr(s<sid1>, s<sid2>) FROM d1 WHERE id_station in <stid> AND time > TIMESTAMP '<timestamp>' - INTERVAL '<range>' <rangesUnit> AND time < TIMESTAMP '<timestamp>';\n",
      "\n"
     ]
    },
    {
     "name": "stderr",
     "output_type": "stream",
     "text": [
      "  0%|                                                                                                                                 | 0/3 [00:00<?, ?it/s]\n"
     ]
    },
    {
     "ename": "OperationalError",
     "evalue": "Code: 62.\nDB::Exception: Empty query. Stack trace:\n\n0. DB::Exception::Exception(DB::Exception::MessageMasked&&, int, bool) @ 0x000000000c741d97 in /usr/bin/clickhouse\n1. DB::Exception::createDeprecated(String const&, int, bool) @ 0x00000000075c238d in /usr/bin/clickhouse\n2. DB::parseQueryAndMovePosition(DB::IParser&, char const*&, char const*, String const&, bool, unsigned long, unsigned long) @ 0x0000000013b0427c in /usr/bin/clickhouse\n3. DB::executeQueryImpl(char const*, char const*, std::shared_ptr<DB::Context>, bool, DB::QueryProcessingStage::Enum, DB::ReadBuffer*) @ 0x0000000012492314 in /usr/bin/clickhouse\n4. DB::executeQuery(String const&, std::shared_ptr<DB::Context>, bool, DB::QueryProcessingStage::Enum) @ 0x000000001249181c in /usr/bin/clickhouse\n5. DB::TCPHandler::runImpl() @ 0x00000000133197ec in /usr/bin/clickhouse\n6. DB::TCPHandler::run() @ 0x000000001332bc79 in /usr/bin/clickhouse\n7. Poco::Net::TCPServerConnection::start() @ 0x0000000015d0eb14 in /usr/bin/clickhouse\n8. Poco::Net::TCPServerDispatcher::run() @ 0x0000000015d0fd11 in /usr/bin/clickhouse\n9. Poco::PooledThread::run() @ 0x0000000015e1b367 in /usr/bin/clickhouse\n10. Poco::ThreadImpl::runnableEntry(void*) @ 0x0000000015e195fc in /usr/bin/clickhouse\n11. ? @ 0x00007f1cb8a50609 in ?\n12. ? @ 0x00007f1cb8975133 in ?\n",
     "output_type": "error",
     "traceback": [
      "\u001b[0;31m---------------------------------------------------------------------------\u001b[0m",
      "\u001b[0;31mServerException\u001b[0m                           Traceback (most recent call last)",
      "File \u001b[0;32m~/test/TSM-Bench/systems/TSMvenv/lib/python3.8/site-packages/clickhouse_driver/dbapi/cursor.py:111\u001b[0m, in \u001b[0;36mCursor.execute\u001b[0;34m(self, operation, parameters)\u001b[0m\n\u001b[1;32m    109\u001b[0m     execute, execute_kwargs \u001b[38;5;241m=\u001b[39m \u001b[38;5;28mself\u001b[39m\u001b[38;5;241m.\u001b[39m_prepare()\n\u001b[0;32m--> 111\u001b[0m     response \u001b[38;5;241m=\u001b[39m \u001b[43mexecute\u001b[49m\u001b[43m(\u001b[49m\n\u001b[1;32m    112\u001b[0m \u001b[43m        \u001b[49m\u001b[43moperation\u001b[49m\u001b[43m,\u001b[49m\u001b[43m \u001b[49m\u001b[43mparams\u001b[49m\u001b[38;5;241;43m=\u001b[39;49m\u001b[43mparameters\u001b[49m\u001b[43m,\u001b[49m\u001b[43m \u001b[49m\u001b[43mwith_column_types\u001b[49m\u001b[38;5;241;43m=\u001b[39;49m\u001b[38;5;28;43;01mTrue\u001b[39;49;00m\u001b[43m,\u001b[49m\n\u001b[1;32m    113\u001b[0m \u001b[43m        \u001b[49m\u001b[38;5;241;43m*\u001b[39;49m\u001b[38;5;241;43m*\u001b[39;49m\u001b[43mexecute_kwargs\u001b[49m\n\u001b[1;32m    114\u001b[0m \u001b[43m    \u001b[49m\u001b[43m)\u001b[49m\n\u001b[1;32m    116\u001b[0m \u001b[38;5;28;01mexcept\u001b[39;00m DriverError \u001b[38;5;28;01mas\u001b[39;00m orig:\n",
      "File \u001b[0;32m~/test/TSM-Bench/systems/TSMvenv/lib/python3.8/site-packages/clickhouse_driver/client.py:373\u001b[0m, in \u001b[0;36mClient.execute\u001b[0;34m(self, query, params, with_column_types, external_tables, query_id, settings, types_check, columnar)\u001b[0m\n\u001b[1;32m    372\u001b[0m \u001b[38;5;28;01melse\u001b[39;00m:\n\u001b[0;32m--> 373\u001b[0m     rv \u001b[38;5;241m=\u001b[39m \u001b[38;5;28;43mself\u001b[39;49m\u001b[38;5;241;43m.\u001b[39;49m\u001b[43mprocess_ordinary_query\u001b[49m\u001b[43m(\u001b[49m\n\u001b[1;32m    374\u001b[0m \u001b[43m        \u001b[49m\u001b[43mquery\u001b[49m\u001b[43m,\u001b[49m\u001b[43m \u001b[49m\u001b[43mparams\u001b[49m\u001b[38;5;241;43m=\u001b[39;49m\u001b[43mparams\u001b[49m\u001b[43m,\u001b[49m\u001b[43m \u001b[49m\u001b[43mwith_column_types\u001b[49m\u001b[38;5;241;43m=\u001b[39;49m\u001b[43mwith_column_types\u001b[49m\u001b[43m,\u001b[49m\n\u001b[1;32m    375\u001b[0m \u001b[43m        \u001b[49m\u001b[43mexternal_tables\u001b[49m\u001b[38;5;241;43m=\u001b[39;49m\u001b[43mexternal_tables\u001b[49m\u001b[43m,\u001b[49m\n\u001b[1;32m    376\u001b[0m \u001b[43m        \u001b[49m\u001b[43mquery_id\u001b[49m\u001b[38;5;241;43m=\u001b[39;49m\u001b[43mquery_id\u001b[49m\u001b[43m,\u001b[49m\u001b[43m \u001b[49m\u001b[43mtypes_check\u001b[49m\u001b[38;5;241;43m=\u001b[39;49m\u001b[43mtypes_check\u001b[49m\u001b[43m,\u001b[49m\n\u001b[1;32m    377\u001b[0m \u001b[43m        \u001b[49m\u001b[43mcolumnar\u001b[49m\u001b[38;5;241;43m=\u001b[39;49m\u001b[43mcolumnar\u001b[49m\n\u001b[1;32m    378\u001b[0m \u001b[43m    \u001b[49m\u001b[43m)\u001b[49m\n\u001b[1;32m    379\u001b[0m \u001b[38;5;28mself\u001b[39m\u001b[38;5;241m.\u001b[39mlast_query\u001b[38;5;241m.\u001b[39mstore_elapsed(time() \u001b[38;5;241m-\u001b[39m start_time)\n",
      "File \u001b[0;32m~/test/TSM-Bench/systems/TSMvenv/lib/python3.8/site-packages/clickhouse_driver/client.py:571\u001b[0m, in \u001b[0;36mClient.process_ordinary_query\u001b[0;34m(self, query, params, with_column_types, external_tables, query_id, types_check, columnar)\u001b[0m\n\u001b[1;32m    569\u001b[0m \u001b[38;5;28mself\u001b[39m\u001b[38;5;241m.\u001b[39mconnection\u001b[38;5;241m.\u001b[39msend_external_tables(external_tables,\n\u001b[1;32m    570\u001b[0m                                      types_check\u001b[38;5;241m=\u001b[39mtypes_check)\n\u001b[0;32m--> 571\u001b[0m \u001b[38;5;28;01mreturn\u001b[39;00m \u001b[38;5;28;43mself\u001b[39;49m\u001b[38;5;241;43m.\u001b[39;49m\u001b[43mreceive_result\u001b[49m\u001b[43m(\u001b[49m\u001b[43mwith_column_types\u001b[49m\u001b[38;5;241;43m=\u001b[39;49m\u001b[43mwith_column_types\u001b[49m\u001b[43m,\u001b[49m\n\u001b[1;32m    572\u001b[0m \u001b[43m                           \u001b[49m\u001b[43mcolumnar\u001b[49m\u001b[38;5;241;43m=\u001b[39;49m\u001b[43mcolumnar\u001b[49m\u001b[43m)\u001b[49m\n",
      "File \u001b[0;32m~/test/TSM-Bench/systems/TSMvenv/lib/python3.8/site-packages/clickhouse_driver/client.py:204\u001b[0m, in \u001b[0;36mClient.receive_result\u001b[0;34m(self, with_column_types, progress, columnar)\u001b[0m\n\u001b[1;32m    201\u001b[0m result \u001b[38;5;241m=\u001b[39m \u001b[38;5;28mself\u001b[39m\u001b[38;5;241m.\u001b[39mquery_result_cls(\n\u001b[1;32m    202\u001b[0m     gen, with_column_types\u001b[38;5;241m=\u001b[39mwith_column_types, columnar\u001b[38;5;241m=\u001b[39mcolumnar\n\u001b[1;32m    203\u001b[0m )\n\u001b[0;32m--> 204\u001b[0m \u001b[38;5;28;01mreturn\u001b[39;00m \u001b[43mresult\u001b[49m\u001b[38;5;241;43m.\u001b[39;49m\u001b[43mget_result\u001b[49m\u001b[43m(\u001b[49m\u001b[43m)\u001b[49m\n",
      "File \u001b[0;32m~/test/TSM-Bench/systems/TSMvenv/lib/python3.8/site-packages/clickhouse_driver/result.py:50\u001b[0m, in \u001b[0;36mQueryResult.get_result\u001b[0;34m(self)\u001b[0m\n\u001b[1;32m     46\u001b[0m \u001b[38;5;250m\u001b[39m\u001b[38;5;124;03m\"\"\"\u001b[39;00m\n\u001b[1;32m     47\u001b[0m \u001b[38;5;124;03m:return: stored query result.\u001b[39;00m\n\u001b[1;32m     48\u001b[0m \u001b[38;5;124;03m\"\"\"\u001b[39;00m\n\u001b[0;32m---> 50\u001b[0m \u001b[38;5;28;01mfor\u001b[39;00m packet \u001b[38;5;129;01min\u001b[39;00m \u001b[38;5;28mself\u001b[39m\u001b[38;5;241m.\u001b[39mpacket_generator:\n\u001b[1;32m     51\u001b[0m     \u001b[38;5;28mself\u001b[39m\u001b[38;5;241m.\u001b[39mstore(packet)\n",
      "File \u001b[0;32m~/test/TSM-Bench/systems/TSMvenv/lib/python3.8/site-packages/clickhouse_driver/client.py:220\u001b[0m, in \u001b[0;36mClient.packet_generator\u001b[0;34m(self)\u001b[0m\n\u001b[1;32m    219\u001b[0m \u001b[38;5;28;01mtry\u001b[39;00m:\n\u001b[0;32m--> 220\u001b[0m     packet \u001b[38;5;241m=\u001b[39m \u001b[38;5;28;43mself\u001b[39;49m\u001b[38;5;241;43m.\u001b[39;49m\u001b[43mreceive_packet\u001b[49m\u001b[43m(\u001b[49m\u001b[43m)\u001b[49m\n\u001b[1;32m    221\u001b[0m     \u001b[38;5;28;01mif\u001b[39;00m \u001b[38;5;129;01mnot\u001b[39;00m packet:\n",
      "File \u001b[0;32m~/test/TSM-Bench/systems/TSMvenv/lib/python3.8/site-packages/clickhouse_driver/client.py:237\u001b[0m, in \u001b[0;36mClient.receive_packet\u001b[0;34m(self)\u001b[0m\n\u001b[1;32m    236\u001b[0m \u001b[38;5;28;01mif\u001b[39;00m packet\u001b[38;5;241m.\u001b[39mtype \u001b[38;5;241m==\u001b[39m ServerPacketTypes\u001b[38;5;241m.\u001b[39mEXCEPTION:\n\u001b[0;32m--> 237\u001b[0m     \u001b[38;5;28;01mraise\u001b[39;00m packet\u001b[38;5;241m.\u001b[39mexception\n\u001b[1;32m    239\u001b[0m \u001b[38;5;28;01melif\u001b[39;00m packet\u001b[38;5;241m.\u001b[39mtype \u001b[38;5;241m==\u001b[39m ServerPacketTypes\u001b[38;5;241m.\u001b[39mPROGRESS:\n",
      "\u001b[0;31mServerException\u001b[0m: Code: 62.\nDB::Exception: Empty query. Stack trace:\n\n0. DB::Exception::Exception(DB::Exception::MessageMasked&&, int, bool) @ 0x000000000c741d97 in /usr/bin/clickhouse\n1. DB::Exception::createDeprecated(String const&, int, bool) @ 0x00000000075c238d in /usr/bin/clickhouse\n2. DB::parseQueryAndMovePosition(DB::IParser&, char const*&, char const*, String const&, bool, unsigned long, unsigned long) @ 0x0000000013b0427c in /usr/bin/clickhouse\n3. DB::executeQueryImpl(char const*, char const*, std::shared_ptr<DB::Context>, bool, DB::QueryProcessingStage::Enum, DB::ReadBuffer*) @ 0x0000000012492314 in /usr/bin/clickhouse\n4. DB::executeQuery(String const&, std::shared_ptr<DB::Context>, bool, DB::QueryProcessingStage::Enum) @ 0x000000001249181c in /usr/bin/clickhouse\n5. DB::TCPHandler::runImpl() @ 0x00000000133197ec in /usr/bin/clickhouse\n6. DB::TCPHandler::run() @ 0x000000001332bc79 in /usr/bin/clickhouse\n7. Poco::Net::TCPServerConnection::start() @ 0x0000000015d0eb14 in /usr/bin/clickhouse\n8. Poco::Net::TCPServerDispatcher::run() @ 0x0000000015d0fd11 in /usr/bin/clickhouse\n9. Poco::PooledThread::run() @ 0x0000000015e1b367 in /usr/bin/clickhouse\n10. Poco::ThreadImpl::runnableEntry(void*) @ 0x0000000015e195fc in /usr/bin/clickhouse\n11. ? @ 0x00007f1cb8a50609 in ?\n12. ? @ 0x00007f1cb8975133 in ?\n",
      "\nDuring handling of the above exception, another exception occurred:\n",
      "\u001b[0;31mOperationalError\u001b[0m                          Traceback (most recent call last)",
      "Cell \u001b[0;32mIn[36], line 12\u001b[0m\n\u001b[1;32m     10\u001b[0m query \u001b[38;5;241m=\u001b[39m query\u001b[38;5;241m.\u001b[39mreplace(\u001b[38;5;124m\"\u001b[39m\u001b[38;5;124m<db>\u001b[39m\u001b[38;5;124m\"\u001b[39m, dataset)\n\u001b[1;32m     11\u001b[0m \u001b[38;5;28;01mfor\u001b[39;00m n_s, n_st, time_range \u001b[38;5;129;01min\u001b[39;00m scenarios:\n\u001b[0;32m---> 12\u001b[0m     time , var \u001b[38;5;241m=\u001b[39m \u001b[43msystem\u001b[49m\u001b[38;5;241;43m.\u001b[39;49m\u001b[43mrun_query\u001b[49m\u001b[43m(\u001b[49m\u001b[43mquery\u001b[49m\u001b[43m \u001b[49m\u001b[43m,\u001b[49m\u001b[43m \u001b[49m\u001b[43mrangeUnit\u001b[49m\u001b[38;5;241;43m=\u001b[39;49m\u001b[43mtime_range\u001b[49m\u001b[43m \u001b[49m\u001b[43m,\u001b[49m\u001b[43m \u001b[49m\u001b[43mrangeL\u001b[49m\u001b[43m \u001b[49m\u001b[38;5;241;43m=\u001b[39;49m\u001b[43m \u001b[49m\u001b[38;5;241;43m1\u001b[39;49m\u001b[43m \u001b[49m\u001b[43m,\u001b[49m\u001b[43m \u001b[49m\u001b[43mn_s\u001b[49m\u001b[38;5;241;43m=\u001b[39;49m\u001b[43mn_s\u001b[49m\u001b[43m \u001b[49m\u001b[43m,\u001b[49m\u001b[43m \u001b[49m\u001b[43mn_it\u001b[49m\u001b[38;5;241;43m=\u001b[39;49m\u001b[43mn_iter\u001b[49m\u001b[43m \u001b[49m\u001b[43m,\u001b[49m\u001b[43m \u001b[49m\u001b[43mn_st\u001b[49m\u001b[43m \u001b[49m\u001b[38;5;241;43m=\u001b[39;49m\u001b[43m \u001b[49m\u001b[43mn_st\u001b[49m\u001b[43m)\u001b[49m \n\u001b[1;32m     13\u001b[0m     \u001b[38;5;28;01mwith\u001b[39;00m \u001b[38;5;28mopen\u001b[39m(output_file, \u001b[38;5;124m\"\u001b[39m\u001b[38;5;124ma\u001b[39m\u001b[38;5;124m\"\u001b[39m) \u001b[38;5;28;01mas\u001b[39;00m file:\n\u001b[1;32m     14\u001b[0m         line \u001b[38;5;241m=\u001b[39m \u001b[38;5;124mf\u001b[39m\u001b[38;5;124m\"\u001b[39m\u001b[38;5;132;01m{\u001b[39;00mtime\u001b[38;5;132;01m}\u001b[39;00m\u001b[38;5;124m , \u001b[39m\u001b[38;5;132;01m{\u001b[39;00mvar\u001b[38;5;132;01m}\u001b[39;00m\u001b[38;5;124m  , \u001b[39m\u001b[38;5;132;01m{\u001b[39;00mi\u001b[38;5;132;01m}\u001b[39;00m\u001b[38;5;124m , \u001b[39m\u001b[38;5;132;01m{\u001b[39;00mn_s\u001b[38;5;132;01m}\u001b[39;00m\u001b[38;5;124m , \u001b[39m\u001b[38;5;132;01m{\u001b[39;00mn_st\u001b[38;5;132;01m}\u001b[39;00m\u001b[38;5;124m , \u001b[39m\u001b[38;5;132;01m{\u001b[39;00mtime_range\u001b[38;5;132;01m}\u001b[39;00m\u001b[38;5;124m , \u001b[39m\u001b[38;5;132;01m{\u001b[39;00msystem_name\u001b[38;5;132;01m}\u001b[39;00m\u001b[38;5;124m , \u001b[39m\u001b[38;5;132;01m{\u001b[39;00mquery\u001b[38;5;132;01m}\u001b[39;00m\u001b[38;5;130;01m\\n\u001b[39;00m\u001b[38;5;124m\"\u001b[39m\n",
      "File \u001b[0;32m~/test/TSM-Bench/systems/clickhouse/run_system.py:91\u001b[0m, in \u001b[0;36mrun_query\u001b[0;34m(query, rangeL, rangeUnit, n_st, n_s, n_it, host)\u001b[0m\n\u001b[1;32m     87\u001b[0m     temp \u001b[38;5;241m=\u001b[39m temp\u001b[38;5;241m.\u001b[39mreplace(\u001b[38;5;124m\"\u001b[39m\u001b[38;5;124m<stid>\u001b[39m\u001b[38;5;124m\"\u001b[39m, q)\n\u001b[1;32m     89\u001b[0m start \u001b[38;5;241m=\u001b[39m time\u001b[38;5;241m.\u001b[39mtime()\n\u001b[0;32m---> 91\u001b[0m \u001b[43mcursor\u001b[49m\u001b[38;5;241;43m.\u001b[39;49m\u001b[43mexecute\u001b[49m\u001b[43m(\u001b[49m\u001b[43mtemp\u001b[49m\u001b[43m)\u001b[49m\n\u001b[1;32m     92\u001b[0m cursor\u001b[38;5;241m.\u001b[39mfetchall()\n\u001b[1;32m     94\u001b[0m diff \u001b[38;5;241m=\u001b[39m (time\u001b[38;5;241m.\u001b[39mtime()\u001b[38;5;241m-\u001b[39mstart)\u001b[38;5;241m*\u001b[39m\u001b[38;5;241m1000\u001b[39m\n",
      "File \u001b[0;32m~/test/TSM-Bench/systems/TSMvenv/lib/python3.8/site-packages/clickhouse_driver/dbapi/cursor.py:117\u001b[0m, in \u001b[0;36mCursor.execute\u001b[0;34m(self, operation, parameters)\u001b[0m\n\u001b[1;32m    111\u001b[0m     response \u001b[38;5;241m=\u001b[39m execute(\n\u001b[1;32m    112\u001b[0m         operation, params\u001b[38;5;241m=\u001b[39mparameters, with_column_types\u001b[38;5;241m=\u001b[39m\u001b[38;5;28;01mTrue\u001b[39;00m,\n\u001b[1;32m    113\u001b[0m         \u001b[38;5;241m*\u001b[39m\u001b[38;5;241m*\u001b[39mexecute_kwargs\n\u001b[1;32m    114\u001b[0m     )\n\u001b[1;32m    116\u001b[0m \u001b[38;5;28;01mexcept\u001b[39;00m DriverError \u001b[38;5;28;01mas\u001b[39;00m orig:\n\u001b[0;32m--> 117\u001b[0m     \u001b[38;5;28;01mraise\u001b[39;00m OperationalError(orig)\n\u001b[1;32m    119\u001b[0m \u001b[38;5;28mself\u001b[39m\u001b[38;5;241m.\u001b[39m_process_response(response)\n\u001b[1;32m    120\u001b[0m \u001b[38;5;28mself\u001b[39m\u001b[38;5;241m.\u001b[39m_end_query()\n",
      "\u001b[0;31mOperationalError\u001b[0m: Code: 62.\nDB::Exception: Empty query. Stack trace:\n\n0. DB::Exception::Exception(DB::Exception::MessageMasked&&, int, bool) @ 0x000000000c741d97 in /usr/bin/clickhouse\n1. DB::Exception::createDeprecated(String const&, int, bool) @ 0x00000000075c238d in /usr/bin/clickhouse\n2. DB::parseQueryAndMovePosition(DB::IParser&, char const*&, char const*, String const&, bool, unsigned long, unsigned long) @ 0x0000000013b0427c in /usr/bin/clickhouse\n3. DB::executeQueryImpl(char const*, char const*, std::shared_ptr<DB::Context>, bool, DB::QueryProcessingStage::Enum, DB::ReadBuffer*) @ 0x0000000012492314 in /usr/bin/clickhouse\n4. DB::executeQuery(String const&, std::shared_ptr<DB::Context>, bool, DB::QueryProcessingStage::Enum) @ 0x000000001249181c in /usr/bin/clickhouse\n5. DB::TCPHandler::runImpl() @ 0x00000000133197ec in /usr/bin/clickhouse\n6. DB::TCPHandler::run() @ 0x000000001332bc79 in /usr/bin/clickhouse\n7. Poco::Net::TCPServerConnection::start() @ 0x0000000015d0eb14 in /usr/bin/clickhouse\n8. Poco::Net::TCPServerDispatcher::run() @ 0x0000000015d0fd11 in /usr/bin/clickhouse\n9. Poco::PooledThread::run() @ 0x0000000015e1b367 in /usr/bin/clickhouse\n10. Poco::ThreadImpl::runnableEntry(void*) @ 0x0000000015e195fc in /usr/bin/clickhouse\n11. ? @ 0x00007f1cb8a50609 in ?\n12. ? @ 0x00007f1cb8975133 in ?\n"
     ]
    }
   ],
   "source": [
    "systems = (questdb, clickhouse , extremedb, timescaledb, influx , monetdb)\n",
    "output_file = \"results/parameters.txt\"\n",
    "\n",
    "for system in systems:\n",
    "    system.launch()\n",
    "    system_name = system.__file__.split(\"/\")[-2]\n",
    "    queries = load_query_file(system)\n",
    "    print(queries)\n",
    "    for i ,query in enumerate(queries):\n",
    "        query = query.replace(\"<db>\", dataset)\n",
    "        for n_s, n_st, time_range in scenarios:\n",
    "            time , var = system.run_query(query , rangeUnit=time_range , rangeL = 1 , n_s=n_s , n_it=n_iter , n_st = n_st) \n",
    "            with open(output_file, \"a\") as file:\n",
    "                line = f\"{time} , {var}  , {i} , {n_s} , {n_st} , {time_range} , {system_name} \\n\"\n",
    "                print(line)\n",
    "                file.write(line)\n",
    "    system.stop()"
   ]
  },
  {
   "cell_type": "code",
   "execution_count": 27,
   "id": "fcd9205f-2e7d-432a-9529-9e577f6cd563",
   "metadata": {},
   "outputs": [],
   "source": [
    "for (n_s, n_st, time_range) in list(scenarios):\n",
    "    print(n_s)"
   ]
  },
  {
   "cell_type": "code",
   "execution_count": 28,
   "id": "9ed17dc5-a97e-484e-81f2-99cdab6c7ee9",
   "metadata": {},
   "outputs": [
    {
     "data": {
      "text/plain": [
       "[]"
      ]
     },
     "execution_count": 28,
     "metadata": {},
     "output_type": "execute_result"
    }
   ],
   "source": [
    "list(scenarios)"
   ]
  },
  {
   "cell_type": "code",
   "execution_count": null,
   "id": "26edf143-65dd-4ded-a40f-6b82614cb7bc",
   "metadata": {},
   "outputs": [],
   "source": []
  }
 ],
 "metadata": {
  "kernelspec": {
   "display_name": "TSMvenv",
   "language": "python",
   "name": "tsmvenv"
  },
  "language_info": {
   "codemirror_mode": {
    "name": "ipython",
    "version": 3
   },
   "file_extension": ".py",
   "mimetype": "text/x-python",
   "name": "python",
   "nbconvert_exporter": "python",
   "pygments_lexer": "ipython3",
   "version": "3.8.10"
  }
 },
 "nbformat": 4,
 "nbformat_minor": 5
}
