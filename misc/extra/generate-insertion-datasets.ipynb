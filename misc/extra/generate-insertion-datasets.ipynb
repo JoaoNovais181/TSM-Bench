{
 "cells": [
  {
   "cell_type": "code",
   "execution_count": 4,
   "id": "eec43699",
   "metadata": {},
   "outputs": [],
   "source": [
    "# df_t = pd.melt(df, id_vars=['time', 'id_station'])\n"
   ]
  },
  {
   "cell_type": "code",
   "execution_count": 5,
   "id": "5d85e242",
   "metadata": {},
   "outputs": [],
   "source": [
    "# df_t.to_csv(\"/hdd/temp/d1_narrow.csv\", sep=',', float_format='%.6f', header=True, index=False)\n"
   ]
  },
  {
   "cell_type": "code",
   "execution_count": 6,
   "id": "d193fbdf",
   "metadata": {},
   "outputs": [],
   "source": [
    "import numpy as np\n",
    "import pandas as pd\n",
    "from datetime import datetime\n",
    "from tqdm import tqdm\n",
    "\n",
    "# nb_station = 2000\n",
    "nb_sensor = 100 \n",
    "nb_days = 30\n",
    "granularity = 10 #seconds\n",
    "\n",
    "dtime = datetime(2019, 4, 30, 00)\n",
    "dtimestamp = datetime.timestamp(dtime)\n"
   ]
  },
  {
   "cell_type": "code",
   "execution_count": 8,
   "id": "9068c61f",
   "metadata": {},
   "outputs": [],
   "source": [
    "ms = int(round(dtimestamp * 1000))\n",
    "n_it = 100\n",
    "list_time = [datetime.fromtimestamp((ms + i * 1000 * granularity) // 1000).strftime(\"%Y/%m/%dT%H:%M:%S\") for i in range(86400 // granularity * nb_days)] \n",
    "# list_time = [ms + i * 1000 * granularity for i in range(86400 // granularity * nb_days)] * (nb_station  // n_it)\n"
   ]
  },
  {
   "cell_type": "code",
   "execution_count": 11,
   "id": "4d32e3ab",
   "metadata": {},
   "outputs": [
    {
     "data": {
      "text/plain": [
       "259200"
      ]
     },
     "execution_count": 11,
     "metadata": {},
     "output_type": "execute_result"
    }
   ],
   "source": [
    "len(list_time)"
   ]
  },
  {
   "cell_type": "code",
   "execution_count": 12,
   "id": "c62bac4f",
   "metadata": {},
   "outputs": [],
   "source": [
    "# df = pd.DataFrame(np.random.uniform(low=0, high=1, size=(86400 // granularity * nb_days * nb_station // n_it, nb_sensor)), columns=['s'+ str(i+1) for i in range(nb_sensor)])   \n",
    "df = pd.DataFrame(np.random.uniform(low=0, high=1, size=(86400 // granularity * nb_days, nb_sensor)), columns=['s'+ str(i+1) for i in range(nb_sensor)])   \n",
    "df['time'] = list_time\n"
   ]
  },
  {
   "cell_type": "code",
   "execution_count": 13,
   "id": "92037db6",
   "metadata": {},
   "outputs": [
    {
     "name": "stderr",
     "output_type": "stream",
     "text": [
      "100%|██████████████████████████████████████████████████████████████████████████████████████████████████████████████████████████████| 100/100 [1:00:04<00:00, 36.05s/it]\n"
     ]
    }
   ],
   "source": [
    "for s in tqdm(range(n_it)):\n",
    "    list_st = []\n",
    "#     for s in range(i * nb_station // n_it, (i+1) * nb_station // n_it, 1):\n",
    "#     for s in range(i * nb_station // n_it, (i+1), 1):\n",
    "#     list_st += ['st' + str(s) for i in range(86400 // granularity * nb_days)]\n",
    "    df['st'] = ['st' + str(s) for i in range(86400 // granularity * nb_days)]\n",
    "    df = df[[\"time\",\"st\"] + [\"s\" + str(i+1) for i in range(nb_sensor)]]\n",
    "    df.to_csv(\"insertion-100/short_ts\"+str(s)+\".csv\", sep=',', float_format='%.6f', header=True, index=False)\n"
   ]
  },
  {
   "cell_type": "code",
   "execution_count": null,
   "id": "3a0d2b28",
   "metadata": {},
   "outputs": [],
   "source": []
  },
  {
   "cell_type": "code",
   "execution_count": null,
   "id": "bfea6d28",
   "metadata": {},
   "outputs": [],
   "source": []
  },
  {
   "cell_type": "code",
   "execution_count": null,
   "id": "5633a75b",
   "metadata": {},
   "outputs": [],
   "source": []
  },
  {
   "cell_type": "code",
   "execution_count": null,
   "id": "75991bdc",
   "metadata": {},
   "outputs": [],
   "source": []
  },
  {
   "cell_type": "code",
   "execution_count": null,
   "id": "cca37706",
   "metadata": {},
   "outputs": [],
   "source": []
  },
  {
   "cell_type": "code",
   "execution_count": null,
   "id": "785b0dff",
   "metadata": {},
   "outputs": [],
   "source": []
  },
  {
   "cell_type": "code",
   "execution_count": null,
   "id": "a2dd4138",
   "metadata": {},
   "outputs": [],
   "source": []
  },
  {
   "cell_type": "code",
   "execution_count": null,
   "id": "95fb7794",
   "metadata": {},
   "outputs": [],
   "source": []
  },
  {
   "cell_type": "code",
   "execution_count": null,
   "id": "cfdb5c64",
   "metadata": {},
   "outputs": [],
   "source": []
  },
  {
   "cell_type": "code",
   "execution_count": null,
   "id": "0d8cd4a9",
   "metadata": {},
   "outputs": [],
   "source": []
  },
  {
   "cell_type": "code",
   "execution_count": null,
   "id": "63c3d60e",
   "metadata": {},
   "outputs": [],
   "source": [
    "import numpy as np\n",
    "import pandas as pd\n",
    "from datetime import datetime\n",
    "from tqdm import tqdm\n",
    "\n",
    "nb_station = 10\n",
    "nb_sensor = 100 \n",
    "nb_days = 30 * 2\n",
    "granularity = 10 #seconds\n",
    "\n",
    "dtime = datetime(2019, 5, 2, 00)\n",
    "dtimestamp = datetime.timestamp(dtime)\n",
    "ms = int(round(dtimestamp * 1000))\n",
    "list_time = [ms + i * 1000 * granularity for i in range(86400 * nb_days)]\n",
    "    \n",
    "for s in tqdm(range(nb_station)):\n",
    "    df = pd.DataFrame(np.random.uniform(low=0, high=1, size=(86400 * nb_days, nb_sensor)), columns=['s'+ str(i+1) for i in range(nb_sensor)])\n",
    "    list_s = ['st' + str(s) for i in range(len(df))]\n",
    "    df['st'] = list_s\n",
    "    df['ts'] = list_time\n",
    "    df = df[[\"ts\",\"st\"] + [\"s\" + str(i+1) for i in range(nb_sensor)]]\n",
    "    df.to_csv(\"insertion-100/station_\" + str(s) + \".csv\", sep=',', float_format='%.6f', header=True, index=False)\n",
    "    \n",
    "    "
   ]
  },
  {
   "cell_type": "code",
   "execution_count": null,
   "id": "f80be21f",
   "metadata": {},
   "outputs": [],
   "source": [
    "import numpy as np\n",
    "import pandas as pd\n",
    "from datetime import datetime\n",
    "from tqdm import tqdm\n",
    "\n",
    "nb_station = 50\n",
    "nb_sensor = 100 \n",
    "nb_days = 30 * 2\n",
    "granularity = 1 #seconds\n",
    "\n",
    "df = pd.DataFrame(np.random.uniform(low=0, high=1, size=(86400 * nb_days, nb_sensor)), columns=['s'+ str(i+1) for i in range(nb_sensor)])\n",
    "list_s = ['st' + str(s) for i in range(len(df))]\n",
    "dtime = datetime(2019, 5, 2, 00)\n",
    "dtimestamp = datetime.timestamp(dtime)\n",
    "ms = int(round(dtimestamp * 1000))\n",
    "list_time = [ms + i * 1000 * granularity for i in range(len(df))]\n",
    "    \n",
    "    \n"
   ]
  },
  {
   "cell_type": "code",
   "execution_count": null,
   "id": "abf494c7",
   "metadata": {},
   "outputs": [],
   "source": [
    "list_f = ['f' + str(int(i / (len(df)/2)) + 1) for i in range(len(df))]"
   ]
  },
  {
   "cell_type": "code",
   "execution_count": null,
   "id": "a0ed7165",
   "metadata": {},
   "outputs": [],
   "source": [
    "df['f'] = list_f"
   ]
  },
  {
   "cell_type": "code",
   "execution_count": null,
   "id": "52e1d24e",
   "metadata": {},
   "outputs": [],
   "source": [
    "list_d = ['d' + str(int(i / (len(df)/2/50)) + 1) for i in range(int(len(df)/2))]\n",
    "list_d += list_d"
   ]
  },
  {
   "cell_type": "code",
   "execution_count": null,
   "id": "e53ece1d",
   "metadata": {},
   "outputs": [],
   "source": [
    "df['d'] = list_d"
   ]
  },
  {
   "cell_type": "code",
   "execution_count": null,
   "id": "5cd37275",
   "metadata": {},
   "outputs": [],
   "source": [
    "from datetime import datetime\n",
    "dtime = datetime(2022, 2, 1, 00)\n",
    "dtimestamp = datetime.timestamp(dtime)\n",
    "ms = int(round(dtimestamp * 1000))\n",
    "list_time = [ms + i * 7000 for i in range(86400)]\n",
    "f_time = []\n",
    "for i in range(100):\n",
    "    f_time += list_time\n",
    "list_time"
   ]
  },
  {
   "cell_type": "code",
   "execution_count": null,
   "id": "1323b258",
   "metadata": {},
   "outputs": [],
   "source": [
    "print(list_time[-5])\n",
    "print(f_time[-5])"
   ]
  },
  {
   "cell_type": "code",
   "execution_count": null,
   "id": "af8cdd58",
   "metadata": {},
   "outputs": [],
   "source": [
    "df['ts'] = f_time"
   ]
  },
  {
   "cell_type": "code",
   "execution_count": null,
   "id": "d9466a85",
   "metadata": {},
   "outputs": [],
   "source": [
    "df = df[[\"ts\",\"f\", \"d\"] + [\"s\" + str(i+1) for i in range(50)]]"
   ]
  },
  {
   "cell_type": "code",
   "execution_count": null,
   "id": "4eb1a294",
   "metadata": {},
   "outputs": [],
   "source": [
    "df"
   ]
  },
  {
   "cell_type": "code",
   "execution_count": null,
   "id": "7995b06b",
   "metadata": {},
   "outputs": [],
   "source": [
    "df.to_csv(\"d_tsb.csv\", sep=',', float_format='%.6f', header=True, index=False)"
   ]
  },
  {
   "cell_type": "code",
   "execution_count": null,
   "id": "b6d8f39e",
   "metadata": {},
   "outputs": [],
   "source": []
  }
 ],
 "metadata": {
  "kernelspec": {
   "display_name": "Python 3 (ipykernel)",
   "language": "python",
   "name": "python3"
  },
  "language_info": {
   "codemirror_mode": {
    "name": "ipython",
    "version": 3
   },
   "file_extension": ".py",
   "mimetype": "text/x-python",
   "name": "python",
   "nbconvert_exporter": "python",
   "pygments_lexer": "ipython3",
   "version": "3.8.10"
  }
 },
 "nbformat": 4,
 "nbformat_minor": 5
}
