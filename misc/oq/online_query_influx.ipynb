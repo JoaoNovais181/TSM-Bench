{
 "cells": [
  {
   "cell_type": "code",
   "execution_count": 1,
   "id": "8e5ad9f1",
   "metadata": {},
   "outputs": [],
   "source": [
    "import time\n",
    "import statistics as stats\n",
    "import multiprocessing\n",
    "import time \n",
    "import random\n",
    "import time\n",
    "from tqdm import tqdm\n",
    "from datetime import timedelta\n",
    "from datetime import datetime\n",
    "start_program = time.time()\n",
    "from multiprocessing import *\n",
    "import pandas as pd\n",
    "import numpy as np\n",
    "from threading import Thread\n",
    "import time\n",
    "import subprocess \n"
   ]
  },
  {
   "cell_type": "code",
   "execution_count": 2,
   "id": "8e2cda1a",
   "metadata": {},
   "outputs": [],
   "source": [
    "results = [[] for i in range(5)]\n",
    "\n",
    "n_it = 100\n",
    "\n",
    "\n",
    "n_st = number_stations = 10\n",
    "n_s = number_sensors = 100\n",
    "\n",
    "def_st = 1\n",
    "def_s = 3\n",
    "def_r = 'day'\n",
    "\n",
    "\n",
    "set_date = [random.random() for i in range(500)]\n"
   ]
  },
  {
   "cell_type": "code",
   "execution_count": 3,
   "id": "9a4c5bbe",
   "metadata": {},
   "outputs": [],
   "source": [
    "\n",
    "def str_time_prop(start, end, time_format, prop):\n",
    "    \"\"\"Get a time at a proportion of a range of two formatted times.\n",
    "\n",
    "    start and end should be strings specifying times formatted in the\n",
    "    given format (strftime-style), giving an interval [start, end].\n",
    "    prop specifies how a proportion of the interval to be taken after\n",
    "    start.  The returned time will be in the specified format.\n",
    "    \"\"\"\n",
    "\n",
    "    stime = time.mktime(time.strptime(start, time_format))\n",
    "    etime = time.mktime(time.strptime(end, time_format))\n",
    "\n",
    "    ptime = stime + prop * (etime - stime)\n",
    "\n",
    "    return time.strftime(time_format, time.localtime(ptime))\n",
    "\n",
    "\n",
    "\n",
    "def random_date(start, end, prop, dform = '%Y-%m-%dT%H:%M:%S'):\n",
    "    return str_time_prop(start, end, dform, prop)\n",
    "    \n",
    "    \n",
    "def to_pm(v):\n",
    "    return str(round(v[0][0],2)) + \"$\" + '\\\\' + \"pm$\" + str(round(v[1][0],2))\n"
   ]
  },
  {
   "cell_type": "markdown",
   "id": "462a529f",
   "metadata": {},
   "source": [
    "# Queries"
   ]
  },
  {
   "cell_type": "code",
   "execution_count": 4,
   "id": "4e94f817",
   "metadata": {},
   "outputs": [],
   "source": [
    "iw_q1 = \"\"\"\n",
    "    select time, id_station, <sid> FROM \"<db>\".\"autogen\".\"sensor\" \n",
    "    where <stid> \n",
    "    AND time > '<timestamp>Z' - <nb><rangesUnit> \n",
    "    AND  time < '<timestamp>Z'\n",
    "\"\"\"\n",
    "\n",
    "iw_q2 = \"\"\"\n",
    "    select time, id_station, <sid> FROM \"<db>\".\"autogen\".\"sensor\" \n",
    "    where <stid> \n",
    "    AND time > '<timestamp>Z' - <nb><rangesUnit> \n",
    "    AND  time < '<timestamp>Z' \n",
    "    and <sfilter>\n",
    "\"\"\" #s<sid>\n",
    "\n",
    "iw_q3 = \"\"\"\n",
    "    SELECT <avg_s> FROM \"<db>\".\"autogen\".\"sensor\" \n",
    "    WHERE  time > '<timestamp>Z' - <nb><rangesUnit> \n",
    "    AND time < '<timestamp>Z' \n",
    "    and <stid> \n",
    "    GROUP BY \"id_station\"  \n",
    "\"\"\"  #mean(s<sid>)\n",
    "\n",
    "iw_q4 = \"\"\"\n",
    "    SELECT first(id_station), <avg_s> FROM \"<db>\".\"autogen\".\"sensor\" \n",
    "    WHERE time > '<timestamp>Z' - <nb><rangesUnit> \n",
    "    and time < '<timestamp>Z' \n",
    "    and <stid> \n",
    "    GROUP BY id_station,time(1h)\n",
    "\"\"\" #mean(s<sid>)\n",
    "iw_q5 = \"\"\"\n",
    "    SELECT id_station, mean_value FROM (SELECT <avg_s> as mean_value FROM \"<db>\".\"autogen\".\"sensor\" \n",
    "    WHERE time > '<timestamp>Z' - <nb><rangesUnit> \n",
    "    AND time < '<timestamp>Z' \n",
    "    and <stid> \n",
    "    GROUP BY id_station,time(5s) FILL(0)) \n",
    "    GROUP BY id_station\n",
    "\"\"\" #mean(s<sid>)\n"
   ]
  },
  {
   "cell_type": "code",
   "execution_count": 5,
   "id": "725e5b78",
   "metadata": {},
   "outputs": [],
   "source": [
    "from influxdb import InfluxDBClient\n",
    "from tqdm import tqdm \n",
    "import time\n",
    "\n",
    "class Influx_Wide:\n",
    " \n",
    "    # A sample method \n",
    "    @staticmethod\n",
    "    def query(query, db, max_d, rangesUnit, n_it, start_date = \"2019-04-01T00:00:00\", stop_date = \"2019-04-30T00:00:00\", n_st = 1, n_s = 10):\n",
    "        client = InfluxDBClient(host=\"diufrm118\", port=8086, username='abdel')\n",
    "        results = [[],[]]\n",
    "        \n",
    "        duration = max_d\n",
    "        runtimes = []\n",
    "        full_time = time.time()\n",
    "        for i in tqdm(range(n_it)):\n",
    "            date = random_date(start_date, stop_date, set_date[(duration*i)%500], dform = '%Y-%m-%dT%H:%M:%S')\n",
    "            temp = query.replace(\"<timestamp>\", date)\n",
    "            temp = temp.replace(\"<db>\", db)\n",
    "            temp = temp.replace(\"<nb>\", str(duration))\n",
    "            temp = temp.replace(\"<rangesUnit>\", str(rangesUnit[0]))\n",
    "#             temp = temp.replace(\"<sid>\", str(set_s[(duration*i)%500]))\n",
    "            \n",
    "            \n",
    "            \n",
    "            li = ['st' + str(z) for z in random.sample(range(number_stations), n_st)]\n",
    "#                     print(li)\n",
    "            q = '(id_station =' + \"'\" + li[0] + \"'\"\n",
    "            for j in li[1:]:\n",
    "                q += ' OR '  + 'id_station =' + \"'\" + j + \"'\"\n",
    "            q += \")\"\n",
    "            temp = temp.replace(\"<stid>\", q)\n",
    "            \n",
    "            \n",
    "            # sensor\n",
    "            li = ['s' + str(z) for z in random.sample(range(number_sensors), n_s)]\n",
    "            q = li[0]\n",
    "            q_filter = \"( \" + li[0] + ' > 0.95'\n",
    "            q_avg = 'mean(' + li[0] + ')'\n",
    "            for j in li[1:]:\n",
    "                q += ', ' + j\n",
    "#                 q_filter += ' OR ' + j + ' > 0.95'\n",
    "                q_avg += ', ' + 'mean(' + j + ')'\n",
    "            temp = temp.replace(\"<sid>\", q)\n",
    "            temp = temp.replace(\"<sfilter>\", q_filter + \")\")\n",
    "            temp = temp.replace(\"<avg_s>\", q_avg)                \n",
    "            \n",
    "            \n",
    "            start = time.time()\n",
    "#             print(temp)\n",
    "            result = client.query(temp)\n",
    "            diff = (time.time()-start)*1000\n",
    "#             print(temp, diff)\n",
    "            runtimes.append(diff)\n",
    "            if time.time() - full_time > 20 and i > 5: \n",
    "                break              \n",
    "#         print(temp)\n",
    "#             print(runtimes)\n",
    "        results[0].append(stats.mean(runtimes))\n",
    "#             results[1].append(percentile(runtimes,85))\n",
    "        results[1].append(stats.stdev(runtimes))\n",
    "        client.close()\n",
    "        return results\n",
    "    \n",
    "    @staticmethod\n",
    "    def insert_file(batch_size,rate, st):\n",
    "#         template_sql = \"INSERT INTO d1_wide_slow_ingest (time, id_station\"\n",
    "#         for i in range(100):\n",
    "#             template_sql += \", s\" + str(i)\n",
    "#         template_sql += \") VALUES ('%s', '%s',\"  + ','.join(100* [' %s']) + ');'\n",
    "        template_sql = \"sensor,id_station=st\" + str(st) + \" \"\n",
    "\n",
    "        client = InfluxDBClient(host='diufrm118', port=8086, username='abdel', database='d1_wide')\n",
    "        file = '/home/abdel/venv2/bin/insertion-100/short_ts' + str(st) + '.csv'\n",
    "        f = open(file, \"r\")\n",
    "        f = f.read()\n",
    "        data = []\n",
    "        f = f.splitlines()[1:]\n",
    "#         f = [\"\\n\".join(f[i:i+rate])  for i in range(0, len(f), rate)]\n",
    "        for i in range(len(f)):\n",
    "            f[i] = f[i].split(',')            \n",
    "            temp = template_sql\n",
    "            temp += 's0=' + f[i][2]\n",
    "            cpt = 1\n",
    "            for e in f[i][3:]:\n",
    "                temp += \",s\" + str(cpt) + \"=\" + str(e)\n",
    "                cpt += 1\n",
    "            temp += \" \" + str(10**3*int(datetime.timestamp( datetime.strptime(f[i][0], '%Y/%m/%dT%H:%M:%S'))))\n",
    "            f[i] = temp        \n",
    "        \n",
    "        start = time.time()\n",
    "        a = 0\n",
    "        print('insertion st' + str(st) + ' started')\n",
    "        while not stop_insertion[st]: \n",
    "            starttime = time.time()\n",
    "#             print(f[a*rate:(1+a)*rate])\n",
    "            client.write_points(f[a*rate:(1+a)*rate], database='d1_wide', time_precision='ms', batch_size=rate, protocol='line')\n",
    "            a += 1\n",
    "            diff = 1.0 - ((time.time() - starttime))\n",
    "            try: \n",
    "                time.sleep(diff)\n",
    "            except: \n",
    "                print(diff)\n",
    "                      \n",
    "        \n",
    "    @staticmethod\n",
    "    def run_all(start, stop, db):\n",
    "        results[0].append(to_pm(Influx_Wide.query(iw_q1, db, 1, def_r, n_it, start, stop, n_st = def_st, n_s = def_s)))\n",
    "        results[1].append(to_pm(Influx_Wide.query(iw_q2, db, 1, def_r, n_it, start, stop, n_st = def_st, n_s = def_s)))\n",
    "        results[2].append(to_pm(Influx_Wide.query(iw_q3, db, 1, def_r, n_it, start, stop, n_st = def_st, n_s = def_s)))\n",
    "        results[3].append(to_pm(Influx_Wide.query(iw_q4, db, 1, def_r, n_it, start, stop, n_st = def_st, n_s = def_s)))\n",
    "        results[4].append(to_pm(Influx_Wide.query(iw_q5, db, 1, def_r, n_it, start, stop, n_st = def_st, n_s = def_s)))\n",
    "    \n",
    "    \n",
    "    \n",
    "    "
   ]
  },
  {
   "cell_type": "code",
   "execution_count": 6,
   "id": "2fc83fcf",
   "metadata": {},
   "outputs": [
    {
     "name": "stderr",
     "output_type": "stream",
     "text": [
      "100%|██████████████████████████████| 100/100 [00:09<00:00, 10.98it/s]\n",
      "100%|██████████████████████████████| 100/100 [00:01<00:00, 56.54it/s]\n",
      "100%|██████████████████████████████| 100/100 [00:01<00:00, 67.04it/s]\n",
      "100%|██████████████████████████████| 100/100 [00:01<00:00, 62.04it/s]\n",
      " 71%|██████████████████████         | 71/100 [00:20<00:08,  3.52it/s]\n"
     ]
    }
   ],
   "source": [
    "Influx_Wide.run_all(\"2019-04-01T00:00:00\", \"2019-04-30T00:00:00\", \"d1_wide\")"
   ]
  },
  {
   "cell_type": "code",
   "execution_count": null,
   "id": "b6ab71d1",
   "metadata": {},
   "outputs": [],
   "source": [
    "stop_insertion = [False for i in range(1)]\n",
    "Influx_Wide.insert_file(100_000, 2, 0)"
   ]
  },
  {
   "cell_type": "code",
   "execution_count": null,
   "id": "408341a2",
   "metadata": {
    "scrolled": true
   },
   "outputs": [],
   "source": [
    "n_threads = 10\n",
    "stop_insertion = [False for i in range(n_threads)]\n",
    "rate = 200\n",
    "\n",
    "# 20K dp/s\n",
    "\n",
    "# Launch insertion\n",
    "for i in range(n_threads):  \n",
    "    t1 = Thread(target = Influx_Wide.insert_file, args=(100_000, rate, i))\n",
    "#     t1 = Thread(target = ClickHouse.insert_by_point, args=(rate, i))\n",
    "    t1.setDaemon(True)\n",
    "    t1.start()\n",
    "\n",
    "# insert_new(200, 1)"
   ]
  },
  {
   "cell_type": "code",
   "execution_count": 7,
   "id": "8767f0ce",
   "metadata": {
    "scrolled": true
   },
   "outputs": [],
   "source": [
    "time.sleep(600)"
   ]
  },
  {
   "cell_type": "code",
   "execution_count": 8,
   "id": "10791d6b",
   "metadata": {
    "scrolled": true
   },
   "outputs": [
    {
     "name": "stderr",
     "output_type": "stream",
     "text": [
      "100%|██████████████████████████████| 100/100 [00:10<00:00,  9.59it/s]\n",
      "100%|██████████████████████████████| 100/100 [00:07<00:00, 12.57it/s]\n",
      "100%|██████████████████████████████| 100/100 [00:05<00:00, 16.97it/s]\n",
      "100%|██████████████████████████████| 100/100 [00:05<00:00, 19.92it/s]\n",
      " 63%|███████████████████▌           | 63/100 [00:20<00:11,  3.14it/s]\n"
     ]
    }
   ],
   "source": [
    "Influx_Wide.run_all(\"2019-04-01T00:00:00\", \"2019-04-30T00:00:00\", \"d1_wide\")"
   ]
  },
  {
   "cell_type": "code",
   "execution_count": 9,
   "id": "5ecda0d7",
   "metadata": {
    "scrolled": true
   },
   "outputs": [
    {
     "name": "stderr",
     "output_type": "stream",
     "text": [
      "100%|██████████████████████████████| 100/100 [00:10<00:00,  9.67it/s]\n",
      "100%|██████████████████████████████| 100/100 [00:09<00:00, 10.75it/s]\n",
      "100%|██████████████████████████████| 100/100 [00:05<00:00, 18.86it/s]\n",
      "100%|██████████████████████████████| 100/100 [00:06<00:00, 15.43it/s]\n",
      " 63%|███████████████████▌           | 63/100 [00:20<00:11,  3.15it/s]\n"
     ]
    }
   ],
   "source": [
    "Influx_Wide.run_all(\"2019-05-01T01:00:00\", \"2019-05-02T00:00:00\", \"d1_wide\")"
   ]
  },
  {
   "cell_type": "code",
   "execution_count": 10,
   "id": "486e20ca",
   "metadata": {
    "scrolled": true
   },
   "outputs": [
    {
     "name": "stderr",
     "output_type": "stream",
     "text": [
      "100%|██████████████████████████████| 100/100 [00:10<00:00,  9.52it/s]\n",
      "100%|██████████████████████████████| 100/100 [00:05<00:00, 19.32it/s]\n",
      "100%|██████████████████████████████| 100/100 [00:04<00:00, 24.59it/s]\n",
      "100%|██████████████████████████████| 100/100 [00:03<00:00, 25.11it/s]\n",
      " 60%|██████████████████▌            | 60/100 [00:20<00:13,  2.96it/s]\n"
     ]
    }
   ],
   "source": [
    "Influx_Wide.run_all(\"2019-04-29T01:00:00\", \"2019-05-02T00:00:00\", \"d1_wide\")"
   ]
  },
  {
   "cell_type": "code",
   "execution_count": null,
   "id": "fd7751d1",
   "metadata": {},
   "outputs": [],
   "source": [
    "stop_insertion = [True for i in range(n_threads)]\n"
   ]
  },
  {
   "cell_type": "code",
   "execution_count": 11,
   "id": "e9ceed2c",
   "metadata": {},
   "outputs": [
    {
     "data": {
      "text/plain": [
       "[['90.51$\\\\pm$11.1',\n",
       "  '103.62$\\\\pm$13.32',\n",
       "  '102.86$\\\\pm$13.52',\n",
       "  '104.45$\\\\pm$13.6'],\n",
       " ['17.37$\\\\pm$2.78',\n",
       "  '79.04$\\\\pm$92.04',\n",
       "  '92.42$\\\\pm$98.24',\n",
       "  '51.27$\\\\pm$68.28'],\n",
       " ['14.57$\\\\pm$2.66',\n",
       "  '58.46$\\\\pm$79.41',\n",
       "  '52.57$\\\\pm$72.71',\n",
       "  '40.19$\\\\pm$54.68'],\n",
       " ['15.76$\\\\pm$2.8', '49.72$\\\\pm$67.71', '64.3$\\\\pm$81.91', '39.37$\\\\pm$51.23'],\n",
       " ['279.53$\\\\pm$24.18',\n",
       "  '312.48$\\\\pm$39.93',\n",
       "  '311.55$\\\\pm$36.18',\n",
       "  '331.15$\\\\pm$141.41']]"
      ]
     },
     "execution_count": 11,
     "metadata": {},
     "output_type": "execute_result"
    }
   ],
   "source": [
    "results "
   ]
  },
  {
   "cell_type": "code",
   "execution_count": null,
   "id": "db41430b",
   "metadata": {},
   "outputs": [],
   "source": [
    "runtimes = [[float(results[i][j].split('$')[0]) for j in range(len(results[i]))][:4] for i in range(5)]\n",
    "variance = [[float(results[i][j].split('$')[2]) for j in range(len(results[i]))][:4] for i in range(5)]"
   ]
  },
  {
   "cell_type": "code",
   "execution_count": null,
   "id": "45eea9bc",
   "metadata": {},
   "outputs": [],
   "source": [
    "runtimes = list(map(list, zip(*runtimes)))\n",
    "variance = list(map(list, zip(*variance)))\n"
   ]
  },
  {
   "cell_type": "code",
   "execution_count": null,
   "id": "28b8cfd6",
   "metadata": {},
   "outputs": [],
   "source": [
    "runtimes"
   ]
  },
  {
   "cell_type": "code",
   "execution_count": null,
   "id": "253767d1",
   "metadata": {
    "scrolled": false
   },
   "outputs": [],
   "source": [
    "import numpy as np\n",
    "import matplotlib.pyplot as plt\n",
    "X = np.arange(5)\n",
    "labels = ['query'+str(1+i) for i in range(5)]\n",
    "fig = plt.figure(figsize=(8, 6))\n",
    "ax = fig.add_axes([0,0,1,1])\n",
    "for i in range(4):\n",
    "    ax.bar(X +0.15*i, runtimes[i], yerr = variance[i], width = 0.15)\n",
    "ax.legend(['offline', 'online old', 'online new', 'online mixed', ])\n",
    "ax.set_xticklabels(labels)\n",
    "ax.set_xticks(np.arange(len(labels)))\n",
    "ax.yaxis.grid(True)\n",
    "plt.title('ClickHouse offline vs. online, rate: '+ str(rate) + ' x ' + str(n_threads))\n",
    "plt.tight_layout()\n",
    "\n",
    "# ax.bar(X+0.25, data[1], color = 'g', width = 0.25)\n",
    "# ax.bar(X+0.5, data[2], color = 'r', width = 0.25)"
   ]
  },
  {
   "cell_type": "code",
   "execution_count": null,
   "id": "3fb5d8bf",
   "metadata": {},
   "outputs": [],
   "source": [
    "from influxdb import InfluxDBClient\n",
    "import time\n",
    "\n",
    "start = time.time()\n",
    "client = InfluxDBClient(host='diufrm118', port=8086, username='abdel', database='d1_wide')\n",
    "result = client.query(\"\"\"DELETE FROM \"sensor\" where time > '2019-04-30T00:00:00Z'\"\"\")\n",
    "print(time.time() - start)\n",
    "\n",
    "# result = client.query(\"select * into d1_wide_ingest.autogen.sensor FROM d1_wide.autogen.sensor\")\n",
    "\n"
   ]
  },
  {
   "cell_type": "code",
   "execution_count": null,
   "id": "0b085d0d",
   "metadata": {},
   "outputs": [],
   "source": []
  }
 ],
 "metadata": {
  "kernelspec": {
   "display_name": "Python 3 (ipykernel)",
   "language": "python",
   "name": "python3"
  },
  "language_info": {
   "codemirror_mode": {
    "name": "ipython",
    "version": 3
   },
   "file_extension": ".py",
   "mimetype": "text/x-python",
   "name": "python",
   "nbconvert_exporter": "python",
   "pygments_lexer": "ipython3",
   "version": "3.8.10"
  }
 },
 "nbformat": 4,
 "nbformat_minor": 5
}
