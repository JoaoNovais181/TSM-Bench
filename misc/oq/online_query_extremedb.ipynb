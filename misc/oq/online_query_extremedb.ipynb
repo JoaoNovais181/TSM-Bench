{
 "cells": [
  {
   "cell_type": "code",
   "execution_count": 1,
   "id": "8e5ad9f1",
   "metadata": {},
   "outputs": [],
   "source": [
    "import time\n",
    "import statistics as stats\n",
    "import multiprocessing\n",
    "import time \n",
    "import random\n",
    "import time\n",
    "from tqdm import tqdm\n",
    "from datetime import timedelta\n",
    "from datetime import datetime\n",
    "start_program = time.time()\n",
    "from multiprocessing import *\n",
    "import pandas as pd\n",
    "import numpy as np\n",
    "from threading import Thread\n",
    "import time\n",
    "import subprocess \n"
   ]
  },
  {
   "cell_type": "code",
   "execution_count": 2,
   "id": "8e2cda1a",
   "metadata": {},
   "outputs": [],
   "source": [
    "results = [[] for i in range(5)]\n",
    "\n",
    "n_it = 100\n",
    "\n",
    "\n",
    "n_st = number_stations = 10\n",
    "n_s = number_sensors = 100\n",
    "\n",
    "def_st = 1\n",
    "def_s = 3\n",
    "def_r = 'day'\n",
    "\n",
    "\n",
    "set_date = [random.random() for i in range(500)]\n"
   ]
  },
  {
   "cell_type": "code",
   "execution_count": 3,
   "id": "9a4c5bbe",
   "metadata": {},
   "outputs": [],
   "source": [
    "\n",
    "def str_time_prop(start, end, time_format, prop):\n",
    "    \"\"\"Get a time at a proportion of a range of two formatted times.\n",
    "\n",
    "    start and end should be strings specifying times formatted in the\n",
    "    given format (strftime-style), giving an interval [start, end].\n",
    "    prop specifies how a proportion of the interval to be taken after\n",
    "    start.  The returned time will be in the specified format.\n",
    "    \"\"\"\n",
    "\n",
    "    stime = time.mktime(time.strptime(start, time_format))\n",
    "    etime = time.mktime(time.strptime(end, time_format))\n",
    "\n",
    "    ptime = stime + prop * (etime - stime)\n",
    "\n",
    "    return time.strftime(time_format, time.localtime(ptime))\n",
    "\n",
    "\n",
    "\n",
    "def random_date(start, end, prop, dform = '%Y-%m-%dT%H:%M:%S'):\n",
    "    return str_time_prop(start, end, dform, prop)\n",
    "    \n",
    "    \n",
    "def to_pm(v):\n",
    "    return str(round(v[0][0],2)) + \"$\" + '\\\\' + \"pm$\" + str(round(v[1][0],2))\n"
   ]
  },
  {
   "cell_type": "markdown",
   "id": "462a529f",
   "metadata": {},
   "source": [
    "# Queries"
   ]
  },
  {
   "cell_type": "code",
   "execution_count": 4,
   "id": "e955bf6e",
   "metadata": {},
   "outputs": [],
   "source": [
    "# A simple class\n",
    "# attribute\n",
    "# e_q1 = \"\"\"select seq_search(t,<timestamp> - <nb> * <rangesUnit>,<timestamp>) as tt, s<sid>@tt FROM d1_v WHERE id_station = 'st<stid>';\"\"\"\n",
    "e_q1 = \"\"\"select id_station, seq_search(t,<timestamp> - <nb> * <rangesUnit>,<timestamp>) as tt, <sid> FROM d1_v WHERE id_station in <stid>;\"\"\"\n",
    "\n",
    "\n",
    "e_q2 = \"\"\"select id_station, tfe, <sidlist> from (\n",
    "select id_station, seq_search(t,<timestamp> - <nb> * <rangesUnit>,<timestamp>) as tt, <sfilter> as fe, t@fe as tfe, <sid_filtered> FROM d1_v WHERE id_station in <stid>\n",
    "); \"\"\" #!seq_filter_search(s<sid>@tt > 0.95, tt),. <sid>@fe \n",
    "\n",
    "e_q2AND = \"\"\"select id_station, seq_search(t,<timestamp> - <nb> * <rangesUnit>,<timestamp>) as tt, <sfilterAND> as fe, <sid_filtered> FROM d1_v WHERE id_station in <stid>; \"\"\" #!seq_filter_search(s<sid>@tt > 0.95, tt),. <sid>@fe \n",
    "\n",
    "\n",
    "e_q3 = \"\"\"SELECT id_station, ! seq_search(t,<timestamp> - <nb> * <rangesUnit>,<timestamp>) as tt, <seq_avg> FROM d1_v WHERE id_station in <stid>;\"\"\" # where id_station = 'st<stid>', <seq_avg>(<sid>@tt)\n",
    "\n",
    "\n",
    "e_q4 = \"\"\"select id_station, ts, <sidlist> from (\n",
    "select id_station, seq_search(t,<timestamp> - <nb> * <rangesUnit>, <timestamp>) as tt, seq_group_agg_avg(t@tt , t@tt/3600) as ts, <seq_group_agg_avg> FROM d1_v where id_station in <stid>\n",
    ");\"\"\" #seq_group_agg_avg(s<sid>@tt, t@tt/3600) \n",
    "\n",
    "\n",
    "e_q5 = \"\"\"select seq_aprogres_datetime(<timestamp> -  <nb> * <rangesUnit>, 5, <nb> * <rangesUnit>) as ts5, <seq_stretch> from d1_v where id_station in <stid>;\"\"\" #seq_stretch(ts5,t,s<sid>)\n",
    "\n"
   ]
  },
  {
   "cell_type": "code",
   "execution_count": 5,
   "id": "725e5b78",
   "metadata": {},
   "outputs": [],
   "source": [
    "import pymonetdb\n",
    "from tqdm import tqdm \n",
    "import time\n",
    "\n",
    "class EXtremeDB:\n",
    " \n",
    "    # A sample method \n",
    "    @staticmethod\n",
    "    def query(query, db, max_d, rangesUnit, n_it, start_date = \"2019-04-01 00:00:00\", stop_date = \"2019-04-30 00:00:00\", n_st = 1, n_s = 10):\n",
    "        \n",
    "        import exdb \n",
    "        import datetime\n",
    "        exdb.init_runtime(debug = False, shm = False, disk = False, tmgr = 'mursiw')\n",
    "        con = exdb.connect('diufrm118', 5001)\n",
    "        curs = con.cursor()\n",
    "        curs.execute(\"SELECT s23 FROM d1_v where id_station = 'st3'\")\n",
    "        curs.fetchall()\n",
    "        results = [[],[]]\n",
    "        options = {\"day\" : 60 * 60* 24,\n",
    "                   \"week\" : 60 * 60* 24 * 7,\n",
    "                   \"minute\" : 60,\n",
    "                   \"hour\" : 60 * 60,\n",
    "                   \"second\" : 1,\n",
    "                   \"month\" : 60 * 60 * 24 * 30,\n",
    "                   \"year\" :  60 * 60 * 24 * 30 * 12\n",
    "        }\n",
    "        duration = max_d\n",
    "        runtimes = []\n",
    "        full_time = time.time()\n",
    "        for i in tqdm(range(n_it)):\n",
    "#             time.sleep(0.5)\n",
    "            date = random_date(start_date, stop_date, set_date[(duration*i)%500], dform = '%Y-%m-%d %H:%M:%S')\n",
    "            date = int(time.mktime(datetime.datetime.strptime(date, '%Y-%m-%d %H:%M:%S').timetuple()))\n",
    "            temp = query.replace(\"<timestamp>\", str(date))\n",
    "            temp = temp.replace(\"<nb>\", str(duration))\n",
    "#             temp = temp.replace(\"<sid>\", str(set_s[(duration*i)%500]))\n",
    "            temp = temp.replace(\"<rangesUnit>\", str(options[rangesUnit]))\n",
    "        \n",
    "            li = ['st' + str(z) for z in random.sample(range(number_stations), n_st)]\n",
    "            q = '(' + \"'\" + li[0] + \"'\"\n",
    "            for j in li[1:]:\n",
    "                q += ', ' + \"'\" + j + \"'\"\n",
    "            q += \")\"\n",
    "            temp = temp.replace(\"<stid>\", q)\n",
    "            temp = temp.replace(\"<db>\", db)\n",
    "            \n",
    "            # sensor\n",
    "            rand = [str(z) for z in random.sample(range(number_sensors), n_s)]\n",
    "#             print(rand)\n",
    "            sidlist = 's' + rand[0]\n",
    "            for j in rand[1:]:\n",
    "                sidlist += ',' + 's' +  j\n",
    "#             print(sidlist)\n",
    "            li = ['s' + str(z) + \"@tt\" for z in rand]\n",
    "            li_filtered = ['s' + str(z) + \"@fe as s\" + str(z) for z in rand]\n",
    "#             <seq_group_agg_avg> seq_group_agg_avg(s<sid>@tt, t@tt/3600), \n",
    "#             <seq_stretch> #seq_stretch(ts5,t,s<sid>), \n",
    "#             <sfilter> !seq_filter_search(s<sid>@tt > 0.95, tt)\n",
    "            \n",
    "            q = li[0]\n",
    "            q_filtered = li_filtered[0] \n",
    "            q_seq_group_agg_avg = \"seq_group_agg_avg(\" + li[0] + \" , t@tt/3600) as \" + li[0].split('@')[0]\n",
    "            q_seq_avg = \"seq_avg(\" + li[0] + \")\" \n",
    "            q_seq_stretch = \"seq_stretch(ts5,t,\" + li[0].split('@')[0] + \")\" \n",
    "#             q_filter = \"!seq_filter_search(\" +li[0] + \"> 0.95, tt)\"\n",
    "            q_filter = \"!seq_filter_search(\" +li[0] + \"> 0.95\"\n",
    "            q_filterAND = \"!seq_filter_search(\" +li[0] + \"> 0.95\"\n",
    "            \n",
    "#             q_avg = 'avg(' + li[0] + ')'\n",
    "            for j in range(1,len(li_filtered)):\n",
    "                q_filtered += ', ' + li_filtered[j] \n",
    "    \n",
    "            for j in li[1:]:\n",
    "                q += ', ' + j\n",
    "                q_seq_avg += \", seq_avg(\" + j + \")\" \n",
    "                q_seq_group_agg_avg += \", seq_group_agg_avg(\" + j + \" , t@tt/3600)\" + \" as \" +  j.split('@')[0] #        li[0] + ' > 0.95'\n",
    "                q_seq_stretch += \", seq_stretch(ts5,t,\" + j.split('@')[0] + \")\" \n",
    "# #                 q_filter += \", !seq_filter_search(\" + j + \"> 0.95, tt)\"\n",
    "#                 q_filter += \" OR \" + j + \"> 0.95\"\n",
    "#                 q_filterAND += \" AND \" + j + \"> 0.95\"\n",
    "# #                 q_filter += ' OR ' + j + ' > 0.95'\n",
    "# #                 q_avg += ', ' + 'avg(' + j + ')'\n",
    "            temp = temp.replace(\"<sid>\", q)\n",
    "            temp = temp.replace(\"<sidlist>\", sidlist)\n",
    "            temp = temp.replace(\"<seq_avg>\", q_seq_avg)\n",
    "            temp = temp.replace(\"<sid_filtered>\", q_filtered)\n",
    "            temp = temp.replace(\"<seq_group_agg_avg>\", q_seq_group_agg_avg)\n",
    "            temp = temp.replace(\"<sfilter>\", q_filter + \", tt)\")\n",
    "            temp = temp.replace(\"<sfilterAND>\", q_filterAND + \", tt)\")\n",
    "            temp = temp.replace(\"<seq_stretch>\", q_seq_stretch)\n",
    "#             temp = temp.replace(\"<avg_s>\", q_avg)            \n",
    "        \n",
    "#             print(temp)\n",
    "            start = time.time()\n",
    "            curs.execute(temp)\n",
    "            curs.fetchall()\n",
    "            # print(curs.rowcount)\n",
    "#             print(curs.fetchall()[0])\n",
    "            diff = (time.time()-start)*1000\n",
    "#                 print(temp, diff)\n",
    "            runtimes.append(diff)\n",
    "            if time.time() - full_time > 20 and i > 5: \n",
    "                break  \n",
    "#         print(runtimes)\n",
    "#         print(temp)\n",
    "        results[0].append(stats.mean(runtimes))\n",
    "#             results[1].append(percentile(runtimes,85))\n",
    "        results[1].append(stats.stdev(runtimes))\n",
    "        con.close()\n",
    "        return results\n",
    "\n",
    "    \n",
    "    \n",
    "    @staticmethod\n",
    "    def insert_file(batch_size,rate, st):\n",
    "#         template_sql = \"INSERT INTO d1_wide_slow_ingest (time, id_station\"\n",
    "#         for i in range(100):\n",
    "#             template_sql += \", s\" + str(i)\n",
    "#         template_sql += \") VALUES ('%s', '%s',\"  + ','.join(100* [' %s']) + ');'\n",
    "\n",
    "        import exdb \n",
    "        import datetime\n",
    "        exdb.init_runtime(debug = False, shm = False, disk = False, tmgr = 'mursiw')\n",
    "        conn = exdb.connect('diufrm118', 5001)\n",
    "        cur = conn.cursor()\n",
    "        cur.execute(\"set append_mode true\")\n",
    "        file = '/home/abdel/venv2/bin/insertion-100/short_ts' + str(st) + '.csv'\n",
    "        f = open(file, \"r\")\n",
    "        f = f.read()\n",
    "        f = f.splitlines()[1:]\n",
    "        for i in range(len(f)):\n",
    "            f[i] = f[i].split(',')            \n",
    "            temp = \"'\" + f[i][1] + \"' , \" + \"'\" + ' '.join(f[i][0].split('T')) + \"' \"\n",
    "            for e in f[i][2:]:\n",
    "                temp += \", \" + str(e)\n",
    "            f[i] = temp\n",
    "        queries = []\n",
    "        q_template = \"INSERT or UPDATE INTO d1_ingest_v (id_station, t\"\n",
    "        for k in range(100):\n",
    "            q_template += \", s\" + str(k)\n",
    "        q_template += \") VALUES (\"\n",
    "        for i in range(0, len(f), rate):\n",
    "            q = q_template +  f[i] + \")\"\n",
    "            for i in f[i+1:i+rate]:\n",
    "                q += \", (\" + i + \")\"\n",
    "            queries.append(q)\n",
    "        start = time.time()\n",
    "        a = 0\n",
    "        print('insertion st' + str(st) + ' started')\n",
    "        while not stop_insertion[st]: \n",
    "            starttime = time.time()\n",
    "            try: \n",
    "                cur.execute(queries[a])\n",
    "            except: \n",
    "                print(queries[a])\n",
    "            a += 1\n",
    "            diff = 1.0 - ((time.time() - starttime))\n",
    "            try: \n",
    "                time.sleep(diff)\n",
    "            except: \n",
    "                print(diff)\n",
    "        \n",
    "    @staticmethod\n",
    "    def run_all(start, stop, db):\n",
    "        results[0].append(to_pm(EXtremeDB.query(e_q1, db, 1, def_r, n_it, start, stop, n_st = def_st, n_s = def_s)))\n",
    "        results[1].append(to_pm(EXtremeDB.query(e_q2, db, 1, def_r, n_it, start, stop, n_st = def_st, n_s = def_s)))\n",
    "        results[2].append(to_pm(EXtremeDB.query(e_q3, db, 1, def_r, n_it, start, stop, n_st = def_st, n_s = def_s)))\n",
    "        results[3].append(to_pm(EXtremeDB.query(e_q4, db, 1, def_r, n_it, start, stop, n_st = def_st, n_s = def_s)))\n",
    "        results[4].append(to_pm(EXtremeDB.query(e_q5, db, 1, def_r, n_it, start, stop, n_st = def_st, n_s = def_s)))\n",
    "    \n",
    "    \n",
    "    \n",
    "    "
   ]
  },
  {
   "cell_type": "code",
   "execution_count": 6,
   "id": "2fc83fcf",
   "metadata": {},
   "outputs": [
    {
     "name": "stderr",
     "output_type": "stream",
     "text": [
      "100%|█████████████████████████████████| 100/100 [00:03<00:00, 26.50it/s]\n",
      "100%|████████████████████████████████| 100/100 [00:00<00:00, 121.38it/s]\n",
      "100%|████████████████████████████████| 100/100 [00:00<00:00, 107.64it/s]\n",
      "100%|████████████████████████████████| 100/100 [00:00<00:00, 118.06it/s]\n",
      " 66%|██████████████████████▍           | 66/100 [00:20<00:10,  3.26it/s]\n"
     ]
    }
   ],
   "source": [
    "EXtremeDB.run_all(\"2019-04-01 00:00:00\", \"2019-04-30 00:00:00\", \"d1_v\")\n"
   ]
  },
  {
   "cell_type": "code",
   "execution_count": null,
   "id": "408341a2",
   "metadata": {
    "scrolled": true
   },
   "outputs": [],
   "source": [
    "n_threads = 100\n",
    "stop_insertion = [False for i in range(n_threads)]\n",
    "rate = 20\n",
    "\n",
    "# 20K dp/s\n",
    "\n",
    "# Launch insertion\n",
    "for i in range(n_threads):  \n",
    "    t1 = Thread(target = EXtremeDB.insert_file, args=(100_000, rate, i))\n",
    "#     t1 = Thread(target = ClickHouse.insert_by_point, args=(rate, i))\n",
    "    t1.setDaemon(True)\n",
    "    t1.start()\n",
    "\n",
    "# insert_new(200, 1)"
   ]
  },
  {
   "cell_type": "code",
   "execution_count": 7,
   "id": "c30bc8bf",
   "metadata": {},
   "outputs": [],
   "source": [
    "rate = 20"
   ]
  },
  {
   "cell_type": "code",
   "execution_count": 8,
   "id": "151db443",
   "metadata": {},
   "outputs": [],
   "source": [
    "# select count(*) from select flattened id_station, seq_search(t,1556582400,1559496000) as tt, s4 FROM d1_ingest_v;"
   ]
  },
  {
   "cell_type": "code",
   "execution_count": 14,
   "id": "8767f0ce",
   "metadata": {
    "scrolled": true
   },
   "outputs": [],
   "source": [
    "time.sleep(8 * 8640 // rate)"
   ]
  },
  {
   "cell_type": "code",
   "execution_count": 10,
   "id": "10791d6b",
   "metadata": {
    "scrolled": true
   },
   "outputs": [
    {
     "name": "stderr",
     "output_type": "stream",
     "text": [
      "100%|█████████████████████████████████| 100/100 [00:18<00:00,  5.36it/s]\n",
      "100%|████████████████████████████████| 100/100 [00:00<00:00, 136.86it/s]\n",
      "100%|████████████████████████████████| 100/100 [00:00<00:00, 122.86it/s]\n",
      " 50%|█████████████████                 | 50/100 [00:20<00:20,  2.39it/s]\n",
      " 28%|█████████▌                        | 28/100 [00:20<00:52,  1.37it/s]\n"
     ]
    }
   ],
   "source": [
    "EXtremeDB.run_all(\"2019-04-01 00:00:00\", \"2019-04-30 00:00:00\", \"d1_v_ingest\")"
   ]
  },
  {
   "cell_type": "code",
   "execution_count": 11,
   "id": "5ecda0d7",
   "metadata": {
    "scrolled": true
   },
   "outputs": [
    {
     "name": "stderr",
     "output_type": "stream",
     "text": [
      "100%|█████████████████████████████████| 100/100 [00:15<00:00,  6.55it/s]\n",
      "100%|█████████████████████████████████| 100/100 [00:04<00:00, 20.24it/s]\n",
      "100%|█████████████████████████████████| 100/100 [00:05<00:00, 19.60it/s]\n",
      "100%|████████████████████████████████| 100/100 [00:00<00:00, 179.03it/s]\n",
      " 31%|██████████▌                       | 31/100 [00:21<00:47,  1.46it/s]\n"
     ]
    }
   ],
   "source": [
    "EXtremeDB.run_all(\"2019-05-01 01:00:00\", \"2019-05-02 00:00:00\", \"d1_v_ingest\")"
   ]
  },
  {
   "cell_type": "code",
   "execution_count": 12,
   "id": "486e20ca",
   "metadata": {
    "scrolled": true
   },
   "outputs": [
    {
     "name": "stderr",
     "output_type": "stream",
     "text": [
      "100%|█████████████████████████████████| 100/100 [00:18<00:00,  5.33it/s]\n",
      "100%|█████████████████████████████████| 100/100 [00:04<00:00, 20.19it/s]\n",
      "100%|████████████████████████████████| 100/100 [00:00<00:00, 178.79it/s]\n",
      "100%|████████████████████████████████| 100/100 [00:00<00:00, 396.44it/s]\n",
      " 21%|███████▏                          | 21/100 [00:21<01:22,  1.04s/it]\n"
     ]
    }
   ],
   "source": [
    "EXtremeDB.run_all(\"2019-04-29 01:00:00\", \"2019-05-02 00:00:00\", \"d1_v_ingest\")"
   ]
  },
  {
   "cell_type": "code",
   "execution_count": null,
   "id": "fd7751d1",
   "metadata": {},
   "outputs": [],
   "source": [
    "stop_insertion = [True for i in range(n_threads)]\n"
   ]
  },
  {
   "cell_type": "code",
   "execution_count": 13,
   "id": "e9ceed2c",
   "metadata": {},
   "outputs": [
    {
     "data": {
      "text/plain": [
       "[['37.27$\\\\pm$7.78',\n",
       "  '186.11$\\\\pm$596.16',\n",
       "  '152.22$\\\\pm$693.73',\n",
       "  '187.28$\\\\pm$504.03'],\n",
       " ['7.92$\\\\pm$7.36', '6.99$\\\\pm$5.82', '49.11$\\\\pm$427.8', '49.19$\\\\pm$292.84'],\n",
       " ['8.93$\\\\pm$8.45', '7.8$\\\\pm$6.37', '50.69$\\\\pm$342.34', '5.26$\\\\pm$3.78'],\n",
       " ['8.14$\\\\pm$8.08', '409.02$\\\\pm$1122.77', '5.31$\\\\pm$38.32', '2.2$\\\\pm$1.6'],\n",
       " ['301.25$\\\\pm$10.67',\n",
       "  '703.2$\\\\pm$844.48',\n",
       "  '661.11$\\\\pm$696.06',\n",
       "  '994.67$\\\\pm$1325.66']]"
      ]
     },
     "execution_count": 13,
     "metadata": {},
     "output_type": "execute_result"
    }
   ],
   "source": [
    "results "
   ]
  },
  {
   "cell_type": "code",
   "execution_count": null,
   "id": "db41430b",
   "metadata": {},
   "outputs": [],
   "source": [
    "runtimes = [[float(results[i][j].split('$')[0]) for j in range(len(results[i]))][:4] for i in range(5)]\n",
    "variance = [[float(results[i][j].split('$')[2]) for j in range(len(results[i]))][:4] for i in range(5)]"
   ]
  },
  {
   "cell_type": "code",
   "execution_count": null,
   "id": "45eea9bc",
   "metadata": {},
   "outputs": [],
   "source": [
    "runtimes = list(map(list, zip(*runtimes)))\n",
    "variance = list(map(list, zip(*variance)))\n"
   ]
  },
  {
   "cell_type": "code",
   "execution_count": null,
   "id": "28b8cfd6",
   "metadata": {},
   "outputs": [],
   "source": [
    "runtimes"
   ]
  },
  {
   "cell_type": "code",
   "execution_count": null,
   "id": "253767d1",
   "metadata": {
    "scrolled": false
   },
   "outputs": [],
   "source": [
    "import numpy as np\n",
    "import matplotlib.pyplot as plt\n",
    "X = np.arange(5)\n",
    "labels = ['query'+str(1+i) for i in range(5)]\n",
    "fig = plt.figure(figsize=(8, 6))\n",
    "ax = fig.add_axes([0,0,1,1])\n",
    "for i in range(4):\n",
    "    ax.bar(X +0.15*i, runtimes[i], yerr = variance[i], width = 0.15)\n",
    "ax.legend(['offline', 'online old', 'online new', 'online mixed', ])\n",
    "ax.set_xticklabels(labels)\n",
    "ax.set_xticks(np.arange(len(labels)))\n",
    "ax.yaxis.grid(True)\n",
    "plt.title('ClickHouse offline vs. online, rate: '+ str(rate) + ' x ' + str(n_threads))\n",
    "plt.tight_layout()\n",
    "\n",
    "# ax.bar(X+0.25, data[1], color = 'g', width = 0.25)\n",
    "# ax.bar(X+0.5, data[2], color = 'r', width = 0.25)"
   ]
  },
  {
   "cell_type": "code",
   "execution_count": null,
   "id": "71dee257",
   "metadata": {},
   "outputs": [],
   "source": [
    "import exdb \n",
    "import datetime\n",
    "exdb.init_runtime(debug = False, shm = False, disk = False, tmgr = 'mursiw')\n",
    "con = exdb.connect('diufrm118', 5001)\n",
    "curs = con.cursor()\n",
    "curs.execute(\"DROP table d1_ingest_v;\")\n",
    "curs.execute(\"CREATE TABLE d1_ingest_v (id_station string PRIMARY KEY, t sequence(TIMESTAMP asc), s0 sequence(DOUBLE), s1 sequence(DOUBLE), s2 sequence(DOUBLE), s3 sequence(DOUBLE), s4 sequence(DOUBLE), s5 sequence(DOUBLE), s6 sequence(DOUBLE), s7 sequence(DOUBLE), s8 sequence(DOUBLE), s9 sequence(DOUBLE), s10 sequence(DOUBLE), s11 sequence(DOUBLE), s12 sequence(DOUBLE), s13 sequence(DOUBLE), s14 sequence(DOUBLE), s15 sequence(DOUBLE), s16 sequence(DOUBLE), s17 sequence(DOUBLE), s18 sequence(DOUBLE), s19 sequence(DOUBLE), s20 sequence(DOUBLE), s21 sequence(DOUBLE), s22 sequence(DOUBLE), s23 sequence(DOUBLE), s24 sequence(DOUBLE), s25 sequence(DOUBLE), s26 sequence(DOUBLE), s27 sequence(DOUBLE), s28 sequence(DOUBLE), s29 sequence(DOUBLE), s30 sequence(DOUBLE), s31 sequence(DOUBLE), s32 sequence(DOUBLE), s33 sequence(DOUBLE), s34 sequence(DOUBLE), s35 sequence(DOUBLE), s36 sequence(DOUBLE), s37 sequence(DOUBLE), s38 sequence(DOUBLE), s39 sequence(DOUBLE), s40 sequence(DOUBLE), s41 sequence(DOUBLE), s42 sequence(DOUBLE), s43 sequence(DOUBLE), s44 sequence(DOUBLE), s45 sequence(DOUBLE), s46 sequence(DOUBLE), s47 sequence(DOUBLE), s48 sequence(DOUBLE), s49 sequence(DOUBLE), s50 sequence(DOUBLE), s51 sequence(DOUBLE), s52 sequence(DOUBLE), s53 sequence(DOUBLE), s54 sequence(DOUBLE), s55 sequence(DOUBLE), s56 sequence(DOUBLE), s57 sequence(DOUBLE), s58 sequence(DOUBLE), s59 sequence(DOUBLE), s60 sequence(DOUBLE), s61 sequence(DOUBLE), s62 sequence(DOUBLE), s63 sequence(DOUBLE), s64 sequence(DOUBLE), s65 sequence(DOUBLE), s66 sequence(DOUBLE), s67 sequence(DOUBLE), s68 sequence(DOUBLE), s69 sequence(DOUBLE), s70 sequence(DOUBLE), s71 sequence(DOUBLE), s72 sequence(DOUBLE), s73 sequence(DOUBLE), s74 sequence(DOUBLE), s75 sequence(DOUBLE), s76 sequence(DOUBLE), s77 sequence(DOUBLE), s78 sequence(DOUBLE), s79 sequence(DOUBLE), s80 sequence(DOUBLE), s81 sequence(DOUBLE), s82 sequence(DOUBLE), s83 sequence(DOUBLE), s84 sequence(DOUBLE), s85 sequence(DOUBLE), s86 sequence(DOUBLE), s87 sequence(DOUBLE), s88 sequence(DOUBLE), s89 sequence(DOUBLE), s90 sequence(DOUBLE), s91 sequence(DOUBLE), s92 sequence(DOUBLE), s93 sequence(DOUBLE), s94 sequence(DOUBLE), s95 sequence(DOUBLE), s96 sequence(DOUBLE), s97 sequence(DOUBLE), s98 sequence(DOUBLE), s99 sequence(DOUBLE));\")\n",
    "# curs.execute(\"trace on\")\n",
    "curs.execute(\"insert or update into d1_ingest_v select id_station,(substr(t,1,10)||' '||substr(t,12,8))::timestamp::bigint,s0,s1,s2,s3,s4,s5,s6,s7,s8,s9,s10,s11,s12,s13,s14,s15,s16,s17,s18,s19,s20,s21,s22,s23,s24,s25,s26,s27,s28,s29,s30,s31,s32,s33,s34,s35,s36,s37,s38,s39,s40,s41,s42,s43,s44,s45,s46,s47,s48,s49,s50,s51,s52,s53,s54,s55,s56,s57,s58,s59,s60,s61,s62,s63,s64,s65,s66,s67,s68,s69,s70,s71,s72,s73,s74,s75,s76,s77,s78,s79,s80,s81,s82,s83,s84,s85,s86,s87,s88,s89,s90,s91,s92,s93,s94,s95,s96,s97,s98,s99 from foreign table(path='/home/abdel/d1_data/d1.csv', skip=1) as d1_h;\")\n",
    "        "
   ]
  },
  {
   "cell_type": "code",
   "execution_count": null,
   "id": "f35eda70",
   "metadata": {},
   "outputs": [],
   "source": [
    "# insert data"
   ]
  },
  {
   "cell_type": "code",
   "execution_count": null,
   "id": "50affeae",
   "metadata": {},
   "outputs": [],
   "source": []
  }
 ],
 "metadata": {
  "kernelspec": {
   "display_name": "Python 3 (ipykernel)",
   "language": "python",
   "name": "python3"
  },
  "language_info": {
   "codemirror_mode": {
    "name": "ipython",
    "version": 3
   },
   "file_extension": ".py",
   "mimetype": "text/x-python",
   "name": "python",
   "nbconvert_exporter": "python",
   "pygments_lexer": "ipython3",
   "version": "3.8.10"
  }
 },
 "nbformat": 4,
 "nbformat_minor": 5
}
