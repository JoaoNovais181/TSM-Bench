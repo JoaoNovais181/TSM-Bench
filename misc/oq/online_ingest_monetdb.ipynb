{
 "cells": [
  {
   "cell_type": "code",
   "execution_count": 1,
   "id": "8e5ad9f1",
   "metadata": {},
   "outputs": [],
   "source": [
    "import time\n",
    "import statistics as stats\n",
    "import multiprocessing\n",
    "import time \n",
    "import random\n",
    "import time\n",
    "from tqdm import tqdm\n",
    "from datetime import timedelta\n",
    "from datetime import datetime\n",
    "start_program = time.time()\n",
    "from multiprocessing import *\n",
    "import pandas as pd\n",
    "import numpy as np\n",
    "from threading import Thread\n",
    "import time\n",
    "import subprocess \n"
   ]
  },
  {
   "cell_type": "code",
   "execution_count": 2,
   "id": "8e2cda1a",
   "metadata": {},
   "outputs": [],
   "source": [
    "results = [[] for i in range(5)]\n",
    "\n",
    "n_it = 100\n",
    "\n",
    "\n",
    "n_st = number_stations = 10\n",
    "n_s = number_sensors = 100\n",
    "\n",
    "def_st = 1\n",
    "def_s = 3\n",
    "def_r = 'day'\n",
    "\n",
    "\n",
    "set_date = [random.random() for i in range(500)]\n"
   ]
  },
  {
   "cell_type": "code",
   "execution_count": 3,
   "id": "9a4c5bbe",
   "metadata": {},
   "outputs": [],
   "source": [
    "\n",
    "def str_time_prop(start, end, time_format, prop):\n",
    "    \"\"\"Get a time at a proportion of a range of two formatted times.\n",
    "\n",
    "    start and end should be strings specifying times formatted in the\n",
    "    given format (strftime-style), giving an interval [start, end].\n",
    "    prop specifies how a proportion of the interval to be taken after\n",
    "    start.  The returned time will be in the specified format.\n",
    "    \"\"\"\n",
    "\n",
    "    stime = time.mktime(time.strptime(start, time_format))\n",
    "    etime = time.mktime(time.strptime(end, time_format))\n",
    "\n",
    "    ptime = stime + prop * (etime - stime)\n",
    "\n",
    "    return time.strftime(time_format, time.localtime(ptime))\n",
    "\n",
    "\n",
    "\n",
    "def random_date(start, end, prop, dform = '%Y-%m-%dT%H:%M:%S'):\n",
    "    return str_time_prop(start, end, dform, prop)\n",
    "    \n",
    "    \n",
    "def to_pm(v):\n",
    "    return str(round(v[0][0],2)) + \"$\" + '\\\\' + \"pm$\" + str(round(v[1][0],2))\n"
   ]
  },
  {
   "cell_type": "markdown",
   "id": "462a529f",
   "metadata": {},
   "source": [
    "# Queries"
   ]
  },
  {
   "cell_type": "code",
   "execution_count": 4,
   "id": "e955bf6e",
   "metadata": {},
   "outputs": [],
   "source": [
    "\n",
    "m_q1 = \"\"\"select time, id_station, <sid> FROM <db> where id_station in <stid> \\\n",
    "AND time > TIMESTAMP '<timestamp>' - INTERVAL '<nb>' <rangesUnit> \\\n",
    "AND time < TIMESTAMP '<timestamp>'\"\"\"\n",
    "# m_q1 = \"\"\"select time, s<sid> FROM d1 where id_station='st<stid>' \\\n",
    "# AND time > TIMESTAMP '<timestamp>' - INTERVAL '<nb>' <rangesUnit> \\\n",
    "# AND time < TIMESTAMP '<timestamp>'\"\"\"\n",
    "m_q2 = \"\"\"select time, id_station, <sid> FROM <db> where id_station in <stid>\n",
    "AND time > TIMESTAMP '<timestamp>' - INTERVAL '<nb>' <rangesUnit> \n",
    "AND time < TIMESTAMP '<timestamp>' AND <sfilter>\"\"\"\n",
    "m_q3 = \"\"\"SELECT id_station, <avg_s> FROM <db> \n",
    "WHERE time > TIMESTAMP '<timestamp>' - INTERVAL '<nb>' <rangesUnit> \n",
    "AND time < TIMESTAMP '<timestamp>'\n",
    "AND id_station in <stid>\n",
    "GROUP BY id_station\"\"\"\n",
    "m_q4 = \"\"\"SELECT id_station, EXTRACT(YEAR FROM time) AS \"year\",\n",
    "EXTRACT(MONTH FROM time) AS \"month\", \n",
    "EXTRACT(DAY FROM time) AS \"day\", \n",
    "EXTRACT(HOUR FROM time) \n",
    "AS \"hour\", <avg_s> \n",
    "FROM <db> where  time > TIMESTAMP '<timestamp>' - INTERVAL '<nb>' <rangesUnit> \n",
    "AND time < TIMESTAMP '<timestamp>'\n",
    "AND id_station in <stid>\n",
    "GROUP BY id_station, \"year\", \"month\", \"day\", \"hour\" \"\"\"\n",
    "m_q5 = \"\"\"\"\"\""
   ]
  },
  {
   "cell_type": "code",
   "execution_count": 5,
   "id": "725e5b78",
   "metadata": {},
   "outputs": [],
   "source": [
    "import pymonetdb\n",
    "from tqdm import tqdm \n",
    "import time\n",
    "\n",
    "class MonetDB:\n",
    " \n",
    "    # A sample method \n",
    "    @staticmethod\n",
    "    def query(query, db, max_d, rangesUnit, n_it, start_date = \"2019-04-01T00:00:00\", stop_date = \"2019-04-30T00:00:00\", n_st = 1, n_s = 10):\n",
    "        \n",
    "        conn = pymonetdb.connect(username=\"monetdb\", port=54320, password=\"monetdb\", hostname=\"diufrm118\", database=\"mydb\", autocommit = True)\n",
    "        cursor = conn.cursor()\n",
    "        cursor.execute(\"select time, s4 FROM d1 where id_station='st1' AND time > TIMESTAMP '2019-03-06T16:57:36' - INTERVAL '1' day AND time < TIMESTAMP '2019-03-06T16:57:36';\")\n",
    "        cursor.fetchall()\n",
    "#         cursor.execute(\"set jit = off;\")\n",
    "        results = [[],[]]\n",
    "        \n",
    "        duration = max_d\n",
    "        \n",
    "        \n",
    "        runtimes = []\n",
    "        full_time = time.time()\n",
    "        for i in tqdm(range(n_it)):\n",
    "#             time.sleep(0.5)\n",
    "            date = random_date(start_date, stop_date, set_date[(duration*i)%500], dform = '%Y-%m-%dT%H:%M:%S')\n",
    "            temp = query.replace(\"<timestamp>\", date)\n",
    "            temp = temp.replace(\"<nb>\", str(duration))\n",
    "            temp = temp.replace(\"<rangesUnit>\", str(rangesUnit))\n",
    "            \n",
    "            li = ['st' + str(z) for z in random.sample(range(number_stations), n_st)]\n",
    "            q = '(' + \"'\" + li[0] + \"'\"\n",
    "            for j in li[1:]:\n",
    "                q += ', ' + \"'\" + j + \"'\"\n",
    "            q += \")\"\n",
    "            temp = temp.replace(\"<stid>\", q)\n",
    "            \n",
    "            # sensor\n",
    "            li = ['s' + str(z) for z in random.sample(range(number_sensors), n_s)]\n",
    "            q = li[0]\n",
    "            q_filter = \"(\" + li[0] + ' > 0.95'\n",
    "            q_interpolate_avg = 'interpolate(avg(' + li[0] + '))'\n",
    "            q_avg = 'avg(' + li[0] + ')'\n",
    "            for j in li[1:]:\n",
    "                q += ', ' + j\n",
    "#                 q_filter += ' OR ' + j + ' > 0.95'\n",
    "                q_avg += ', ' + 'avg(' + j + ')'\n",
    "                q_interpolate_avg += ', interpolate(avg(' + j + '))'\n",
    "\n",
    "            temp = temp.replace(\"<db>\", db)\n",
    "            temp = temp.replace(\"<sid>\", q)\n",
    "            temp = temp.replace(\"<sfilter>\", q_filter + \")\")\n",
    "            temp = temp.replace(\"<interpolate_avg>\", q_interpolate_avg)\n",
    "            temp = temp.replace(\"<avg_s>\", q_avg)\n",
    "\n",
    "            start = time.time()\n",
    "#             print(temp)\n",
    "            cursor.execute(temp)\n",
    "            cursor.fetchall()\n",
    "            diff = (time.time()-start)*1000\n",
    "#             print(temp, diff)\n",
    "            runtimes.append(diff)\n",
    "            if time.time() - full_time > 20 and i > 5: \n",
    "                break                \n",
    "#         print(temp)\n",
    "        results[0].append(stats.mean(runtimes))\n",
    "#             results[1].append(percentile(runtimes,85))\n",
    "        results[1].append(stats.stdev(runtimes))\n",
    "        conn.close()\n",
    "        return results\n",
    "    \n",
    "    \n",
    "    @staticmethod\n",
    "    def insert_file(batch_size,rate, st):\n",
    "#         template_sql = \"INSERT INTO d1_wide_slow_ingest (time, id_station\"\n",
    "#         for i in range(100):\n",
    "#             template_sql += \", s\" + str(i)\n",
    "#         template_sql += \") VALUES ('%s', '%s',\"  + ','.join(100* [' %s']) + ');'\n",
    "\n",
    "        conn = pymonetdb.connect(username=\"monetdb\", port=54320, password=\"monetdb\", hostname=\"diufrm118\", database=\"mydb\", autocommit = True)\n",
    "        cur = conn.cursor()\n",
    "        file = '/home/abdel/venv2/bin/insertion-100/short_ts' + str(st) + '.csv'\n",
    "        f = open(file, \"r\")\n",
    "        f = f.read()\n",
    "        f = f.splitlines()[1:]\n",
    "        for i in range(len(f)):\n",
    "            f[i] = f[i].split(',')            \n",
    "            temp = \"'\" + f[i][0] + \"' , \" + \"'\" + f[i][1] + \"' \"\n",
    "            for e in f[i][2:]:\n",
    "                temp += \", \" + str(e)\n",
    "            f[i] = temp\n",
    "        queries = []\n",
    "        for i in range(0, len(f), rate):\n",
    "            q = \"INSERT INTO d1_ingest VALUES (\" +  f[i] + \")\"\n",
    "            for i in f[i+1:i+rate]:\n",
    "                q += \", (\" + i + \")\"\n",
    "            queries.append(q)\n",
    "        start = time.time()\n",
    "        a = 0\n",
    "        print('insertion st' + str(st) + ' started')\n",
    "        while not stop_insertion[st]: \n",
    "            starttime = time.time()\n",
    "            cur.execute(queries[a])\n",
    "            a += 1\n",
    "            diff = 1.0 - ((time.time() - starttime))\n",
    "            try: \n",
    "                time.sleep(diff)\n",
    "            except: \n",
    "                print(diff)\n",
    "        \n",
    "    @staticmethod\n",
    "    def insert_file_1station(batch_size,rate, st, f):\n",
    "#         template_sql = \"INSERT INTO d1_wide_slow_ingest (time, id_station\"\n",
    "#         for i in range(100):\n",
    "#             template_sql += \", s\" + str(i)\n",
    "#         template_sql += \") VALUES ('%s', '%s',\"  + ','.join(100* [' %s']) + ');'\n",
    "\n",
    "        conn = pymonetdb.connect(username=\"monetdb\", port=54320, password=\"monetdb\", hostname=\"diufrm118\", database=\"mydb\", autocommit = True)\n",
    "        cur = conn.cursor()\n",
    "#         file = '/home/abdel/venv2/bin/insertion-100/short_ts' + str(st) + '.csv'\n",
    "#         f = open(file, \"r\")\n",
    "#         f = f.read()\n",
    "#         f = f.splitlines()[1:]\n",
    "#         for i in range(len(f)):\n",
    "#             f[i] = f[i].split(',')            \n",
    "#             temp = \"'\" + f[i][0] + \"' , \" + \"'\" + f[i][1] + \"' \"\n",
    "#             for e in f[i][2:]:\n",
    "#                 temp += \", \" + str(e)\n",
    "#             f[i] = temp\n",
    "        queries = []\n",
    "        for i in range(0, len(f), rate):\n",
    "            q = \"INSERT INTO d1_ingest VALUES (\" +  f[i] + \")\"\n",
    "            for i in f[i+1:i+rate]:\n",
    "                q += \", (\" + i + \")\"\n",
    "            queries.append(q)\n",
    "        start = time.time()\n",
    "        a = 0\n",
    "        print('insertion st' + str(st) + ' started')\n",
    "        while not stop_insertion[st]: \n",
    "            starttime = time.time()\n",
    "            cur.execute(queries[a])\n",
    "            a += 1\n",
    "            diff = 1.0 - ((time.time() - starttime))\n",
    "            try: \n",
    "                time.sleep(diff)\n",
    "            except: \n",
    "                print(diff)\n",
    "        \n",
    "        \n",
    "    @staticmethod\n",
    "    def run_all(start, stop, db):\n",
    "        results[0].append(to_pm(MonetDB.query(m_q1, db, 1, def_r, n_it, start, stop, n_st = def_st, n_s = def_s)))\n",
    "        results[1].append(to_pm(MonetDB.query(m_q2, db, 1, def_r, n_it, start, stop, n_st = def_st, n_s = def_s)))\n",
    "        results[2].append(to_pm(MonetDB.query(m_q3, db, 1, def_r, n_it, start, stop, n_st = def_st, n_s = def_s)))\n",
    "        results[3].append(to_pm(MonetDB.query(m_q4, db, 1, def_r, n_it, start, stop, n_st = def_st, n_s = def_s)))\n",
    "#         results[4].append(to_pm(MonetDB.query(m_q5, db, 1, def_r, n_it, start, stop, n_st = def_st, n_s = def_s)))\n",
    "    \n",
    "    \n",
    "    \n",
    "    "
   ]
  },
  {
   "cell_type": "code",
   "execution_count": null,
   "id": "2fc83fcf",
   "metadata": {},
   "outputs": [],
   "source": [
    "MonetDB.run_all(\"2019-04-01T00:00:00\", \"2019-04-30T00:00:00\", \"d1\")"
   ]
  },
  {
   "cell_type": "code",
   "execution_count": 6,
   "id": "06ddf65e",
   "metadata": {},
   "outputs": [
    {
     "name": "stderr",
     "output_type": "stream",
     "text": [
      "100%|████████████████████████████████████████████████████████████████████| 10/10 [01:43<00:00, 10.39s/it]\n"
     ]
    }
   ],
   "source": [
    "data = []\n",
    "for st in tqdm(range(10)):    \n",
    "    file = '/home/abdel/venv2/bin/insertion-100/short_ts' + str(st) + '.csv'\n",
    "    f = open(file, \"r\")\n",
    "    f = f.read()\n",
    "    f = f.splitlines()[1:]\n",
    "    for i in range(len(f)):\n",
    "        f[i] = f[i].split(',')            \n",
    "        temp = \"'\" + f[i][0] + \"' , \" + \"'\" + f[i][1] + \"' \"\n",
    "        for e in f[i][2:]:\n",
    "            temp += \", \" + str(e)\n",
    "        f[i] = temp    \n",
    "#     f = [\"\\n\".join(f[i:i+rate])  for i in tqdm(range(0, len(f), rate)]\n",
    "    data.append(f)\n",
    "data2 = []\n",
    "for i in range(len(data[0])):\n",
    "    for j in range(10):\n",
    "        data2.append(data[j][i])\n",
    "f = data2"
   ]
  },
  {
   "cell_type": "code",
   "execution_count": 7,
   "id": "ecf0892b",
   "metadata": {},
   "outputs": [],
   "source": [
    "n_threads = 1\n",
    "stop_insertion = [False for i in range(n_threads)]\n",
    "rate = 200"
   ]
  },
  {
   "cell_type": "code",
   "execution_count": 14,
   "id": "f97f42ed",
   "metadata": {},
   "outputs": [
    {
     "name": "stdout",
     "output_type": "stream",
     "text": [
      "insertion st0 started\n",
      "-5.4193994998931885\n",
      "-4.282857179641724\n",
      "-6.17637825012207\n",
      "-4.724963665008545\n"
     ]
    }
   ],
   "source": [
    "n_threads = 1\n",
    "stop_insertion = [False for i in range(n_threads)]\n",
    "rate = 10000\n",
    "\n",
    "# 20K dp/s\n",
    "\n",
    "# Launch insertion\n",
    "for i in range(n_threads):  \n",
    "    t1 = Thread(target = MonetDB.insert_file_1station, args=(100_000, rate, i, f))\n",
    "#     t1 = Thread(target = ClickHouse.insert_by_point, args=(rate, i))\n",
    "    t1.setDaemon(True)\n",
    "    t1.start()\n",
    "\n",
    "# insert_new(200, 1)"
   ]
  },
  {
   "cell_type": "code",
   "execution_count": null,
   "id": "408341a2",
   "metadata": {
    "scrolled": true
   },
   "outputs": [],
   "source": [
    "n_threads = 100\n",
    "stop_insertion = [False for i in range(n_threads)]\n",
    "rate = 200\n",
    "\n",
    "# 20K dp/s\n",
    "\n",
    "# Launch insertion\n",
    "for i in range(n_threads):  \n",
    "    t1 = Thread(target = MonetDB.insert_file, args=(100_000, rate, i))\n",
    "#     t1 = Thread(target = ClickHouse.insert_by_point, args=(rate, i))\n",
    "    t1.setDaemon(True)\n",
    "    t1.start()\n",
    "\n",
    "# insert_new(200, 1)"
   ]
  },
  {
   "cell_type": "code",
   "execution_count": 16,
   "id": "8767f0ce",
   "metadata": {
    "scrolled": true
   },
   "outputs": [],
   "source": [
    "time.sleep(3 * 8640 // rate)"
   ]
  },
  {
   "cell_type": "code",
   "execution_count": null,
   "id": "10791d6b",
   "metadata": {
    "scrolled": true
   },
   "outputs": [],
   "source": [
    "MonetDB.run_all(\"2019-04-01T00:00:00\", \"2019-04-30T00:00:00\", \"d1_ingest\")"
   ]
  },
  {
   "cell_type": "code",
   "execution_count": null,
   "id": "5ecda0d7",
   "metadata": {
    "scrolled": true
   },
   "outputs": [],
   "source": [
    "MonetDB.run_all(\"2019-05-01T01:00:00\", \"2019-05-02T00:00:00\", \"d1_ingest\")"
   ]
  },
  {
   "cell_type": "code",
   "execution_count": null,
   "id": "486e20ca",
   "metadata": {
    "scrolled": true
   },
   "outputs": [],
   "source": [
    "MonetDB.run_all(\"2019-04-29T01:00:00\", \"2019-05-02T00:00:00\", \"d1_ingest\")"
   ]
  },
  {
   "cell_type": "code",
   "execution_count": 15,
   "id": "fd7751d1",
   "metadata": {},
   "outputs": [
    {
     "name": "stdout",
     "output_type": "stream",
     "text": [
      "-4.592207908630371\n"
     ]
    }
   ],
   "source": [
    "stop_insertion = [True for i in range(n_threads)]\n"
   ]
  },
  {
   "cell_type": "code",
   "execution_count": null,
   "id": "e9ceed2c",
   "metadata": {},
   "outputs": [],
   "source": [
    "results "
   ]
  },
  {
   "cell_type": "code",
   "execution_count": null,
   "id": "db41430b",
   "metadata": {},
   "outputs": [],
   "source": [
    "runtimes = [[float(results[i][j].split('$')[0]) for j in range(len(results[i]))][:4] for i in range(5)]\n",
    "variance = [[float(results[i][j].split('$')[2]) for j in range(len(results[i]))][:4] for i in range(5)]"
   ]
  },
  {
   "cell_type": "code",
   "execution_count": null,
   "id": "45eea9bc",
   "metadata": {},
   "outputs": [],
   "source": [
    "runtimes = list(map(list, zip(*runtimes)))\n",
    "variance = list(map(list, zip(*variance)))\n"
   ]
  },
  {
   "cell_type": "code",
   "execution_count": null,
   "id": "28b8cfd6",
   "metadata": {},
   "outputs": [],
   "source": [
    "runtimes"
   ]
  },
  {
   "cell_type": "code",
   "execution_count": null,
   "id": "253767d1",
   "metadata": {
    "scrolled": false
   },
   "outputs": [],
   "source": [
    "import numpy as np\n",
    "import matplotlib.pyplot as plt\n",
    "X = np.arange(5)\n",
    "labels = ['query'+str(1+i) for i in range(5)]\n",
    "fig = plt.figure(figsize=(8, 6))\n",
    "ax = fig.add_axes([0,0,1,1])\n",
    "for i in range(4):\n",
    "    ax.bar(X +0.15*i, runtimes[i], yerr = variance[i], width = 0.15)\n",
    "ax.legend(['offline', 'online old', 'online new', 'online mixed', ])\n",
    "ax.set_xticklabels(labels)\n",
    "ax.set_xticks(np.arange(len(labels)))\n",
    "ax.yaxis.grid(True)\n",
    "plt.title('ClickHouse offline vs. online, rate: '+ str(rate) + ' x ' + str(n_threads))\n",
    "plt.tight_layout()\n",
    "\n",
    "# ax.bar(X+0.25, data[1], color = 'g', width = 0.25)\n",
    "# ax.bar(X+0.5, data[2], color = 'r', width = 0.25)"
   ]
  },
  {
   "cell_type": "code",
   "execution_count": 11,
   "id": "71dee257",
   "metadata": {},
   "outputs": [
    {
     "data": {
      "text/plain": [
       "5184000"
      ]
     },
     "execution_count": 11,
     "metadata": {},
     "output_type": "execute_result"
    }
   ],
   "source": [
    "import pymonetdb\n",
    "\n",
    "c = pymonetdb.connect(username=\"monetdb\", port=54320, password=\"monetdb\", hostname=\"diufrm118\", database=\"mydb\", autocommit = True)\n",
    "cur = c.cursor()\n",
    "cur.execute(\"drop table d1_ingest;\")\n",
    "cur.execute(\"CREATE TABLE d1_ingest ( time TIMESTAMP NOT NULL, id_station STRING, s0 DOUBLE PRECISION , s1 DOUBLE PRECISION , s2 DOUBLE PRECISION , s3 DOUBLE PRECISION , s4 DOUBLE PRECISION , s5 DOUBLE PRECISION , s6 DOUBLE PRECISION , s7 DOUBLE PRECISION , s8 DOUBLE PRECISION , s9 DOUBLE PRECISION , s10 DOUBLE PRECISION , s11 DOUBLE PRECISION , s12 DOUBLE PRECISION , s13 DOUBLE PRECISION , s14 DOUBLE PRECISION , s15 DOUBLE PRECISION , s16 DOUBLE PRECISION , s17 DOUBLE PRECISION , s18 DOUBLE PRECISION , s19 DOUBLE PRECISION , s20 DOUBLE PRECISION , s21 DOUBLE PRECISION , s22 DOUBLE PRECISION , s23 DOUBLE PRECISION , s24 DOUBLE PRECISION , s25 DOUBLE PRECISION , s26 DOUBLE PRECISION , s27 DOUBLE PRECISION , s28 DOUBLE PRECISION , s29 DOUBLE PRECISION , s30 DOUBLE PRECISION , s31 DOUBLE PRECISION , s32 DOUBLE PRECISION , s33 DOUBLE PRECISION , s34 DOUBLE PRECISION , s35 DOUBLE PRECISION , s36 DOUBLE PRECISION , s37 DOUBLE PRECISION , s38 DOUBLE PRECISION , s39 DOUBLE PRECISION , s40 DOUBLE PRECISION , s41 DOUBLE PRECISION , s42 DOUBLE PRECISION , s43 DOUBLE PRECISION , s44 DOUBLE PRECISION , s45 DOUBLE PRECISION , s46 DOUBLE PRECISION , s47 DOUBLE PRECISION , s48 DOUBLE PRECISION , s49 DOUBLE PRECISION , s50 DOUBLE PRECISION , s51 DOUBLE PRECISION , s52 DOUBLE PRECISION , s53 DOUBLE PRECISION , s54 DOUBLE PRECISION , s55 DOUBLE PRECISION , s56 DOUBLE PRECISION , s57 DOUBLE PRECISION , s58 DOUBLE PRECISION , s59 DOUBLE PRECISION , s60 DOUBLE PRECISION , s61 DOUBLE PRECISION , s62 DOUBLE PRECISION , s63 DOUBLE PRECISION , s64 DOUBLE PRECISION , s65 DOUBLE PRECISION , s66 DOUBLE PRECISION , s67 DOUBLE PRECISION , s68 DOUBLE PRECISION , s69 DOUBLE PRECISION , s70 DOUBLE PRECISION , s71 DOUBLE PRECISION , s72 DOUBLE PRECISION , s73 DOUBLE PRECISION , s74 DOUBLE PRECISION , s75 DOUBLE PRECISION , s76 DOUBLE PRECISION , s77 DOUBLE PRECISION , s78 DOUBLE PRECISION , s79 DOUBLE PRECISION , s80 DOUBLE PRECISION , s81 DOUBLE PRECISION , s82 DOUBLE PRECISION , s83 DOUBLE PRECISION , s84 DOUBLE PRECISION , s85 DOUBLE PRECISION , s86 DOUBLE PRECISION , s87 DOUBLE PRECISION , s88 DOUBLE PRECISION , s89 DOUBLE PRECISION , s90 DOUBLE PRECISION , s91 DOUBLE PRECISION , s92 DOUBLE PRECISION , s93 DOUBLE PRECISION , s94 DOUBLE PRECISION , s95 DOUBLE PRECISION , s96 DOUBLE PRECISION , s97 DOUBLE PRECISION , s98 DOUBLE PRECISION , s99 DOUBLE PRECISION );\")\n",
    "cur.execute(\"COPY OFFSET 2 INTO d1_ingest FROM '/home/abdel/d1_data/d1.csv' USING DELIMITERS ',','\\n';\")\n",
    "\n",
    "\n"
   ]
  },
  {
   "cell_type": "code",
   "execution_count": null,
   "id": "f35eda70",
   "metadata": {},
   "outputs": [],
   "source": [
    "# insert data"
   ]
  },
  {
   "cell_type": "code",
   "execution_count": null,
   "id": "50affeae",
   "metadata": {},
   "outputs": [],
   "source": []
  }
 ],
 "metadata": {
  "kernelspec": {
   "display_name": "Python 3 (ipykernel)",
   "language": "python",
   "name": "python3"
  },
  "language_info": {
   "codemirror_mode": {
    "name": "ipython",
    "version": 3
   },
   "file_extension": ".py",
   "mimetype": "text/x-python",
   "name": "python",
   "nbconvert_exporter": "python",
   "pygments_lexer": "ipython3",
   "version": "3.8.10"
  }
 },
 "nbformat": 4,
 "nbformat_minor": 5
}
