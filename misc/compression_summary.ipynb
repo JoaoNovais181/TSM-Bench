{
 "cells": [
  {
   "cell_type": "code",
   "execution_count": 1,
   "id": "bc7ef74f-45a3-4396-ac65-c18539575a86",
   "metadata": {},
   "outputs": [],
   "source": []
  },
  {
   "cell_type": "code",
   "execution_count": 1,
   "id": "da478cd1-853d-4948-8136-5baa45b584ef",
   "metadata": {},
   "outputs": [
    {
     "name": "stdout",
     "output_type": "stream",
     "text": [
      "Copied: ../systems/extremedb/time_and_compression.txt to ../results/data_loading/extremedb_time_and_compression.txt\n",
      "Copied: ../systems/druid/time_and_compression.txt to ../results/data_loading/druid_time_and_compression.txt\n",
      "Copied: ../systems/influx/time_and_compression.txt to ../results/data_loading/influx_time_and_compression.txt\n",
      "Copied: ../systems/clickhouse/time_and_compression.txt to ../results/data_loading/clickhouse_time_and_compression.txt\n",
      "Copied: ../systems/monetdb/time_and_compression.txt to ../results/data_loading/monetdb_time_and_compression.txt\n",
      "Copied: ../systems/questdb/time_and_compression.txt to ../results/data_loading/questdb_time_and_compression.txt\n",
      "Copied: ../systems/timescaledb/time_and_compression.txt to ../results/data_loading/timescaledb_time_and_compression.txt\n"
     ]
    }
   ],
   "source": [
    "import os\n",
    "import shutil\n",
    "\n",
    "# Define the paths\n",
    "results_folder = \"../results\"\n",
    "data_loading_folder = os.path.join(results_folder, \"data_loading\")\n",
    "\n",
    "# Create the 'data_loading' folder if it doesn't exist\n",
    "os.makedirs(data_loading_folder, exist_ok=True)\n",
    "\n",
    "# Walk through the directories matching the pattern\n",
    "\n",
    "\n",
    "for root, dirs, files in os.walk(\"../systems\"):\n",
    "    for file in files:\n",
    "        if file == \"time_and_compression.txt\":\n",
    "            source_file = os.path.join(root, file)\n",
    "            destination_file = os.path.join(data_loading_folder, os.path.basename(root) + \"_time_and_compression.txt\")\n",
    "            \n",
    "            # Copy the file to the 'data_loading' folder\n",
    "            shutil.copy(source_file, destination_file)\n",
    "            print(f\"Copied: {source_file} to {destination_file}\")\n"
   ]
  },
  {
   "cell_type": "code",
   "execution_count": null,
   "id": "e8fcac79-ad79-447b-a8da-ec8fa0b04ed6",
   "metadata": {},
   "outputs": [],
   "source": []
  }
 ],
 "metadata": {
  "kernelspec": {
   "display_name": "TSMvenv",
   "language": "python",
   "name": "tsmvenv"
  },
  "language_info": {
   "codemirror_mode": {
    "name": "ipython",
    "version": 3
   },
   "file_extension": ".py",
   "mimetype": "text/x-python",
   "name": "python",
   "nbconvert_exporter": "python",
   "pygments_lexer": "ipython3",
   "version": "3.8.10"
  }
 },
 "nbformat": 4,
 "nbformat_minor": 5
}
