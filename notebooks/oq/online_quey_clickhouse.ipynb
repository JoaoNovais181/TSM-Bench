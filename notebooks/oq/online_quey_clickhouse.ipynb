{
 "cells": [
  {
   "cell_type": "code",
   "execution_count": 1,
   "id": "8e5ad9f1",
   "metadata": {},
   "outputs": [],
   "source": [
    "import time\n",
    "import statistics as stats\n",
    "import multiprocessing\n",
    "import time \n",
    "import random\n",
    "import time\n",
    "from tqdm import tqdm\n",
    "from datetime import timedelta\n",
    "from datetime import datetime\n",
    "start_program = time.time()\n",
    "from multiprocessing import *\n",
    "import pandas as pd\n",
    "import numpy as np\n",
    "from threading import Thread\n",
    "import time\n",
    "import subprocess \n"
   ]
  },
  {
   "cell_type": "code",
   "execution_count": 2,
   "id": "8e2cda1a",
   "metadata": {},
   "outputs": [],
   "source": [
    "results = [[] for i in range(5)]\n",
    "\n",
    "n_it = 100\n",
    "\n",
    "\n",
    "n_st = number_stations = 10\n",
    "n_s = number_sensors = 100\n",
    "\n",
    "def_st = 1\n",
    "def_s = 3\n",
    "def_r = 'day'\n",
    "\n",
    "\n",
    "set_date = [random.random() for i in range(500)]\n"
   ]
  },
  {
   "cell_type": "code",
   "execution_count": 3,
   "id": "9a4c5bbe",
   "metadata": {},
   "outputs": [],
   "source": [
    "\n",
    "def str_time_prop(start, end, time_format, prop):\n",
    "    \"\"\"Get a time at a proportion of a range of two formatted times.\n",
    "\n",
    "    start and end should be strings specifying times formatted in the\n",
    "    given format (strftime-style), giving an interval [start, end].\n",
    "    prop specifies how a proportion of the interval to be taken after\n",
    "    start.  The returned time will be in the specified format.\n",
    "    \"\"\"\n",
    "\n",
    "    stime = time.mktime(time.strptime(start, time_format))\n",
    "    etime = time.mktime(time.strptime(end, time_format))\n",
    "\n",
    "    ptime = stime + prop * (etime - stime)\n",
    "\n",
    "    return time.strftime(time_format, time.localtime(ptime))\n",
    "\n",
    "\n",
    "\n",
    "def random_date(start, end, prop, dform = '%Y-%m-%dT%H:%M:%S'):\n",
    "    return str_time_prop(start, end, dform, prop)\n",
    "    \n",
    "    \n",
    "def to_pm(v):\n",
    "    return str(round(v[0][0],2)) + \"$\" + '\\\\' + \"pm$\" + str(round(v[1][0],2))\n"
   ]
  },
  {
   "cell_type": "markdown",
   "id": "462a529f",
   "metadata": {},
   "source": [
    "# Queries"
   ]
  },
  {
   "cell_type": "code",
   "execution_count": 4,
   "id": "4e94f817",
   "metadata": {},
   "outputs": [],
   "source": [
    "# A simple class\n",
    "# attribute\n",
    "\n",
    "c_q1 = \"\"\"select time, id_station, <sid> FROM <db> where id_station in <stid>\n",
    "AND time > TIMESTAMP '<timestamp>' - INTERVAL '<nb>' <rangesUnit> \n",
    "AND time < TIMESTAMP '<timestamp>';\"\"\"\n",
    "\n",
    "# c_q1 = \"\"\"select time, s<sid> FROM d1_wide where id_station='st<stid>'\n",
    "# AND time > TIMESTAMP '<timestamp>' - INTERVAL '<nb>' <rangesUnit> \n",
    "# AND time < TIMESTAMP '<timestamp>';\"\"\"\n",
    "\n",
    "c_q2 = \"\"\"select time, id_station, <sid> FROM <db> where id_station in <stid>\n",
    "AND time > TIMESTAMP '<timestamp>' - INTERVAL '<nb>' <rangesUnit> \n",
    "AND time < TIMESTAMP '<timestamp>' and <sfilter>\"\"\" # s<sid> > 0.95;\n",
    "\n",
    "c_q3 = \"\"\"SELECT id_station, <avg_s> FROM <db> \n",
    "WHERE time > TIMESTAMP '<timestamp>' - INTERVAL '<nb>' <rangesUnit> \n",
    "AND time < TIMESTAMP '<timestamp>' \n",
    "AND id_station in <stid>\n",
    "GROUP BY id_station;\"\"\"   #avg(s<sid>)\n",
    "\n",
    "c_q4 = \"\"\"SELECT id_station, EXTRACT(YEAR FROM time) AS \"year\",\n",
    "date_trunc('month', time) AS \"month\", \n",
    "date_trunc('day', time) AS \"day\", \n",
    "date_trunc('hour', time) AS \"hour\", \n",
    "<avg_s> \n",
    "FROM <db> where  time > TIMESTAMP '<timestamp>' - INTERVAL '<nb>' <rangesUnit> \n",
    "AND time < TIMESTAMP '<timestamp>' \n",
    "AND id_station in <stid>\n",
    "GROUP BY id_station, \"year\", \"month\", \"day\", \"hour\";\"\"\" # AVG(s<sid>) AS avg_s<sid>\n",
    "\n",
    "c_q5 = \"\"\"select time, id_station, <sid> FROM <db> where id_station in <stid>\n",
    "\tAND time > TIMESTAMP '<timestamp>' - INTERVAL '<nb>' <rangesUnit> \n",
    "\tAND time < TIMESTAMP '<timestamp>' ORDER BY\n",
    "\tid_station ASC,\n",
    "\ttime ASC WITH FILL STEP 5\n",
    "\tINTERPOLATE ( <sid>, id_station AS id_station );\n",
    "\"\"\"\n",
    "\n"
   ]
  },
  {
   "cell_type": "code",
   "execution_count": 5,
   "id": "725e5b78",
   "metadata": {},
   "outputs": [],
   "source": [
    "from clickhouse_driver import Client\n",
    "from clickhouse_driver import connect as connect_ClickHouse\n",
    "from tqdm import tqdm \n",
    "import time\n",
    "\n",
    "class ClickHouse:\n",
    " \n",
    "    # A sample method \n",
    "    @staticmethod\n",
    "    def query(query, db, max_d, rangesUnit, n_it, start_date = \"2019-04-01T00:00:00\", stop_date = \"2019-04-30T00:00:00\", n_st = 1, n_s = 10):\n",
    "#         client = Client('diufrm102')\n",
    "        conn = connect_ClickHouse(\"clickhouse://diufrm102\")\n",
    "        cursor = conn.cursor()\n",
    "#         print(client.execute('SHOW TABLES'))\n",
    "#         return None, None\n",
    "        duration = max_d\n",
    "        results = [[],[]]       \n",
    "        runtimes = []\n",
    "        full_time = time.time()\n",
    "        for i in tqdm(range(n_it)):\n",
    "#             time.sleep(0.5)\n",
    "            date = random_date(start_date, stop_date, set_date[(duration*i)%500], dform = '%Y-%m-%dT%H:%M:%S')\n",
    "            temp = query.replace(\"<timestamp>\", date)\n",
    "            temp = temp.replace(\"<nb>\", str(duration))\n",
    "            temp = temp.replace(\"<rangesUnit>\", str(rangesUnit))\n",
    "#             temp = temp.replace(\"<sid>\", str(set_s[(duration*i)%500]))\n",
    "            # st\n",
    "            li = ['st' + str(z) for z in random.sample(range(number_stations), n_st)]\n",
    "            q = '(' + \"'\" + li[0] + \"'\"\n",
    "            for j in li[1:]:\n",
    "                q += ', ' + \"'\" + j + \"'\"\n",
    "            q += \")\"\n",
    "            temp = temp.replace(\"<stid>\", q)\n",
    "            \n",
    "            # sensor\n",
    "            li = ['s' + str(z) for z in random.sample(range(number_sensors), n_s)]\n",
    "            q = li[0]\n",
    "            q_filter = '(' + li[0] + ' > 0.95'\n",
    "            q_avg = 'avg(' + li[0] + ')'\n",
    "            for j in li[1:]:\n",
    "                q += ', ' + j\n",
    "#                 q_filter += ' OR ' + j + ' > 0.95'\n",
    "                q_avg += ', ' + 'avg(' + j + ')'\n",
    "            temp = temp.replace(\"<db>\", db)\n",
    "            temp = temp.replace(\"<sid>\", q)\n",
    "            temp = temp.replace(\"<sfilter>\", q_filter + ')')\n",
    "            temp = temp.replace(\"<avg_s>\", q_avg)\n",
    "            \n",
    "\n",
    "            start = time.time()\n",
    "#             print(temp)\n",
    "            cursor.execute(temp)\n",
    "            cursor.fetchall()\n",
    "#            print(len(cursor.fetchall()))\n",
    "            diff = (time.time()-start)*1000\n",
    "#                 print(temp, diff)\n",
    "            runtimes.append(diff)\n",
    "            if time.time() - full_time > 20 and i > 5: \n",
    "                break              \n",
    "#             print(temp)\n",
    "        results[0].append(stats.mean(runtimes))\n",
    "#             results[1].append(percentile(runtimes,85))\n",
    "        results[1].append(stats.stdev(runtimes))\n",
    "        conn.close()\n",
    "        return results[0], results[1]\n",
    "    \n",
    "    @staticmethod\n",
    "    def insert_file(batch_size,rate, st):\n",
    "#         template_sql = \"INSERT INTO d1_wide_slow_ingest (time, id_station\"\n",
    "#         for i in range(100):\n",
    "#             template_sql += \", s\" + str(i)\n",
    "#         template_sql += \") VALUES ('%s', '%s',\"  + ','.join(100* [' %s']) + ');'\n",
    "\n",
    "        conn = connect_ClickHouse(\"clickhouse://diufrm102\")\n",
    "        cur = conn.cursor()\n",
    "        file = '/home/abdel/venv2/bin/insertion-100/short_ts' + str(st) + '.csv'\n",
    "        f = open(file, \"r\")\n",
    "        f = f.read()\n",
    "        f = f.splitlines()[1:]\n",
    "        f = [\"\\n\".join(f[i:i+rate])  for i in range(0, len(f), rate)]\n",
    "        start = time.time()\n",
    "        a = 0\n",
    "        print('insertion st' + str(st) + ' started')\n",
    "        while not stop_insertion[st]: \n",
    "            starttime = time.time()\n",
    "            cur.execute(\"INSERT INTO d1_wide_slow_ingest FORMAT CSV \" + f[a])\n",
    "            a += 1\n",
    "            diff = 1.0 - ((time.time() - starttime))\n",
    "            try: \n",
    "                time.sleep(diff)\n",
    "            except: \n",
    "                print(diff)\n",
    "                \n",
    "    @staticmethod\n",
    "    def insert_file_old(batch_size,rate, st):\n",
    "#         template_sql = \"INSERT INTO d1_wide_slow_ingest (time, id_station\"\n",
    "#         for i in range(100):\n",
    "#             template_sql += \", s\" + str(i)\n",
    "#         template_sql += \") VALUES ('%s', '%s',\"  + ','.join(100* [' %s']) + ');'\n",
    "\n",
    "        conn = connect_ClickHouse(\"clickhouse://diufrm102\")\n",
    "        cur = conn.cursor()\n",
    "        a = 1\n",
    "        file = '/home/abdel/venv2/bin/insertion-100/short_ts' + str(st) + '.csv'\n",
    "        start = time.time()\n",
    "        print('insertion st' + str(st) + ' started')\n",
    "        while not stop_insertion[st]: \n",
    "            starttime = time.time()\n",
    "            cmd = \"\"\"sed '1,\"\"\" + str(a) + \"\"\"d;\"\"\" + str(a + rate + 1) + \"\"\",$d' \"\"\" + file\n",
    "            cur.execute(\"INSERT INTO d1_wide_slow_ingest FORMAT CSV \" + subprocess.getoutput(cmd))\n",
    "            a += rate\n",
    "            diff = 1.0 - ((time.time() - starttime))\n",
    "            try: \n",
    "                time.sleep(diff)\n",
    "            except: \n",
    "                print(diff)                \n",
    "\n",
    "    @staticmethod\n",
    "    def insert(batch_size, rate, st):\n",
    "        template_sql = \"INSERT INTO d1_wide_slow_ingest (time, id_station\"\n",
    "        for i in range(100):\n",
    "            template_sql += \", s\" + str(i)\n",
    "        template_sql += \") VALUES\"\n",
    "\n",
    "        conn = connect_ClickHouse(\"clickhouse://diufrm102\")\n",
    "        cur = conn.cursor()\n",
    "\n",
    "        date_time = datetime.strptime('2019-04-30T00:00:00', '%Y-%m-%dT%H:%M:%S') \n",
    "        delta = timedelta(seconds=10)\n",
    "        synthetic = [[date_time + k * delta\n",
    "                  , 'st' + str(st)\n",
    "                ] + [random.random() for i in range(100)] for k in range(rate*500)]\n",
    "        print('insertion st' + str(st) + ' started')\n",
    "#         print('synthetic generated, inserting... ')\n",
    "        a = 0\n",
    "        start = time.time()\n",
    "        while not stop_insertion[st]: \n",
    "            starttime = time.time()\n",
    "\n",
    "            for _ in range(batch_size, max(rate, batch_size) + 1, batch_size):\n",
    "                cur.executemany(template_sql,  synthetic[a : a + rate])\n",
    "                a += rate\n",
    "                date_time += delta * rate\n",
    "\n",
    "            diff = 1.0 - ((time.time() - starttime))\n",
    "            try: \n",
    "                time.sleep(diff)\n",
    "            except: \n",
    "                print(diff)\n",
    "\n",
    "    @staticmethod\n",
    "    def insert_by_point(rate, st):\n",
    "        template_sql = \"INSERT INTO d1_wide_slow_ingest (time, id_station\"\n",
    "        for i in range(100):\n",
    "            template_sql += \", s\" + str(i)\n",
    "        template_sql += \") VALUES ('%s', '%s',\"  + ','.join(100* [' %s']) + ');'\n",
    "\n",
    "        conn = connect_ClickHouse(\"clickhouse://diufrm102\")\n",
    "        cur = conn.cursor()\n",
    "        date_time = datetime.strptime('2019-04-30T00:00:00', '%Y-%m-%dT%H:%M:%S') \n",
    "        delta = timedelta(seconds=10)\n",
    "        synthetic = [[(delta * k + date_time).strftime('%Y-%m-%dT%H:%M:%S')\n",
    "                          , 'st' + str(st)] + [random.random() for i in range(100)] for k in range(rate * 500)]\n",
    "        print('insertion ' + str(st) + ' started')\n",
    "#         print('synthetic generated, inserting... ')\n",
    "        a = 0\n",
    "        start = time.time()\n",
    "        while not stop_insertion[st]: \n",
    "            starttime = time.time()\n",
    "\n",
    "            for e in range(a, a + rate):\n",
    "#                 print(synthetic[e])\n",
    "#                 date_time += delta\n",
    "                sql = template_sql % tuple(synthetic[e % len(synthetic)])\n",
    "                cur.execute(sql)\n",
    "#                 conn.commit()\n",
    "            a += rate\n",
    "            diff = 1.0 - ((time.time() - starttime))\n",
    "            try: \n",
    "                time.sleep(diff)\n",
    "            except: \n",
    "                print(diff)\n",
    "\n",
    "                \n",
    "        \n",
    "    @staticmethod\n",
    "    def run_all(start, stop, db):\n",
    "        results[0].append(to_pm(ClickHouse.query(c_q1, db, 1, def_r, n_it, start, stop, n_st = def_st, n_s = def_s)))\n",
    "        results[1].append(to_pm(ClickHouse.query(c_q2, db, 1, def_r, n_it, start, stop, n_st = def_st, n_s = def_s)))\n",
    "        results[2].append(to_pm(ClickHouse.query(c_q3, db, 1, def_r, n_it, start, stop, n_st = def_st, n_s = def_s)))\n",
    "        results[3].append(to_pm(ClickHouse.query(c_q4, db, 1, def_r, n_it, start, stop, n_st = def_st, n_s = def_s)))\n",
    "        results[4].append(to_pm(ClickHouse.query(c_q5, db, 1, def_r, n_it, start, stop, n_st = def_st, n_s = def_s)))\n",
    "    \n",
    "    \n",
    "    \n",
    "    "
   ]
  },
  {
   "cell_type": "code",
   "execution_count": 6,
   "id": "a275ce05",
   "metadata": {},
   "outputs": [
    {
     "name": "stderr",
     "output_type": "stream",
     "text": [
      "100%|█████████████████████████████████| 100/100 [00:03<00:00, 31.91it/s]\n",
      "100%|█████████████████████████████████| 100/100 [00:01<00:00, 89.49it/s]\n",
      "100%|█████████████████████████████████| 100/100 [00:01<00:00, 89.09it/s]\n",
      "100%|█████████████████████████████████| 100/100 [00:01<00:00, 69.92it/s]\n",
      "100%|█████████████████████████████████| 100/100 [00:08<00:00, 12.45it/s]\n"
     ]
    }
   ],
   "source": [
    "ClickHouse.run_all(\"2019-04-01T00:00:00\", \"2019-04-30T00:00:00\", \"d1_wide\")"
   ]
  },
  {
   "cell_type": "code",
   "execution_count": null,
   "id": "408341a2",
   "metadata": {
    "scrolled": true
   },
   "outputs": [],
   "source": [
    "n_threads = 100\n",
    "stop_insertion = [False for i in range(n_threads)]\n",
    "rate = 20\n",
    "\n",
    "# 20K dp/s\n",
    "\n",
    "# Launch insertion\n",
    "for i in range(n_threads):  \n",
    "    t1 = Thread(target = ClickHouse.insert_file, args=(100_000, rate, i))\n",
    "#     t1 = Thread(target = ClickHouse.insert_by_point, args=(rate, i))\n",
    "    t1.setDaemon(True)\n",
    "    t1.start()\n",
    "\n",
    "# insert_new(200, 1)"
   ]
  },
  {
   "cell_type": "code",
   "execution_count": null,
   "id": "8767f0ce",
   "metadata": {
    "scrolled": true
   },
   "outputs": [],
   "source": [
    "time.sleep(3 * 8640 // rate)"
   ]
  },
  {
   "cell_type": "code",
   "execution_count": 7,
   "id": "10791d6b",
   "metadata": {
    "scrolled": true
   },
   "outputs": [
    {
     "name": "stderr",
     "output_type": "stream",
     "text": [
      "100%|█████████████████████████████████| 100/100 [00:03<00:00, 28.12it/s]\n",
      "100%|█████████████████████████████████| 100/100 [00:01<00:00, 69.97it/s]\n",
      "100%|█████████████████████████████████| 100/100 [00:01<00:00, 68.86it/s]\n",
      "100%|█████████████████████████████████| 100/100 [00:01<00:00, 54.68it/s]\n",
      "100%|█████████████████████████████████| 100/100 [00:08<00:00, 11.20it/s]\n"
     ]
    }
   ],
   "source": [
    "ClickHouse.run_all(\"2019-04-01T00:00:00\", \"2019-04-30T00:00:00\", \"d1_wide_slow_ingest\")"
   ]
  },
  {
   "cell_type": "code",
   "execution_count": 8,
   "id": "5ecda0d7",
   "metadata": {
    "scrolled": true
   },
   "outputs": [
    {
     "name": "stderr",
     "output_type": "stream",
     "text": [
      "100%|█████████████████████████████████| 100/100 [00:03<00:00, 28.75it/s]\n",
      "100%|█████████████████████████████████| 100/100 [00:01<00:00, 66.27it/s]\n",
      "100%|█████████████████████████████████| 100/100 [00:01<00:00, 68.45it/s]\n",
      "100%|█████████████████████████████████| 100/100 [00:01<00:00, 55.41it/s]\n",
      "100%|█████████████████████████████████| 100/100 [00:07<00:00, 12.70it/s]\n"
     ]
    }
   ],
   "source": [
    "ClickHouse.run_all(\"2019-05-01T01:00:00\", \"2019-05-02T00:00:00\", \"d1_wide_slow_ingest\")"
   ]
  },
  {
   "cell_type": "code",
   "execution_count": 9,
   "id": "486e20ca",
   "metadata": {
    "scrolled": true
   },
   "outputs": [
    {
     "name": "stderr",
     "output_type": "stream",
     "text": [
      "100%|█████████████████████████████████| 100/100 [00:03<00:00, 28.64it/s]\n",
      "100%|█████████████████████████████████| 100/100 [00:01<00:00, 65.80it/s]\n",
      "100%|█████████████████████████████████| 100/100 [00:01<00:00, 70.79it/s]\n",
      "100%|█████████████████████████████████| 100/100 [00:01<00:00, 56.88it/s]\n",
      "100%|█████████████████████████████████| 100/100 [00:08<00:00, 11.87it/s]\n"
     ]
    }
   ],
   "source": [
    "ClickHouse.run_all(\"2019-04-29T01:00:00\", \"2019-05-02T00:00:00\", \"d1_wide_slow_ingest\")"
   ]
  },
  {
   "cell_type": "code",
   "execution_count": null,
   "id": "fd7751d1",
   "metadata": {},
   "outputs": [],
   "source": [
    "stop_insertion = [True for i in range(n_threads)]\n"
   ]
  },
  {
   "cell_type": "code",
   "execution_count": 10,
   "id": "e9ceed2c",
   "metadata": {},
   "outputs": [
    {
     "data": {
      "text/plain": [
       "[['31.01$\\\\pm$2.4', '35.2$\\\\pm$6.15', '34.42$\\\\pm$4.06', '34.6$\\\\pm$5.64'],\n",
       " ['10.86$\\\\pm$1.39', '13.95$\\\\pm$4.81', '14.75$\\\\pm$4.46', '14.84$\\\\pm$4.51'],\n",
       " ['10.91$\\\\pm$1.17', '14.18$\\\\pm$3.73', '14.28$\\\\pm$3.1', '13.8$\\\\pm$3.87'],\n",
       " ['13.94$\\\\pm$1.5', '17.92$\\\\pm$5.17', '17.66$\\\\pm$4.73', '17.22$\\\\pm$5.27'],\n",
       " ['79.81$\\\\pm$5.8', '88.83$\\\\pm$11.4', '78.22$\\\\pm$7.6', '83.71$\\\\pm$10.01']]"
      ]
     },
     "execution_count": 10,
     "metadata": {},
     "output_type": "execute_result"
    }
   ],
   "source": [
    "results "
   ]
  },
  {
   "cell_type": "code",
   "execution_count": null,
   "id": "db41430b",
   "metadata": {},
   "outputs": [],
   "source": [
    "runtimes = [[float(results[i][j].split('$')[0]) for j in range(len(results[i]))][:4] for i in range(5)]\n",
    "variance = [[float(results[i][j].split('$')[2]) for j in range(len(results[i]))][:4] for i in range(5)]"
   ]
  },
  {
   "cell_type": "code",
   "execution_count": null,
   "id": "45eea9bc",
   "metadata": {},
   "outputs": [],
   "source": [
    "runtimes = list(map(list, zip(*runtimes)))\n",
    "variance = list(map(list, zip(*variance)))\n"
   ]
  },
  {
   "cell_type": "code",
   "execution_count": null,
   "id": "28b8cfd6",
   "metadata": {},
   "outputs": [],
   "source": [
    "runtimes"
   ]
  },
  {
   "cell_type": "code",
   "execution_count": null,
   "id": "253767d1",
   "metadata": {
    "scrolled": false
   },
   "outputs": [],
   "source": [
    "import numpy as np\n",
    "import matplotlib.pyplot as plt\n",
    "X = np.arange(5)\n",
    "labels = ['query'+str(1+i) for i in range(5)]\n",
    "fig = plt.figure(figsize=(8, 6))\n",
    "ax = fig.add_axes([0,0,1,1])\n",
    "for i in range(4):\n",
    "    ax.bar(X +0.15*i, runtimes[i], yerr = variance[i], width = 0.15)\n",
    "ax.legend(['offline', 'online old', 'online new', 'online mixed', ])\n",
    "ax.set_xticklabels(labels)\n",
    "ax.set_xticks(np.arange(len(labels)))\n",
    "ax.yaxis.grid(True)\n",
    "plt.title('ClickHouse offline vs. online, rate: '+ str(rate) + ' x ' + str(n_threads))\n",
    "plt.tight_layout()\n",
    "\n",
    "# ax.bar(X+0.25, data[1], color = 'g', width = 0.25)\n",
    "# ax.bar(X+0.5, data[2], color = 'r', width = 0.25)"
   ]
  },
  {
   "cell_type": "code",
   "execution_count": null,
   "id": "3fb5d8bf",
   "metadata": {},
   "outputs": [],
   "source": [
    "# conn = connect_ClickHouse(\"clickhouse://diufrm102\")\n",
    "# cur = conn.cursor()\n",
    "# cur.execute(\"ALTER TABLE d1_wide_slow_ingest DELETE where time > TIMESTAMP '2019-04-30T00:00:00';\")"
   ]
  }
 ],
 "metadata": {
  "kernelspec": {
   "display_name": "Python 3 (ipykernel)",
   "language": "python",
   "name": "python3"
  },
  "language_info": {
   "codemirror_mode": {
    "name": "ipython",
    "version": 3
   },
   "file_extension": ".py",
   "mimetype": "text/x-python",
   "name": "python",
   "nbconvert_exporter": "python",
   "pygments_lexer": "ipython3",
   "version": "3.8.10"
  }
 },
 "nbformat": 4,
 "nbformat_minor": 5
}
