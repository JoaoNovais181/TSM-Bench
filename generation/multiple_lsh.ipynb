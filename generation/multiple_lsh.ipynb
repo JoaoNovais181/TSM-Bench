{
 "cells": [
  {
   "cell_type": "code",
   "execution_count": 4,
   "id": "1ac9802c",
   "metadata": {},
   "outputs": [],
   "source": [
    "import json\n",
    "import multiprocessing\n",
    "import hashing.lsh_main as lsh\n",
    "# import graph.graph_main as graph\n",
    "import time\n",
    "from pathlib import Path\n",
    "import pandas as pd\n",
    "import random\n",
    "import numpy as np\n",
    "import matplotlib.pyplot as plt\n",
    "from tqdm import tqdm\n",
    "import graph.random_walk_ori as random_walk\n",
    "import pandas as pd\n",
    "import lshashpy3 as lshash\n"
   ]
  },
  {
   "cell_type": "code",
   "execution_count": 11,
   "id": "53ace8ef",
   "metadata": {},
   "outputs": [
    {
     "name": "stdout",
     "output_type": "stream",
     "text": [
      "(2, 3, 4, 5, 6, 7, 8, 9) None 11\n",
      "(10, 12, 99, 1, 5, 31, 2, 3) vec1 6\n",
      "(10, 11, 94, 1, 4, 31, 2, 3) vec2 33\n"
     ]
    }
   ],
   "source": [
    "# create 6-bit hashes for input data of 8 dimensions:\n",
    "lsh = lshash.LSHash(6, 8)\n",
    "\n",
    "# index vector\n",
    "lsh.index([2,3,4,5,6,7,8,9])\n",
    "\n",
    "# index vector and extra data\n",
    "lsh.index([10,12,99,1,5,31,2,3], extra_data=\"vec1\")\n",
    "lsh.index([10,11,94,1,4,31,2,3], extra_data=\"vec2\")\n",
    "\n",
    "# query a data point\n",
    "top_n = 20\n",
    "nn = lsh.query([1,2,3,4,5,6,7,7], num_results=top_n, distance_func=\"euclidean\")\n",
    "for ((vec,extra_data),distance) in nn:\n",
    "    print(vec, extra_data, distance)\n",
    "    \n",
    "\n",
    "# unpack vector, extra data and vectorial distance\n",
    "top_n = 3\n",
    "nn = lsh.query([10,12,99,1,5,30,1,1], num_results=top_n, distance_func=\"euclidean\")\n",
    "for ((vec,extra_data),distance) in nn:\n",
    "    print(vec, extra_data, distance)"
   ]
  },
  {
   "cell_type": "code",
   "execution_count": null,
   "id": "c6fbd95c",
   "metadata": {},
   "outputs": [],
   "source": []
  }
 ],
 "metadata": {
  "kernelspec": {
   "display_name": "Python 3 (ipykernel)",
   "language": "python",
   "name": "python3"
  },
  "language_info": {
   "codemirror_mode": {
    "name": "ipython",
    "version": 3
   },
   "file_extension": ".py",
   "mimetype": "text/x-python",
   "name": "python",
   "nbconvert_exporter": "python",
   "pygments_lexer": "ipython3",
   "version": "3.8.10"
  }
 },
 "nbformat": 4,
 "nbformat_minor": 5
}
