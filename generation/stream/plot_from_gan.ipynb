{
 "cells": [
  {
   "cell_type": "code",
   "execution_count": 1,
   "id": "14141403",
   "metadata": {},
   "outputs": [],
   "source": [
    "import json\n",
    "import multiprocessing\n",
    "import hashing.lsh_main as lsh\n",
    "# import graph.graph_main as graph\n",
    "import time\n",
    "from pathlib import Path\n",
    "import pandas as pd\n",
    "import random\n",
    "import numpy as np\n",
    "import matplotlib.pyplot as plt\n",
    "from tqdm import tqdm\n",
    "import graph.random_walk_ori as random_walk\n",
    "import pandas as pd\n",
    "import lshashpy3 as lshash\n",
    "import math \n",
    "from scipy import stats\n",
    "\n",
    "def sigmoid(x):\n",
    "    return 1 / (1 + math.exp(-x))\n",
    "\n",
    "random.seed(11)\n"
   ]
  },
  {
   "cell_type": "markdown",
   "id": "c9e06159",
   "metadata": {},
   "source": [
    "# DBA"
   ]
  },
  {
   "cell_type": "code",
   "execution_count": 2,
   "id": "44cce546",
   "metadata": {},
   "outputs": [],
   "source": [
    "# data = pd.read_csv('/localdata/ABench-IoT/Generation/gan/dcgan/Electric.csv')\n",
    "# data = data['Electric'].tolist()\n",
    "# df_segments = pd.read_csv('/localdata/ABench-IoT/Generation/gan/dcgan/fake_noise_23_raw_f3.txt', header = None)\n",
    "\n",
    "\n",
    "data = pd.read_csv('/localdata/ABench-IoT/Generation/gan/dcgan_Sauerstoff/Sauerstoff.csv')\n",
    "data = data['Sauerstoff'].tolist()\n",
    "df_segments = pd.read_csv('/localdata/ABench-IoT/Generation/gan/dcgan_Sauerstoff/fake_noise_23_raw_f3.txt', header = None)\n",
    "\n",
    "\n",
    "data = stats.zscore(np.array(data))\n",
    "data = data.tolist()\n",
    "\n",
    "\n",
    "window = 3072\n",
    "\n",
    "to_generate = 100\n",
    "\n",
    "# data = data[:window * 6 ]\n",
    "len(data)\n",
    "\n",
    "#define moving average function\n",
    "def moving_avg(x, n):\n",
    "    cumsum = np.cumsum(np.insert(x, 0, 0)) \n",
    "    return (cumsum[n:] - cumsum[:-n]) / float(n)\n",
    "\n",
    "#calculate moving average using previous 3 time periods\n",
    "\n",
    "# data = moving_avg(data, 200).tolist()\n"
   ]
  },
  {
   "cell_type": "code",
   "execution_count": 3,
   "id": "aa4dff2c",
   "metadata": {
    "scrolled": true
   },
   "outputs": [
    {
     "name": "stderr",
     "output_type": "stream",
     "text": [
      "/tmp/ipykernel_940158/2216285503.py:172: VisibleDeprecationWarning: Creating an ndarray from ragged nested sequences (which is a list-or-tuple of lists-or-tuples-or ndarrays with different lengths or shapes) is deprecated. If you meant to do this, you must specify 'dtype=object' when creating the ndarray.\n",
      "  series = np.array(series)\n",
      "100%|███████████████████████████████████████████████████████████████████████████████████████████████████████████████████████████████| 20/20 [00:12<00:00,  1.65it/s]\n",
      "  0%|                                                                                                                                        | 0/10 [00:00<?, ?it/s]\n",
      "  0%|                                                                                                                                        | 0/20 [00:00<?, ?it/s]\u001b[A\n",
      " 15%|███████████████████▏                                                                                                            | 3/20 [00:00<00:00, 26.80it/s]\u001b[A"
     ]
    },
    {
     "name": "stdout",
     "output_type": "stream",
     "text": [
      "hello\n"
     ]
    },
    {
     "name": "stderr",
     "output_type": "stream",
     "text": [
      "\n",
      " 30%|██████████████████████████████████████▍                                                                                         | 6/20 [00:00<00:00, 26.39it/s]\u001b[A\n",
      " 45%|█████████████████████████████████████████████████████████▌                                                                      | 9/20 [00:00<00:00, 26.57it/s]\u001b[A\n",
      " 60%|████████████████████████████████████████████████████████████████████████████▏                                                  | 12/20 [00:00<00:00, 26.88it/s]\u001b[A\n",
      " 75%|███████████████████████████████████████████████████████████████████████████████████████████████▎                               | 15/20 [00:00<00:00, 26.99it/s]\u001b[A\n",
      "100%|███████████████████████████████████████████████████████████████████████████████████████████████████████████████████████████████| 20/20 [00:00<00:00, 26.71it/s]\u001b[A\n",
      " 10%|████████████▊                                                                                                                   | 1/10 [00:00<00:06,  1.33it/s]\n",
      "  0%|                                                                                                                                        | 0/20 [00:00<?, ?it/s]\u001b[A\n",
      " 15%|███████████████████▏                                                                                                            | 3/20 [00:00<00:00, 26.91it/s]\u001b[A\n",
      " 30%|██████████████████████████████████████▍                                                                                         | 6/20 [00:00<00:00, 26.53it/s]\u001b[A\n",
      " 45%|█████████████████████████████████████████████████████████▌                                                                      | 9/20 [00:00<00:00, 27.02it/s]\u001b[A\n",
      " 60%|████████████████████████████████████████████████████████████████████████████▏                                                  | 12/20 [00:00<00:00, 27.15it/s]\u001b[A\n",
      " 75%|███████████████████████████████████████████████████████████████████████████████████████████████▎                               | 15/20 [00:00<00:00, 27.14it/s]\u001b[A\n",
      "100%|███████████████████████████████████████████████████████████████████████████████████████████████████████████████████████████████| 20/20 [00:00<00:00, 26.98it/s]\u001b[A\n",
      " 20%|█████████████████████████▌                                                                                                      | 2/10 [00:01<00:05,  1.34it/s]\n",
      "  0%|                                                                                                                                        | 0/20 [00:00<?, ?it/s]\u001b[A\n",
      " 15%|███████████████████▏                                                                                                            | 3/20 [00:00<00:00, 27.02it/s]\u001b[A\n",
      " 30%|██████████████████████████████████████▍                                                                                         | 6/20 [00:00<00:00, 26.40it/s]\u001b[A\n",
      " 45%|█████████████████████████████████████████████████████████▌                                                                      | 9/20 [00:00<00:00, 26.73it/s]\u001b[A\n",
      " 60%|████████████████████████████████████████████████████████████████████████████▏                                                  | 12/20 [00:00<00:00, 26.87it/s]\u001b[A\n",
      " 75%|███████████████████████████████████████████████████████████████████████████████████████████████▎                               | 15/20 [00:00<00:00, 26.96it/s]\u001b[A\n",
      "100%|███████████████████████████████████████████████████████████████████████████████████████████████████████████████████████████████| 20/20 [00:00<00:00, 26.83it/s]\u001b[A\n",
      " 30%|██████████████████████████████████████▍                                                                                         | 3/10 [00:02<00:05,  1.34it/s]\n",
      "  0%|                                                                                                                                        | 0/20 [00:00<?, ?it/s]\u001b[A\n",
      " 15%|███████████████████▏                                                                                                            | 3/20 [00:00<00:00, 26.51it/s]\u001b[A\n",
      " 30%|██████████████████████████████████████▍                                                                                         | 6/20 [00:00<00:00, 25.78it/s]\u001b[A\n",
      " 45%|█████████████████████████████████████████████████████████▌                                                                      | 9/20 [00:00<00:00, 26.40it/s]\u001b[A\n",
      " 60%|████████████████████████████████████████████████████████████████████████████▏                                                  | 12/20 [00:00<00:00, 26.53it/s]\u001b[A\n",
      " 75%|███████████████████████████████████████████████████████████████████████████████████████████████▎                               | 15/20 [00:00<00:00, 26.48it/s]\u001b[A\n",
      "100%|███████████████████████████████████████████████████████████████████████████████████████████████████████████████████████████████| 20/20 [00:00<00:00, 26.35it/s]\u001b[A\n",
      " 40%|███████████████████████████████████████████████████▏                                                                            | 4/10 [00:03<00:04,  1.33it/s]\n",
      "  0%|                                                                                                                                        | 0/20 [00:00<?, ?it/s]\u001b[A\n",
      " 15%|███████████████████▏                                                                                                            | 3/20 [00:00<00:00, 26.63it/s]\u001b[A\n",
      " 30%|██████████████████████████████████████▍                                                                                         | 6/20 [00:00<00:00, 26.16it/s]\u001b[A\n",
      " 45%|█████████████████████████████████████████████████████████▌                                                                      | 9/20 [00:00<00:00, 26.57it/s]\u001b[A\n",
      " 60%|████████████████████████████████████████████████████████████████████████████▏                                                  | 12/20 [00:00<00:00, 26.69it/s]\u001b[A\n",
      " 75%|███████████████████████████████████████████████████████████████████████████████████████████████▎                               | 15/20 [00:00<00:00, 26.76it/s]\u001b[A\n",
      "100%|███████████████████████████████████████████████████████████████████████████████████████████████████████████████████████████████| 20/20 [00:00<00:00, 26.49it/s]\u001b[A\n",
      " 50%|████████████████████████████████████████████████████████████████                                                                | 5/10 [00:03<00:03,  1.32it/s]\n",
      "  0%|                                                                                                                                        | 0/20 [00:00<?, ?it/s]\u001b[A\n",
      " 15%|███████████████████▏                                                                                                            | 3/20 [00:00<00:00, 26.51it/s]\u001b[A\n",
      " 30%|██████████████████████████████████████▍                                                                                         | 6/20 [00:00<00:00, 26.19it/s]\u001b[A\n",
      " 45%|█████████████████████████████████████████████████████████▌                                                                      | 9/20 [00:00<00:00, 26.61it/s]\u001b[A\n",
      " 60%|████████████████████████████████████████████████████████████████████████████▏                                                  | 12/20 [00:00<00:00, 26.68it/s]\u001b[A\n",
      " 75%|███████████████████████████████████████████████████████████████████████████████████████████████▎                               | 15/20 [00:00<00:00, 26.71it/s]\u001b[A\n",
      "100%|███████████████████████████████████████████████████████████████████████████████████████████████████████████████████████████████| 20/20 [00:00<00:00, 26.52it/s]\u001b[A\n",
      " 60%|████████████████████████████████████████████████████████████████████████████▊                                                   | 6/10 [00:04<00:03,  1.32it/s]\n",
      "  0%|                                                                                                                                        | 0/20 [00:00<?, ?it/s]\u001b[A\n",
      " 15%|███████████████████▏                                                                                                            | 3/20 [00:00<00:00, 26.20it/s]\u001b[A\n"
     ]
    },
    {
     "name": "stderr",
     "output_type": "stream",
     "text": [
      " 30%|██████████████████████████████████████▍                                                                                         | 6/20 [00:00<00:00, 25.72it/s]\u001b[A\n",
      " 45%|█████████████████████████████████████████████████████████▌                                                                      | 9/20 [00:00<00:00, 26.19it/s]\u001b[A\n",
      " 60%|████████████████████████████████████████████████████████████████████████████▏                                                  | 12/20 [00:00<00:00, 26.37it/s]\u001b[A\n",
      " 75%|███████████████████████████████████████████████████████████████████████████████████████████████▎                               | 15/20 [00:00<00:00, 26.55it/s]\u001b[A\n",
      "100%|███████████████████████████████████████████████████████████████████████████████████████████████████████████████████████████████| 20/20 [00:00<00:00, 26.37it/s]\u001b[A\n",
      " 70%|█████████████████████████████████████████████████████████████████████████████████████████▌                                      | 7/10 [00:05<00:02,  1.32it/s]\n",
      "  0%|                                                                                                                                        | 0/20 [00:00<?, ?it/s]\u001b[A\n",
      " 15%|███████████████████▏                                                                                                            | 3/20 [00:00<00:00, 26.59it/s]\u001b[A\n",
      " 30%|██████████████████████████████████████▍                                                                                         | 6/20 [00:00<00:00, 26.15it/s]\u001b[A\n",
      " 45%|█████████████████████████████████████████████████████████▌                                                                      | 9/20 [00:00<00:00, 26.43it/s]\u001b[A\n",
      " 60%|████████████████████████████████████████████████████████████████████████████▏                                                  | 12/20 [00:00<00:00, 26.23it/s]\u001b[A\n",
      " 75%|███████████████████████████████████████████████████████████████████████████████████████████████▎                               | 15/20 [00:00<00:00, 25.82it/s]\u001b[A\n",
      "100%|███████████████████████████████████████████████████████████████████████████████████████████████████████████████████████████████| 20/20 [00:00<00:00, 25.73it/s]\u001b[A\n",
      " 80%|██████████████████████████████████████████████████████████████████████████████████████████████████████▍                         | 8/10 [00:06<00:01,  1.31it/s]\n",
      "  0%|                                                                                                                                        | 0/20 [00:00<?, ?it/s]\u001b[A\n",
      " 15%|███████████████████▏                                                                                                            | 3/20 [00:00<00:00, 25.05it/s]\u001b[A\n",
      " 30%|██████████████████████████████████████▍                                                                                         | 6/20 [00:00<00:00, 25.51it/s]\u001b[A\n",
      " 45%|█████████████████████████████████████████████████████████▌                                                                      | 9/20 [00:00<00:00, 25.95it/s]\u001b[A\n",
      " 60%|████████████████████████████████████████████████████████████████████████████▏                                                  | 12/20 [00:00<00:00, 26.26it/s]\u001b[A\n",
      " 75%|███████████████████████████████████████████████████████████████████████████████████████████████▎                               | 15/20 [00:00<00:00, 26.12it/s]\u001b[A\n",
      "100%|███████████████████████████████████████████████████████████████████████████████████████████████████████████████████████████████| 20/20 [00:00<00:00, 25.90it/s]\u001b[A\n",
      " 90%|███████████████████████████████████████████████████████████████████████████████████████████████████████████████████▏            | 9/10 [00:06<00:00,  1.30it/s]\n",
      "  0%|                                                                                                                                        | 0/20 [00:00<?, ?it/s]\u001b[A\n",
      " 15%|███████████████████▏                                                                                                            | 3/20 [00:00<00:00, 26.42it/s]\u001b[A\n",
      " 30%|██████████████████████████████████████▍                                                                                         | 6/20 [00:00<00:00, 26.21it/s]\u001b[A\n",
      " 45%|█████████████████████████████████████████████████████████▌                                                                      | 9/20 [00:00<00:00, 26.66it/s]\u001b[A\n",
      " 60%|████████████████████████████████████████████████████████████████████████████▏                                                  | 12/20 [00:00<00:00, 26.69it/s]\u001b[A\n",
      " 75%|███████████████████████████████████████████████████████████████████████████████████████████████▎                               | 15/20 [00:00<00:00, 26.72it/s]\u001b[A\n",
      "100%|███████████████████████████████████████████████████████████████████████████████████████████████████████████████████████████████| 20/20 [00:00<00:00, 26.56it/s]\u001b[A\n",
      "100%|███████████████████████████████████████████████████████████████████████████████████████████████████████████████████████████████| 10/10 [00:07<00:00,  1.32it/s]\n"
     ]
    },
    {
     "data": {
      "image/png": "[encoded data removed]",
      "text/plain": [
       "<Figure size 432x288 with 1 Axes>"
      ]
     },
     "metadata": {
      "needs_background": "light"
     },
     "output_type": "display_data"
    },
    {
     "data": {
      "image/png": "[encoded data removed]",
      "text/plain": [
       "<Figure size 432x288 with 1 Axes>"
      ]
     },
     "metadata": {
      "needs_background": "light"
     },
     "output_type": "display_data"
    }
   ],
   "source": [
    "'''\n",
    "/*******************************************************************************\n",
    " * Copyright (C) 2018 Francois Petitjean\n",
    " *\n",
    " * This program is free software: you can redistribute it and/or modify\n",
    " * it under the terms of the GNU General Public License as published by\n",
    " * the Free Software Foundation, version 3 of the License.\n",
    " *\n",
    " * This program is distributed in the hope that it will be useful,\n",
    " * but WITHOUT ANY WARRANTY; without even the implied warranty of\n",
    " * MERCHANTABILITY or FITNESS FOR A PARTICULAR PURPOSE.  See the\n",
    " * GNU General Public License for more details.\n",
    " *\n",
    " * You should have received a copy of the GNU General Public License\n",
    " * along with this program.  If not, see <http://www.gnu.org/licenses/>.\n",
    " ******************************************************************************/\n",
    "'''\n",
    "from __future__ import division\n",
    "import numpy as np\n",
    "import matplotlib.pyplot as plt\n",
    "from functools import reduce\n",
    "\n",
    "\n",
    "\n",
    "def performDBA(series, n_iterations=10):\n",
    "    n_series = len(series)\n",
    "    max_length = reduce(max, map(len, series))\n",
    "\n",
    "    cost_mat = np.zeros((max_length, max_length))\n",
    "    delta_mat = np.zeros((max_length, max_length))\n",
    "    path_mat = np.zeros((max_length, max_length), dtype=np.int8)\n",
    "\n",
    "    medoid_ind = approximate_medoid_index(series,cost_mat,delta_mat)\n",
    "    center = series[medoid_ind]\n",
    "    print('hello')\n",
    "    for i in tqdm(range(0,n_iterations)):\n",
    "        center = DBA_update(center, series, cost_mat, path_mat, delta_mat)\n",
    "\n",
    "    return center\n",
    "\n",
    "def approximate_medoid_index(series,cost_mat,delta_mat):\n",
    "    if len(series)<=50:\n",
    "        indices = range(0,len(series))\n",
    "    else:\n",
    "        indices = np.random.choice(range(0,len(series)),50,replace=False)\n",
    "\n",
    "    medoid_ind = -1\n",
    "    best_ss = 1e20\n",
    "    for index_candidate in tqdm(indices):\n",
    "        candidate = series[index_candidate]\n",
    "        ss = sum_of_squares(candidate,series,cost_mat,delta_mat)\n",
    "        if(medoid_ind==-1 or ss<best_ss):\n",
    "            best_ss = ss\n",
    "            medoid_ind = index_candidate\n",
    "    return medoid_ind\n",
    "\n",
    "def sum_of_squares(s,series,cost_mat,delta_mat):\n",
    "    return sum(map(lambda t:squared_DTW(s,t,cost_mat,delta_mat),series))\n",
    "\n",
    "def DTW(s,t,cost_mat,delta_mat):\n",
    "    return np.sqrt(squared_DTW(s,t,cost_mat,delta_mat))\n",
    "\n",
    "def squared_DTW(s,t,cost_mat,delta_mat):\n",
    "    s_len = len(s)\n",
    "    t_len = len(t)\n",
    "    length = len(s)\n",
    "    fill_delta_mat_dtw(s, t, delta_mat)\n",
    "    cost_mat[0, 0] = delta_mat[0, 0]\n",
    "    for i in range(1, s_len):\n",
    "        cost_mat[i, 0] = cost_mat[i-1, 0]+delta_mat[i, 0]\n",
    "\n",
    "    for j in range(1, t_len):\n",
    "        cost_mat[0, j] = cost_mat[0, j-1]+delta_mat[0, j]\n",
    "\n",
    "    for i in range(1, s_len):\n",
    "        for j in range(1, t_len):\n",
    "            diag,left,top =cost_mat[i-1, j-1], cost_mat[i, j-1], cost_mat[i-1, j]\n",
    "            if(diag <=left):\n",
    "                if(diag<=top):\n",
    "                    res = diag\n",
    "                else:\n",
    "                    res = top\n",
    "            else:\n",
    "                if(left<=top):\n",
    "                    res = left\n",
    "                else:\n",
    "                    res = top\n",
    "            cost_mat[i, j] = res+delta_mat[i, j]\n",
    "    return cost_mat[s_len-1,t_len-1]\n",
    "\n",
    "def fill_delta_mat_dtw(center, s, delta_mat):\n",
    "    slim = delta_mat[:len(center),:len(s)]\n",
    "    np.subtract.outer(center, s,out=slim)\n",
    "    np.square(slim, out=slim)\n",
    "\n",
    "def DBA_update(center, series, cost_mat, path_mat, delta_mat):\n",
    "    options_argmin = [(-1, -1), (0, -1), (-1, 0)]\n",
    "    updated_center = np.zeros(center.shape)\n",
    "    n_elements = np.array(np.zeros(center.shape), dtype=int)\n",
    "    center_length = len(center)\n",
    "    for s in tqdm(series):\n",
    "        s_len = len(s)\n",
    "        fill_delta_mat_dtw(center, s, delta_mat)\n",
    "        cost_mat[0, 0] = delta_mat[0, 0]\n",
    "        path_mat[0, 0] = -1\n",
    "\n",
    "        for i in range(1, center_length):\n",
    "            cost_mat[i, 0] = cost_mat[i-1, 0]+delta_mat[i, 0]\n",
    "            path_mat[i, 0] = 2\n",
    "\n",
    "        for j in range(1, s_len):\n",
    "            cost_mat[0, j] = cost_mat[0, j-1]+delta_mat[0, j]\n",
    "            path_mat[0, j] = 1\n",
    "\n",
    "        for i in range(1, center_length):\n",
    "            for j in range(1, s_len):\n",
    "                diag,left,top =cost_mat[i-1, j-1], cost_mat[i, j-1], cost_mat[i-1, j]\n",
    "                if(diag <=left):\n",
    "                    if(diag<=top):\n",
    "                        res = diag\n",
    "                        path_mat[i,j] = 0\n",
    "                    else:\n",
    "                        res = top\n",
    "                        path_mat[i,j] = 2\n",
    "                else:\n",
    "                    if(left<=top):\n",
    "                        res = left\n",
    "                        path_mat[i,j] = 1\n",
    "                    else:\n",
    "                        res = top\n",
    "                        path_mat[i,j] = 2\n",
    "\n",
    "                cost_mat[i, j] = res+delta_mat[i, j]\n",
    "\n",
    "        i = center_length-1\n",
    "        j = s_len-1\n",
    "\n",
    "        while(path_mat[i, j] != -1):\n",
    "            updated_center[i] += s[j]\n",
    "            n_elements[i] += 1\n",
    "            move = options_argmin[path_mat[i, j]]\n",
    "            i += move[0]\n",
    "            j += move[1]\n",
    "        assert(i == 0 and j == 0)\n",
    "        updated_center[i] += s[j]\n",
    "        n_elements[i] += 1\n",
    "\n",
    "    return np.divide(updated_center, n_elements)\n",
    "\n",
    "def main():\n",
    "    #generating synthetic data\n",
    "    n_series = 20\n",
    "    length = 200\n",
    "\n",
    "    series = list()\n",
    "    padding_length=30\n",
    "    indices = range(0, length-padding_length)\n",
    "    main_profile_gen = np.array([np.sin(2*np.pi*j/len(indices)) for j in indices])\n",
    "    randomizer = lambda j:np.random.normal(j,0.02)\n",
    "    randomizer_fun = np.vectorize(randomizer)\n",
    "    for i in range(0,n_series):\n",
    "        n_pad_left = np.random.randint(0,padding_length)\n",
    "        #adding zero at the start or at the end to shif the profile\n",
    "        series_i = np.pad(main_profile_gen,(n_pad_left,padding_length-n_pad_left),mode='constant',constant_values=0)\n",
    "        #chop some of the end to prove it can work with multiple lengths\n",
    "        l = np.random.randint(length-20,length+1)\n",
    "        series_i = series_i[:l]\n",
    "        #randomize a bit\n",
    "        series_i = randomizer_fun(series_i)\n",
    "\n",
    "        series.append(series_i)\n",
    "    series = np.array(series)\n",
    "\n",
    "    #plotting the synthetic data\n",
    "    for s in series:\n",
    "        plt.plot(range(0,len(s)), s)\n",
    "    plt.draw()\n",
    "    \n",
    "\n",
    "    #calculating average series with DBA\n",
    "    average_series = performDBA(series)\n",
    "\n",
    "    #plotting the average series\n",
    "    plt.figure()\n",
    "    plt.plot(range(0,len(average_series)), average_series)\n",
    "    plt.show()\n",
    "\n",
    "if __name__== \"__main__\":\n",
    "    main()\n",
    "    "
   ]
  },
  {
   "cell_type": "code",
   "execution_count": 4,
   "id": "a3c44f5a",
   "metadata": {},
   "outputs": [
    {
     "name": "stderr",
     "output_type": "stream",
     "text": [
      "100%|███████████████████████████████████████████████████████████████████████████████████████████████████████████████████████████████| 2/2 [54:00<00:00, 1620.39s/it]\n",
      "  0%|                                                                                                                                        | 0/10 [00:00<?, ?it/s]\n",
      "  0%|                                                                                                                                         | 0/2 [00:00<?, ?it/s]\u001b[A"
     ]
    },
    {
     "name": "stdout",
     "output_type": "stream",
     "text": [
      "hello\n"
     ]
    },
    {
     "name": "stderr",
     "output_type": "stream",
     "text": [
      "\n",
      " 50%|████████████████████████████████████████████████████████████████                                                                | 1/2 [15:51<15:51, 951.63s/it]\u001b[A\n",
      "100%|████████████████████████████████████████████████████████████████████████████████████████████████████████████████████████████████| 2/2 [31:46<00:00, 953.17s/it]\u001b[A\n",
      " 10%|████████████▍                                                                                                               | 1/10 [31:46<4:45:57, 1906.34s/it]\n",
      "  0%|                                                                                                                                         | 0/2 [00:00<?, ?it/s]\u001b[A\n",
      " 50%|████████████████████████████████████████████████████████████████                                                                | 1/2 [15:32<15:32, 932.34s/it]\u001b[A\n",
      "100%|████████████████████████████████████████████████████████████████████████████████████████████████████████████████████████████████| 2/2 [30:53<00:00, 926.51s/it]\u001b[A\n",
      " 20%|████████████████████████▍                                                                                                 | 2/10 [1:02:39<4:09:59, 1874.97s/it]\n",
      "  0%|                                                                                                                                         | 0/2 [00:00<?, ?it/s]\u001b[A\n",
      " 50%|████████████████████████████████████████████████████████████████                                                                | 1/2 [15:18<15:18, 918.02s/it]\u001b[A\n",
      "100%|████████████████████████████████████████████████████████████████████████████████████████████████████████████████████████████████| 2/2 [31:13<00:00, 936.79s/it]\u001b[A\n",
      " 30%|████████████████████████████████████▌                                                                                     | 3/10 [1:33:52<3:38:40, 1874.34s/it]\n",
      "  0%|                                                                                                                                         | 0/2 [00:00<?, ?it/s]\u001b[A\n",
      " 50%|████████████████████████████████████████████████████████████████                                                                | 1/2 [15:58<15:58, 958.28s/it]\u001b[A\n",
      "100%|████████████████████████████████████████████████████████████████████████████████████████████████████████████████████████████████| 2/2 [31:57<00:00, 958.53s/it]\u001b[A\n",
      " 40%|████████████████████████████████████████████████▊                                                                         | 4/10 [2:05:50<3:09:07, 1891.21s/it]\n",
      "  0%|                                                                                                                                         | 0/2 [00:00<?, ?it/s]\u001b[A\n",
      " 50%|████████████████████████████████████████████████████████████████                                                                | 1/2 [16:12<16:12, 972.09s/it]\u001b[A\n",
      "100%|████████████████████████████████████████████████████████████████████████████████████████████████████████████████████████████████| 2/2 [32:12<00:00, 966.02s/it]\u001b[A\n",
      " 50%|█████████████████████████████████████████████████████████████                                                             | 5/10 [2:38:02<2:38:49, 1905.93s/it]\n",
      "  0%|                                                                                                                                         | 0/2 [00:00<?, ?it/s]\u001b[A\n",
      " 50%|████████████████████████████████████████████████████████████████                                                                | 1/2 [15:37<15:37, 937.39s/it]\u001b[A\n",
      "100%|████████████████████████████████████████████████████████████████████████████████████████████████████████████████████████████████| 2/2 [30:57<00:00, 928.64s/it]\u001b[A\n",
      " 60%|█████████████████████████████████████████████████████████████████████████▏                                                | 6/10 [3:08:59<2:05:57, 1889.39s/it]\n",
      "  0%|                                                                                                                                         | 0/2 [00:00<?, ?it/s]\u001b[A\n",
      " 50%|████████████████████████████████████████████████████████████████                                                                | 1/2 [15:55<15:55, 955.58s/it]\u001b[A\n",
      "100%|████████████████████████████████████████████████████████████████████████████████████████████████████████████████████████████████| 2/2 [32:00<00:00, 960.06s/it]\u001b[A\n",
      " 70%|█████████████████████████████████████████████████████████████████████████████████████▍                                    | 7/10 [3:40:59<1:34:58, 1899.44s/it]\n",
      "  0%|                                                                                                                                         | 0/2 [00:00<?, ?it/s]\u001b[A\n",
      " 50%|████████████████████████████████████████████████████████████████                                                                | 1/2 [15:32<15:32, 932.06s/it]\u001b[A\n",
      "100%|████████████████████████████████████████████████████████████████████████████████████████████████████████████████████████████████| 2/2 [31:17<00:00, 938.61s/it]\u001b[A\n",
      " 80%|█████████████████████████████████████████████████████████████████████████████████████████████████▌                        | 8/10 [4:12:16<1:03:04, 1892.37s/it]\n",
      "  0%|                                                                                                                                         | 0/2 [00:00<?, ?it/s]\u001b[A\n",
      " 50%|████████████████████████████████████████████████████████████████                                                                | 1/2 [15:12<15:12, 912.64s/it]\u001b[A\n",
      "100%|████████████████████████████████████████████████████████████████████████████████████████████████████████████████████████████████| 2/2 [31:06<00:00, 933.21s/it]\u001b[A\n",
      " 90%|███████████████████████████████████████████████████████████████████████████████████████████████████████████████▌            | 9/10 [4:43:23<31:24, 1884.26s/it]\n",
      "  0%|                                                                                                                                         | 0/2 [00:00<?, ?it/s]\u001b[A\n",
      " 50%|████████████████████████████████████████████████████████████████                                                                | 1/2 [15:13<15:13, 913.06s/it]\u001b[A\n",
      "100%|████████████████████████████████████████████████████████████████████████████████████████████████████████████████████████████████| 2/2 [30:24<00:00, 912.11s/it]\u001b[A\n",
      "100%|███████████████████████████████████████████████████████████████████████████████████████████████████████████████████████████| 10/10 [5:13:47<00:00, 1882.73s/it]\n"
     ]
    }
   ],
   "source": [
    "corr_data = pd.read_csv('/localdata/ABench-IoT/Generation/gan/dcgan_Sauerstoff/correlated.csv')[['s'+str(i) for i in range(1,3)]][:window*10].T.to_numpy()\n",
    "dba_results = performDBA(corr_data)\n"
   ]
  },
  {
   "cell_type": "markdown",
   "id": "7840be6b",
   "metadata": {},
   "source": [
    "# AR"
   ]
  },
  {
   "cell_type": "code",
   "execution_count": 5,
   "id": "0ec67d63",
   "metadata": {},
   "outputs": [],
   "source": [
    "from statsmodels.tsa.ar_model import AutoReg\n",
    "import pandas as pd\n",
    "import numpy as np\n",
    "import argparse\n",
    "import os"
   ]
  },
  {
   "cell_type": "code",
   "execution_count": 6,
   "id": "59aceb79",
   "metadata": {},
   "outputs": [
    {
     "name": "stderr",
     "output_type": "stream",
     "text": [
      "100%|████████████████████████████████████████████████████████████████████████████████████████████████████████████████████████████████| 3/3 [21:43<00:00, 434.60s/it]"
     ]
    },
    {
     "name": "stdout",
     "output_type": "stream",
     "text": [
      "Autoregressive model generation terminated\n"
     ]
    },
    {
     "name": "stderr",
     "output_type": "stream",
     "text": [
      "\n"
     ]
    }
   ],
   "source": [
    "\n",
    "# Load dataset\n",
    "data = pd.read_csv('/localdata/ABench-IoT/Generation/gan/dcgan_Sauerstoff/correlated.csv')[['s'+str(i) for i in range(1,4)]][:window*10]\n",
    "# Collect generated data\n",
    "generated = []\n",
    "# Choose lag window\n",
    "lag_win = int(len(data.iloc[:,0])/4) \n",
    "for s in tqdm(range(len(data.columns))):\n",
    "    X = tuple(data.iloc[:,s])   # AutoReg do not like dataframes.. cast it to tuple to remove warnings\n",
    "    # train autoregression\n",
    "    model = AutoReg(X, lags=lag_win, old_names=False)\n",
    "    model_fit = model.fit()\n",
    "    # Predict future data, and use it asnew data\n",
    "    predictions = model_fit.predict(start=len(X)-1, end=len(X)*2-1, dynamic=False)\n",
    "    # Save prediction\n",
    "    generated.append(predictions)\n",
    "\n",
    "# Create folder if necessary\n",
    "\n",
    "ar_results = pd.DataFrame(np.array(generated).T)\n",
    "print(\"Autoregressive model generation terminated\")\n"
   ]
  },
  {
   "cell_type": "code",
   "execution_count": null,
   "id": "4c66886b",
   "metadata": {},
   "outputs": [],
   "source": []
  },
  {
   "cell_type": "code",
   "execution_count": 16,
   "id": "c212b6f3",
   "metadata": {},
   "outputs": [
    {
     "data": {
      "text/plain": [
       "<AxesSubplot:>"
      ]
     },
     "execution_count": 16,
     "metadata": {},
     "output_type": "execute_result"
    },
    {
     "data": {
      "image/png": "[encoded data removed]",
      "text/plain": [
       "<Figure size 432x288 with 1 Axes>"
      ]
     },
     "metadata": {
      "needs_background": "light"
     },
     "output_type": "display_data"
    }
   ],
   "source": [
    "pd.DataFrame(dba_results).plot()"
   ]
  },
  {
   "cell_type": "code",
   "execution_count": 12,
   "id": "60c42d52",
   "metadata": {},
   "outputs": [
    {
     "data": {
      "text/plain": [
       "<AxesSubplot:>"
      ]
     },
     "execution_count": 12,
     "metadata": {},
     "output_type": "execute_result"
    },
    {
     "data": {
      "image/png": "[encoded data removed]",
      "text/plain": [
       "<Figure size 432x288 with 1 Axes>"
      ]
     },
     "metadata": {
      "needs_background": "light"
     },
     "output_type": "display_data"
    }
   ],
   "source": [
    "ar_results.plot()"
   ]
  },
  {
   "cell_type": "code",
   "execution_count": 14,
   "id": "4a4e06e7",
   "metadata": {
    "scrolled": true
   },
   "outputs": [
    {
     "data": {
      "text/plain": [
       "<AxesSubplot:>"
      ]
     },
     "execution_count": 14,
     "metadata": {},
     "output_type": "execute_result"
    },
    {
     "data": {
      "image/png": "[encoded data removed]",
      "text/plain": [
       "<Figure size 432x288 with 1 Axes>"
      ]
     },
     "metadata": {
      "needs_background": "light"
     },
     "output_type": "display_data"
    }
   ],
   "source": [
    "pd.read_csv('/localdata/ABench-IoT/Generation/gan/dcgan_Sauerstoff/correlated.csv')[['s'+str(i) for i in range(1,4)]][:window*10].plot()\n",
    "\n"
   ]
  },
  {
   "cell_type": "code",
   "execution_count": null,
   "id": "91f47238",
   "metadata": {},
   "outputs": [],
   "source": []
  },
  {
   "cell_type": "code",
   "execution_count": null,
   "id": "fd77b26c",
   "metadata": {},
   "outputs": [],
   "source": []
  },
  {
   "cell_type": "code",
   "execution_count": null,
   "id": "2cfb9b33",
   "metadata": {},
   "outputs": [],
   "source": []
  },
  {
   "cell_type": "code",
   "execution_count": null,
   "id": "e15dbb10",
   "metadata": {},
   "outputs": [],
   "source": []
  },
  {
   "cell_type": "code",
   "execution_count": null,
   "id": "544061aa",
   "metadata": {},
   "outputs": [],
   "source": []
  },
  {
   "cell_type": "code",
   "execution_count": null,
   "id": "36345525",
   "metadata": {},
   "outputs": [],
   "source": []
  },
  {
   "cell_type": "code",
   "execution_count": null,
   "id": "07f09dff",
   "metadata": {},
   "outputs": [],
   "source": []
  },
  {
   "cell_type": "code",
   "execution_count": null,
   "id": "c6e9d6e3",
   "metadata": {},
   "outputs": [],
   "source": []
  },
  {
   "cell_type": "code",
   "execution_count": null,
   "id": "b675561f",
   "metadata": {},
   "outputs": [],
   "source": []
  },
  {
   "cell_type": "code",
   "execution_count": null,
   "id": "000b289b",
   "metadata": {},
   "outputs": [],
   "source": []
  },
  {
   "cell_type": "code",
   "execution_count": null,
   "id": "9013eb07",
   "metadata": {},
   "outputs": [],
   "source": []
  },
  {
   "cell_type": "code",
   "execution_count": 7,
   "id": "a3d582f7",
   "metadata": {},
   "outputs": [
    {
     "name": "stdout",
     "output_type": "stream",
     "text": [
      "s1\n",
      "s3\n"
     ]
    },
    {
     "ename": "TypeError",
     "evalue": "can't convert type 'str' to numerator/denominator",
     "output_type": "error",
     "traceback": [
      "\u001b[0;31m---------------------------------------------------------------------------\u001b[0m",
      "\u001b[0;31mTypeError\u001b[0m                                 Traceback (most recent call last)",
      "\u001b[0;32m/tmp/ipykernel_940158/1209266454.py\u001b[0m in \u001b[0;36m<module>\u001b[0;34m\u001b[0m\n\u001b[1;32m      4\u001b[0m \u001b[0mprint\u001b[0m\u001b[0;34m(\u001b[0m\u001b[0mmin\u001b[0m\u001b[0;34m(\u001b[0m\u001b[0mdata\u001b[0m\u001b[0;34m)\u001b[0m\u001b[0;34m)\u001b[0m\u001b[0;34m\u001b[0m\u001b[0;34m\u001b[0m\u001b[0m\n\u001b[1;32m      5\u001b[0m \u001b[0mprint\u001b[0m\u001b[0;34m(\u001b[0m\u001b[0mmax\u001b[0m\u001b[0;34m(\u001b[0m\u001b[0mdata\u001b[0m\u001b[0;34m)\u001b[0m\u001b[0;34m)\u001b[0m\u001b[0;34m\u001b[0m\u001b[0;34m\u001b[0m\u001b[0m\n\u001b[0;32m----> 6\u001b[0;31m \u001b[0mprint\u001b[0m\u001b[0;34m(\u001b[0m\u001b[0mstatistics\u001b[0m\u001b[0;34m.\u001b[0m\u001b[0mstdev\u001b[0m\u001b[0;34m(\u001b[0m\u001b[0mdata\u001b[0m\u001b[0;34m)\u001b[0m\u001b[0;34m)\u001b[0m\u001b[0;34m\u001b[0m\u001b[0;34m\u001b[0m\u001b[0m\n\u001b[0m\u001b[1;32m      7\u001b[0m \u001b[0;34m\u001b[0m\u001b[0m\n\u001b[1;32m      8\u001b[0m \u001b[0mprint\u001b[0m\u001b[0;34m(\u001b[0m\u001b[0;34m)\u001b[0m\u001b[0;34m\u001b[0m\u001b[0;34m\u001b[0m\u001b[0m\n",
      "\u001b[0;32m/usr/lib/python3.8/statistics.py\u001b[0m in \u001b[0;36mstdev\u001b[0;34m(data, xbar)\u001b[0m\n\u001b[1;32m    797\u001b[0m \u001b[0;34m\u001b[0m\u001b[0m\n\u001b[1;32m    798\u001b[0m     \"\"\"\n\u001b[0;32m--> 799\u001b[0;31m     \u001b[0mvar\u001b[0m \u001b[0;34m=\u001b[0m \u001b[0mvariance\u001b[0m\u001b[0;34m(\u001b[0m\u001b[0mdata\u001b[0m\u001b[0;34m,\u001b[0m \u001b[0mxbar\u001b[0m\u001b[0;34m)\u001b[0m\u001b[0;34m\u001b[0m\u001b[0;34m\u001b[0m\u001b[0m\n\u001b[0m\u001b[1;32m    800\u001b[0m     \u001b[0;32mtry\u001b[0m\u001b[0;34m:\u001b[0m\u001b[0;34m\u001b[0m\u001b[0;34m\u001b[0m\u001b[0m\n\u001b[1;32m    801\u001b[0m         \u001b[0;32mreturn\u001b[0m \u001b[0mvar\u001b[0m\u001b[0;34m.\u001b[0m\u001b[0msqrt\u001b[0m\u001b[0;34m(\u001b[0m\u001b[0;34m)\u001b[0m\u001b[0;34m\u001b[0m\u001b[0;34m\u001b[0m\u001b[0m\n",
      "\u001b[0;32m/usr/lib/python3.8/statistics.py\u001b[0m in \u001b[0;36mvariance\u001b[0;34m(data, xbar)\u001b[0m\n\u001b[1;32m    740\u001b[0m     \u001b[0;32mif\u001b[0m \u001b[0mn\u001b[0m \u001b[0;34m<\u001b[0m \u001b[0;36m2\u001b[0m\u001b[0;34m:\u001b[0m\u001b[0;34m\u001b[0m\u001b[0;34m\u001b[0m\u001b[0m\n\u001b[1;32m    741\u001b[0m         \u001b[0;32mraise\u001b[0m \u001b[0mStatisticsError\u001b[0m\u001b[0;34m(\u001b[0m\u001b[0;34m'variance requires at least two data points'\u001b[0m\u001b[0;34m)\u001b[0m\u001b[0;34m\u001b[0m\u001b[0;34m\u001b[0m\u001b[0m\n\u001b[0;32m--> 742\u001b[0;31m     \u001b[0mT\u001b[0m\u001b[0;34m,\u001b[0m \u001b[0mss\u001b[0m \u001b[0;34m=\u001b[0m \u001b[0m_ss\u001b[0m\u001b[0;34m(\u001b[0m\u001b[0mdata\u001b[0m\u001b[0;34m,\u001b[0m \u001b[0mxbar\u001b[0m\u001b[0;34m)\u001b[0m\u001b[0;34m\u001b[0m\u001b[0;34m\u001b[0m\u001b[0m\n\u001b[0m\u001b[1;32m    743\u001b[0m     \u001b[0;32mreturn\u001b[0m \u001b[0m_convert\u001b[0m\u001b[0;34m(\u001b[0m\u001b[0mss\u001b[0m\u001b[0;34m/\u001b[0m\u001b[0;34m(\u001b[0m\u001b[0mn\u001b[0m\u001b[0;34m-\u001b[0m\u001b[0;36m1\u001b[0m\u001b[0;34m)\u001b[0m\u001b[0;34m,\u001b[0m \u001b[0mT\u001b[0m\u001b[0;34m)\u001b[0m\u001b[0;34m\u001b[0m\u001b[0;34m\u001b[0m\u001b[0m\n\u001b[1;32m    744\u001b[0m \u001b[0;34m\u001b[0m\u001b[0m\n",
      "\u001b[0;32m/usr/lib/python3.8/statistics.py\u001b[0m in \u001b[0;36m_ss\u001b[0;34m(data, c)\u001b[0m\n\u001b[1;32m    686\u001b[0m         \u001b[0mT\u001b[0m\u001b[0;34m,\u001b[0m \u001b[0mtotal\u001b[0m\u001b[0;34m,\u001b[0m \u001b[0mcount\u001b[0m \u001b[0;34m=\u001b[0m \u001b[0m_sum\u001b[0m\u001b[0;34m(\u001b[0m\u001b[0;34m(\u001b[0m\u001b[0mx\u001b[0m\u001b[0;34m-\u001b[0m\u001b[0mc\u001b[0m\u001b[0;34m)\u001b[0m\u001b[0;34m**\u001b[0m\u001b[0;36m2\u001b[0m \u001b[0;32mfor\u001b[0m \u001b[0mx\u001b[0m \u001b[0;32min\u001b[0m \u001b[0mdata\u001b[0m\u001b[0;34m)\u001b[0m\u001b[0;34m\u001b[0m\u001b[0;34m\u001b[0m\u001b[0m\n\u001b[1;32m    687\u001b[0m         \u001b[0;32mreturn\u001b[0m \u001b[0;34m(\u001b[0m\u001b[0mT\u001b[0m\u001b[0;34m,\u001b[0m \u001b[0mtotal\u001b[0m\u001b[0;34m)\u001b[0m\u001b[0;34m\u001b[0m\u001b[0;34m\u001b[0m\u001b[0m\n\u001b[0;32m--> 688\u001b[0;31m     \u001b[0mc\u001b[0m \u001b[0;34m=\u001b[0m \u001b[0mmean\u001b[0m\u001b[0;34m(\u001b[0m\u001b[0mdata\u001b[0m\u001b[0;34m)\u001b[0m\u001b[0;34m\u001b[0m\u001b[0;34m\u001b[0m\u001b[0m\n\u001b[0m\u001b[1;32m    689\u001b[0m     \u001b[0mT\u001b[0m\u001b[0;34m,\u001b[0m \u001b[0mtotal\u001b[0m\u001b[0;34m,\u001b[0m \u001b[0mcount\u001b[0m \u001b[0;34m=\u001b[0m \u001b[0m_sum\u001b[0m\u001b[0;34m(\u001b[0m\u001b[0;34m(\u001b[0m\u001b[0mx\u001b[0m\u001b[0;34m-\u001b[0m\u001b[0mc\u001b[0m\u001b[0;34m)\u001b[0m\u001b[0;34m**\u001b[0m\u001b[0;36m2\u001b[0m \u001b[0;32mfor\u001b[0m \u001b[0mx\u001b[0m \u001b[0;32min\u001b[0m \u001b[0mdata\u001b[0m\u001b[0;34m)\u001b[0m\u001b[0;34m\u001b[0m\u001b[0;34m\u001b[0m\u001b[0m\n\u001b[1;32m    690\u001b[0m     \u001b[0;31m# The following sum should mathematically equal zero, but due to rounding\u001b[0m\u001b[0;34m\u001b[0m\u001b[0;34m\u001b[0m\u001b[0;34m\u001b[0m\u001b[0m\n",
      "\u001b[0;32m/usr/lib/python3.8/statistics.py\u001b[0m in \u001b[0;36mmean\u001b[0;34m(data)\u001b[0m\n\u001b[1;32m    314\u001b[0m     \u001b[0;32mif\u001b[0m \u001b[0mn\u001b[0m \u001b[0;34m<\u001b[0m \u001b[0;36m1\u001b[0m\u001b[0;34m:\u001b[0m\u001b[0;34m\u001b[0m\u001b[0;34m\u001b[0m\u001b[0m\n\u001b[1;32m    315\u001b[0m         \u001b[0;32mraise\u001b[0m \u001b[0mStatisticsError\u001b[0m\u001b[0;34m(\u001b[0m\u001b[0;34m'mean requires at least one data point'\u001b[0m\u001b[0;34m)\u001b[0m\u001b[0;34m\u001b[0m\u001b[0;34m\u001b[0m\u001b[0m\n\u001b[0;32m--> 316\u001b[0;31m     \u001b[0mT\u001b[0m\u001b[0;34m,\u001b[0m \u001b[0mtotal\u001b[0m\u001b[0;34m,\u001b[0m \u001b[0mcount\u001b[0m \u001b[0;34m=\u001b[0m \u001b[0m_sum\u001b[0m\u001b[0;34m(\u001b[0m\u001b[0mdata\u001b[0m\u001b[0;34m)\u001b[0m\u001b[0;34m\u001b[0m\u001b[0;34m\u001b[0m\u001b[0m\n\u001b[0m\u001b[1;32m    317\u001b[0m     \u001b[0;32massert\u001b[0m \u001b[0mcount\u001b[0m \u001b[0;34m==\u001b[0m \u001b[0mn\u001b[0m\u001b[0;34m\u001b[0m\u001b[0;34m\u001b[0m\u001b[0m\n\u001b[1;32m    318\u001b[0m     \u001b[0;32mreturn\u001b[0m \u001b[0m_convert\u001b[0m\u001b[0;34m(\u001b[0m\u001b[0mtotal\u001b[0m\u001b[0;34m/\u001b[0m\u001b[0mn\u001b[0m\u001b[0;34m,\u001b[0m \u001b[0mT\u001b[0m\u001b[0;34m)\u001b[0m\u001b[0;34m\u001b[0m\u001b[0;34m\u001b[0m\u001b[0m\n",
      "\u001b[0;32m/usr/lib/python3.8/statistics.py\u001b[0m in \u001b[0;36m_sum\u001b[0;34m(data, start)\u001b[0m\n\u001b[1;32m    164\u001b[0m     \u001b[0;32mfor\u001b[0m \u001b[0mtyp\u001b[0m\u001b[0;34m,\u001b[0m \u001b[0mvalues\u001b[0m \u001b[0;32min\u001b[0m \u001b[0mgroupby\u001b[0m\u001b[0;34m(\u001b[0m\u001b[0mdata\u001b[0m\u001b[0;34m,\u001b[0m \u001b[0mtype\u001b[0m\u001b[0;34m)\u001b[0m\u001b[0;34m:\u001b[0m\u001b[0;34m\u001b[0m\u001b[0;34m\u001b[0m\u001b[0m\n\u001b[1;32m    165\u001b[0m         \u001b[0mT\u001b[0m \u001b[0;34m=\u001b[0m \u001b[0m_coerce\u001b[0m\u001b[0;34m(\u001b[0m\u001b[0mT\u001b[0m\u001b[0;34m,\u001b[0m \u001b[0mtyp\u001b[0m\u001b[0;34m)\u001b[0m  \u001b[0;31m# or raise TypeError\u001b[0m\u001b[0;34m\u001b[0m\u001b[0;34m\u001b[0m\u001b[0m\n\u001b[0;32m--> 166\u001b[0;31m         \u001b[0;32mfor\u001b[0m \u001b[0mn\u001b[0m\u001b[0;34m,\u001b[0m\u001b[0md\u001b[0m \u001b[0;32min\u001b[0m \u001b[0mmap\u001b[0m\u001b[0;34m(\u001b[0m\u001b[0m_exact_ratio\u001b[0m\u001b[0;34m,\u001b[0m \u001b[0mvalues\u001b[0m\u001b[0;34m)\u001b[0m\u001b[0;34m:\u001b[0m\u001b[0;34m\u001b[0m\u001b[0;34m\u001b[0m\u001b[0m\n\u001b[0m\u001b[1;32m    167\u001b[0m             \u001b[0mcount\u001b[0m \u001b[0;34m+=\u001b[0m \u001b[0;36m1\u001b[0m\u001b[0;34m\u001b[0m\u001b[0;34m\u001b[0m\u001b[0m\n\u001b[1;32m    168\u001b[0m             \u001b[0mpartials\u001b[0m\u001b[0;34m[\u001b[0m\u001b[0md\u001b[0m\u001b[0;34m]\u001b[0m \u001b[0;34m=\u001b[0m \u001b[0mpartials_get\u001b[0m\u001b[0;34m(\u001b[0m\u001b[0md\u001b[0m\u001b[0;34m,\u001b[0m \u001b[0;36m0\u001b[0m\u001b[0;34m)\u001b[0m \u001b[0;34m+\u001b[0m \u001b[0mn\u001b[0m\u001b[0;34m\u001b[0m\u001b[0;34m\u001b[0m\u001b[0m\n",
      "\u001b[0;32m/usr/lib/python3.8/statistics.py\u001b[0m in \u001b[0;36m_exact_ratio\u001b[0;34m(x)\u001b[0m\n\u001b[1;32m    246\u001b[0m         \u001b[0;32mreturn\u001b[0m \u001b[0;34m(\u001b[0m\u001b[0mx\u001b[0m\u001b[0;34m,\u001b[0m \u001b[0;32mNone\u001b[0m\u001b[0;34m)\u001b[0m\u001b[0;34m\u001b[0m\u001b[0;34m\u001b[0m\u001b[0m\n\u001b[1;32m    247\u001b[0m     \u001b[0mmsg\u001b[0m \u001b[0;34m=\u001b[0m \u001b[0;34m\"can't convert type '{}' to numerator/denominator\"\u001b[0m\u001b[0;34m\u001b[0m\u001b[0;34m\u001b[0m\u001b[0m\n\u001b[0;32m--> 248\u001b[0;31m     \u001b[0;32mraise\u001b[0m \u001b[0mTypeError\u001b[0m\u001b[0;34m(\u001b[0m\u001b[0mmsg\u001b[0m\u001b[0;34m.\u001b[0m\u001b[0mformat\u001b[0m\u001b[0;34m(\u001b[0m\u001b[0mtype\u001b[0m\u001b[0;34m(\u001b[0m\u001b[0mx\u001b[0m\u001b[0;34m)\u001b[0m\u001b[0;34m.\u001b[0m\u001b[0m__name__\u001b[0m\u001b[0;34m)\u001b[0m\u001b[0;34m)\u001b[0m\u001b[0;34m\u001b[0m\u001b[0;34m\u001b[0m\u001b[0m\n\u001b[0m\u001b[1;32m    249\u001b[0m \u001b[0;34m\u001b[0m\u001b[0m\n\u001b[1;32m    250\u001b[0m \u001b[0;34m\u001b[0m\u001b[0m\n",
      "\u001b[0;31mTypeError\u001b[0m: can't convert type 'str' to numerator/denominator"
     ]
    }
   ],
   "source": [
    "import statistics \n",
    "\n",
    "\n",
    "print(min(data))\n",
    "print(max(data))\n",
    "print(statistics.stdev(data))\n",
    "\n",
    "print()\n",
    "\n",
    "df_segments *= 10\n",
    "\n",
    "print(max(df_segments.min()))\n",
    "print(max(df_segments.max()))\n",
    "print(df_segments.std()) "
   ]
  },
  {
   "cell_type": "code",
   "execution_count": null,
   "id": "4095aed9",
   "metadata": {},
   "outputs": [],
   "source": [
    "data = data[:window * 16 ]\n"
   ]
  },
  {
   "cell_type": "code",
   "execution_count": null,
   "id": "5aa6585b",
   "metadata": {},
   "outputs": [],
   "source": [
    "# df_ori = data[:15000]\n",
    "# noise = np.random.normal(0,.008,len(data))\n",
    "# generated = list(data + noise)"
   ]
  },
  {
   "cell_type": "code",
   "execution_count": null,
   "id": "4c3b4572",
   "metadata": {},
   "outputs": [],
   "source": [
    "plt.plot(data)\n",
    "plt.show()\n",
    "# plt.plot(generated)\n",
    "# plt.show()"
   ]
  },
  {
   "cell_type": "raw",
   "id": "f35adb4e",
   "metadata": {},
   "source": [
    "# window = 3072\n",
    "segments = []\n",
    "for i in range(3072):\n",
    "    segments += [data[i:i + window] + np.random.normal(0,.008, window) for i in range(0, len(data) - window, int(0.1 * window))]\n"
   ]
  },
  {
   "cell_type": "code",
   "execution_count": null,
   "id": "71ba29e5",
   "metadata": {
    "scrolled": false
   },
   "outputs": [],
   "source": [
    "from scipy.signal import lfilter\n",
    "\n",
    "df_segments = df_segments.T\n",
    "\n",
    "n = 10  # the larger n is, the smoother curve will be\n",
    "b = [1.0 / n] * n\n",
    "a = 1\n",
    "\n",
    "for col in tqdm(df_segments):\n",
    "#     plt.plot(df_segments[col].tolist())\n",
    "    yy = lfilter(b,a,df_segments[col].tolist())\n",
    "    yy[:n] = yy[n:n+1]\n",
    "    df_segments[col] = yy.tolist()\n",
    "#     plt.plot(df_segments[col].tolist())\n",
    "#     plt.show()\n",
    "    \n",
    "    \n",
    "# df_segments = pd.DataFrame(segments)\n",
    "# df_segments = df_segments.T\n",
    "\n",
    "df_segments.iloc[: , 36:75].plot(subplots=True, layout=(10,6), figsize=(10, 10), legend = False, color = 'black')\n",
    "plt.show()"
   ]
  },
  {
   "cell_type": "code",
   "execution_count": null,
   "id": "64b98270",
   "metadata": {},
   "outputs": [],
   "source": [
    "segments = [] \n",
    "\n",
    "for col in df_segments:\n",
    "    segments += [df_segments[col].tolist()]\n",
    "\n",
    "print(len(segments))"
   ]
  },
  {
   "cell_type": "markdown",
   "id": "549e7e07",
   "metadata": {},
   "source": [
    "# LSH"
   ]
  },
  {
   "cell_type": "code",
   "execution_count": null,
   "id": "1fe694ff",
   "metadata": {},
   "outputs": [],
   "source": [
    "lsh = lshash.LSHash(window // 300, window, num_hashtables=8)\n",
    "\n",
    "for i in segments:\n",
    "    lsh.index(i)\n",
    "    \n",
    "\n",
    "\n",
    "# results = [list(lsh.query(i)[0][0][0]) for i in segments]\n",
    "\n",
    "# results = pd.DataFrame(results)\n",
    "# results = results.T\n",
    "\n",
    "# results.plot(subplots=True, layout=(5,5), figsize=(10, 5), legend = False, color = 'b')\n",
    "# plt.show()\n"
   ]
  },
  {
   "cell_type": "code",
   "execution_count": null,
   "id": "b43dc95a",
   "metadata": {},
   "outputs": [],
   "source": [
    "to_query = [data[i:i + window] for i in range(0, len(data) - window, window)]\n",
    "\n",
    "plt.plot(to_query[0])\n",
    "plt.show()\n",
    "\n",
    "plt.plot(random.choice( lsh.query(to_query[0], distance_func=\"euclidean\", num_results=3))[0][0])\n",
    "plt.show()\n",
    "\n",
    "# nn = lsh.query(to_query[0], distance_func=\"euclidean\", num_results=10)\n",
    "# for ((vec,extra_data),distance) in nn:\n",
    "#     print( distance)\n",
    "#     plt.plot(vec)\n",
    "#     plt.show()\n",
    "#     # len(segments)"
   ]
  },
  {
   "cell_type": "code",
   "execution_count": null,
   "id": "0b4d17d6",
   "metadata": {
    "scrolled": true
   },
   "outputs": [],
   "source": [
    "for i in to_query:\n",
    "    plt.plot(i)\n",
    "    plt.show()\n",
    "    plt.plot(random.choice( lsh.query(i, distance_func=\"euclidean\", num_results=10))[0][0])\n",
    "    plt.show()"
   ]
  },
  {
   "cell_type": "code",
   "execution_count": null,
   "id": "1f466181",
   "metadata": {
    "scrolled": false
   },
   "outputs": [],
   "source": [
    "lsh_res = []\n",
    "n_top = 30\n",
    "k = int(window * .03)\n",
    "for i in tqdm(range(to_generate)):\n",
    "    temp = list(random.choice( lsh.query(to_query[0], distance_func=\"euclidean\", num_results=n_top))[0][0])\n",
    "    for i in range(1, len(to_query)): \n",
    "        candidates = lsh.query(to_query[i], distance_func=\"euclidean\", num_results=n_top)\n",
    "        s = list(random.choice(candidates)[0][0])\n",
    "        temp_t = temp[-k:]\n",
    "        s_h = s[:k]\n",
    "        overlap = []\n",
    "        for i in range(-k//2, k//2):\n",
    "            overlap.append((1 - sigmoid(i))*temp_t[i + k//2] + sigmoid(i)*s_h[i + k//2])\n",
    "#         for i in range(-1*k , 0):\n",
    "#             temp[i]= (1 - sigmoid(i))*temp_t[i] + sigmoid(i)*s_h[i]\n",
    "#         for i in range(0, k):\n",
    "#             s[i]= (1 - sigmoid(i))*temp_t[i] + sigmoid(i)*s_h[i]\n",
    "        temp[-k:] = overlap\n",
    "        s[:k] = overlap[::-1]\n",
    "        temp.extend(s)\n",
    "    lsh_res.append(temp)\n",
    "    \n",
    "    \n",
    "# lsh_res = []\n",
    "# for i in range(3):\n",
    "#     results = [lsh.query(to_query[i])[0][0][0] for i in range(len(to_query))]\n",
    "#     print(len(results))\n",
    "#     res_lsh = []\n",
    "#     for l in results: \n",
    "#         res_lsh += l\n",
    "#     lsh_res.append(res_lsh)\n",
    "    \n"
   ]
  },
  {
   "cell_type": "code",
   "execution_count": null,
   "id": "b4ba8e55",
   "metadata": {},
   "outputs": [],
   "source": [
    "\n",
    "temp_t = [8.223067268392308, 8.234601459461013, 8.231100734977524, 8.235581871064525, 8.22165953679208, 8.224560530685782, 8.221611838752738, 8.220763007167054, 8.221360251440409, 8.237594346928871, 8.218151884601212, 8.218895522288742, 8.222024050647743, 8.220620320290683, 8.226100869913548]\n",
    "s_h = [8.203848961187267, 8.215696132997543, 8.211725913440684, 8.229210929937185, 8.231961348404845, 8.226763106150951, 8.232830353263141, 8.22468453854455, 8.222993742737057, 8.236119151230762, 8.202521977215087, 8.226678129771793, 8.223971839312602, 8.20790959411677, 8.228807763790948]\n",
    "overlap = [8.223067262513386, 8.234601443740704, 8.231100691184144, 8.23558183192035, 8.221659708846982, 8.224560630678013, 8.221613223056579, 8.220764322253114, 8.221361739634606, 8.237590699325827, 8.218047275961117, 8.219035501900985, 8.22211642622594, 8.21910516458973, 8.226828865800433, 8.213458114789788, 8.220780558368093, 8.214035448781532, 8.229513077383112, 8.231776057858188, 8.226748364641713, 8.23280261410438, 8.224680965828703, 8.222993194945538, 8.23611933326191, 8.20252268677957, 8.226677999791182, 8.223971827345048, 8.207909622847135, 8.22880776154009]\n",
    "\n",
    "plt.plot(temp_t + s_h)\n",
    "plt.show()\n",
    "plt.plot(overlap)\n",
    "plt.show()\n"
   ]
  },
  {
   "cell_type": "code",
   "execution_count": null,
   "id": "6c408e97",
   "metadata": {},
   "outputs": [],
   "source": [
    "plt.plot(lsh_res[0])\n",
    "plt.show()\n",
    "\n",
    "plt.plot(lsh_res[1])\n",
    "plt.show()\n",
    "\n",
    "plt.plot(lsh_res[2])\n",
    "plt.show()"
   ]
  },
  {
   "cell_type": "markdown",
   "id": "419d93e9",
   "metadata": {},
   "source": [
    "# Graph"
   ]
  },
  {
   "cell_type": "code",
   "execution_count": null,
   "id": "5905e42f",
   "metadata": {},
   "outputs": [],
   "source": [
    "#Calculates the distance between two series. Given series A, B returns the Euclidean distance between A and B\n",
    "def distance(a, b):\n",
    "    return np.sqrt(np.sum((a - b)**2))\n",
    "    \n",
    "#The probability is converted according to the sorted distances, which adds up to 1\n",
    "def distopro(a):\n",
    "    a=len(a)\n",
    "    if(a==3):\n",
    "        b=[0.2,0.3,0.5]\n",
    "    elif(a==4):\n",
    "        b=[0.1,0.2,0.3,0.4]\n",
    "    else:\n",
    "        b=[0.04,0.12,0.2,0.28,0.36]\n",
    "    return np.array(b)\n",
    "        \n",
    "\n",
    "#Input is the original data matrix, return is the relationship matrix relation_matrix, and probability matrix probability_matrix\n",
    "#Data is the matrix of series, the first dimension is the number of series, and the second dimension is each series\n",
    "#Window_size is the size of the window to calculate the distance, and k is the number of the nearest neighbors selected. Currently, 3,4,5 are supported\n",
    "def transform(data, window_size, k):\n",
    "    numOfSeq=data.shape[0]\n",
    "    distance_matrix=np.ones([numOfSeq,numOfSeq],dtype = float)\n",
    "    for i in range(numOfSeq):\n",
    "        for j in range(numOfSeq):\n",
    "            distance_matrix[i][j]=distance(data[i,data.shape[1]-window_size:],data[j,0:window_size])\n",
    "    relation_matrix=np.ones([numOfSeq,k],dtype = int)\n",
    "    subdistance_matrix=np.ones([numOfSeq,k],dtype = float)\n",
    "    probability_matrix=np.ones([numOfSeq,k],dtype = float)\n",
    "    for i in range(numOfSeq):\n",
    "        relation_matrix[i]=distance_matrix[i].argsort()[::-1][data.shape[0]-k:]\n",
    "        #print(relation_matrix[i])\n",
    "#     print(relation_matrix[i])\n",
    "    for i in range(numOfSeq):\n",
    "        for j in range(k):\n",
    "            subdistance_matrix[i][j]=distance_matrix[i][relation_matrix[i][j]]\n",
    "    \n",
    "    for i in range(numOfSeq):\n",
    "        probability_matrix[i]=distopro(subdistance_matrix[i])\n",
    "    \n",
    "    \n",
    "    return distance_matrix, subdistance_matrix ,relation_matrix, probability_matrix\n",
    "            \n",
    "      \n",
    "#print(transform(np.array([[0,1,1,1],[1,0,1,1],[1,1,0,1],[1,1,1,0]]), 2, 3))\n",
    "\n",
    "\n",
    "#Given the ID of the current series, the ID of the next series is generated randomly according to probability\n",
    "def next_step(relation_array, probability_array):\n",
    "    value=random.random()\n",
    "#     print(value)\n",
    "    threshold=[0]\n",
    "    sum_value=0\n",
    "    for i in range(len(probability_array)):\n",
    "        sum_value=sum_value+probability_array[i]\n",
    "        threshold.append(sum_value)\n",
    "    for i in range(len(threshold)-1):\n",
    "        if(value>threshold[i] and value<=threshold[i+1]):\n",
    "            return relation_array[i]\n",
    "\n",
    "#Given a relation matrix and a probability matrix, returns a series of length        \n",
    "def random_walk(relation_matrix, probability_matrix, length):\n",
    "    seq=[0]\n",
    "    temp_id=0\n",
    "    for i in range(length-1):\n",
    "        temp_id=next_step(relation_matrix[temp_id],probability_matrix[temp_id])\n",
    "        seq.append(temp_id)\n",
    "        #print(temp_id)\n",
    "    return np.array(seq)"
   ]
  },
  {
   "cell_type": "code",
   "execution_count": null,
   "id": "61341c30",
   "metadata": {},
   "outputs": [],
   "source": [
    "seq=[0]\n",
    "\n",
    "a,b,c,d=transform(np.array(segments), 100, 5)"
   ]
  },
  {
   "cell_type": "code",
   "execution_count": null,
   "id": "d98eb214",
   "metadata": {},
   "outputs": [],
   "source": [
    "graph_res = []\n",
    "for i in range(to_generate):\n",
    "    path = random_walk( c, d, int(len(data)/window))\n",
    "    print(path)\n",
    "    temp=[]\n",
    "    for s in path:\n",
    "#         print(path[i], i)\n",
    "        temp+=list(segments[s])\n",
    "    graph_res.append(temp)\n",
    "    print(len(graph_res))\n",
    "    "
   ]
  },
  {
   "cell_type": "code",
   "execution_count": null,
   "id": "6ddc06f4",
   "metadata": {},
   "outputs": [],
   "source": [
    "print(graph_res[0][-3:-1])\n",
    "print(graph_res[1][-3:-1])\n",
    "print(graph_res[2][-3:-1])"
   ]
  },
  {
   "cell_type": "code",
   "execution_count": null,
   "id": "46d64139",
   "metadata": {
    "scrolled": true
   },
   "outputs": [],
   "source": [
    "\n",
    "# res_lsh = pd.read_csv('example_data.csv')\n",
    "# res_lsh = res_lsh['LSH'].tolist()\n",
    "\n",
    "# res_graph = pd.read_csv('example_data.csv')\n",
    "# res_graph = res_graph['Graph'].tolist()"
   ]
  },
  {
   "cell_type": "code",
   "execution_count": null,
   "id": "58058ce0",
   "metadata": {},
   "outputs": [],
   "source": [
    "plt.plot(segments[0])\n",
    "plt.show()"
   ]
  },
  {
   "cell_type": "code",
   "execution_count": null,
   "id": "7aa1b396",
   "metadata": {
    "scrolled": false
   },
   "outputs": [],
   "source": [
    "xi = list(range(10000))\n",
    "# plot the index for the x-values \n",
    "\n",
    "plt.figure(figsize=(60*2, 80))\n",
    "\n",
    "plt.subplot(to_generate*2+1, 1, 1)\n",
    "\n",
    "# plt.figure(figsize=(60, 8))\n",
    "plt.plot(data,color='blue',linewidth=4.0, label='Original')\n",
    "plt.xlim(0,len(lsh_res[0]))\n",
    "\n",
    "for i in range(to_generate):\n",
    "    plt.subplot(to_generate*2+1, 1, i+2)\n",
    "    plt.plot(lsh_res[i],color='green',linewidth=4.0, label='LSH')\n",
    "    plt.xlim(0,len(lsh_res[0]))\n",
    "    \n",
    "for i in range(to_generate):\n",
    "    plt.subplot(to_generate*2+1, 1, i+2+to_generate)\n",
    "    plt.plot(graph_res[i],color='red',linewidth=4.0, label='Graph')\n",
    "    plt.xlim(0,len(lsh_res[0]))\n",
    "\n",
    "\n",
    "# lines, labels = fig.axes[-1].get_legend_handles_labels()\n",
    "# print(lines, labels)\n",
    "# fig.legend(lines, labels, loc = 'upper right')\n",
    "\n",
    "plt.show()\n",
    "\n",
    "# plt.show()\n",
    "# plt.savefig('plot_lsh_graph.pdf',dpi=1600,\n",
    "#             bbox_inches = 'tight')\n",
    "\n"
   ]
  },
  {
   "cell_type": "code",
   "execution_count": null,
   "id": "6786d23a",
   "metadata": {},
   "outputs": [],
   "source": [
    "plt.plot(lsh_res[1][5830:5840],color='red')\n",
    "plt.ylim(8.1,8.7)\n",
    "plt.show()"
   ]
  },
  {
   "cell_type": "markdown",
   "id": "36ee0d61",
   "metadata": {},
   "source": [
    "# Metrics"
   ]
  },
  {
   "cell_type": "code",
   "execution_count": null,
   "id": "b3b5141f",
   "metadata": {},
   "outputs": [],
   "source": [
    "from numpy import pi\n",
    "from scipy import ndimage\n",
    "from scipy.integrate._bvp import EPS\n",
    "from scipy.linalg import det\n",
    "from scipy.special import gamma, psi\n",
    "from scipy.stats import pearsonr, spearmanr\n",
    "from sklearn import preprocessing\n",
    "from sklearn.neighbors import NearestNeighbors\n",
    "from sklearn.ensemble import IsolationForest\n",
    "\n",
    "def mutual_information_2d(x, y, sigma=1, normalized=False):\n",
    "    \"\"\"\n",
    "    Computes (normalized) mutual information between two 1D variate from a\n",
    "    joint histogram.\n",
    "    Parameters\n",
    "    ----------\n",
    "    x : 1D array\n",
    "        first variable\n",
    "    y : 1D array\n",
    "        second variable\n",
    "    sigma: float\n",
    "        sigma for Gaussian smoothing of the joint histogram\n",
    "    Returns\n",
    "    -------\n",
    "    nmi: float\n",
    "        the computed similariy measure\n",
    "    \"\"\"\n",
    "    bins = (256, 256)\n",
    "\n",
    "    jh = np.histogram2d(x, y, bins=bins)[0]\n",
    "\n",
    "    # smooth the jh with a gaussian filter of given sigma\n",
    "    ndimage.gaussian_filter(jh, sigma=sigma, mode='constant',\n",
    "                            output=jh)\n",
    "\n",
    "    # compute marginal histograms\n",
    "    jh = jh + EPS\n",
    "    sh = np.sum(jh)\n",
    "    jh = jh / sh\n",
    "    s1 = np.sum(jh, axis=0).reshape((-1, jh.shape[0]))\n",
    "    s2 = np.sum(jh, axis=1).reshape((jh.shape[1], -1))\n",
    "\n",
    "    # Normalised Mutual Information of:\n",
    "    # Studholme,  jhill & jhawkes (1998).\n",
    "    # \"A normalized entropy measure of 3-D medical image alignment\".\n",
    "    # in Proc. Medical Imaging 1998, vol. 3338, San Diego, CA, pp. 132-143.\n",
    "    if normalized:\n",
    "        mi = ((np.sum(s1 * np.log(s1)) + np.sum(s2 * np.log(s2)))\n",
    "              / np.sum(jh * np.log(jh))) - 1\n",
    "    else:\n",
    "        mi = (np.sum(jh * np.log(jh)) - np.sum(s1 * np.log(s1))\n",
    "              - np.sum(s2 * np.log(s2)))\n",
    "\n",
    "    return mi\n"
   ]
  },
  {
   "cell_type": "code",
   "execution_count": null,
   "id": "a8e6da10",
   "metadata": {},
   "outputs": [],
   "source": [
    "from sklearn.metrics import mean_squared_error\n",
    "from  math import sqrt\n",
    "import statistics\n",
    "from scipy import stats\n",
    "from scipy.stats import chi2_contingency\n",
    "from scipy.stats import skew\n",
    "from scipy.stats import kurtosis\n",
    "from dtw import dtw, accelerated_dtw\n",
    "\n",
    "def anomaly_score(df):\n",
    "    final = []\n",
    "    for i in range(1):\n",
    "        isolation_forest = IsolationForest(n_estimators=100)\n",
    "        isolation_forest.fit(df.values.reshape(-1, 1))\n",
    "        xx = np.linspace(df.min(), df.max(), len(df)).reshape(-1, 1)\n",
    "        # anomaly_score = isolation_forest.decision_function(xx)\n",
    "        outlier = isolation_forest.predict(xx)\n",
    "\n",
    "        # getting anomaly score for each value\n",
    "        anos = []\n",
    "        for index, v in df.items():\n",
    "            idx = int((v - df.min()) / ((df.max() - df.min()) / len(xx))) - 1\n",
    "            anos.append(outlier[idx] == -1)\n",
    "        anos = np.array(anos)\n",
    "        final.append(len(anos[anos == True]) / len(anos))\n",
    "    # return len(anos[anos == True]) / len(anos)\n",
    "    return sum(final) / len(final)\n",
    "\n",
    "\n",
    "def compute_metrics(original, generated):\n",
    "    metrics = {}\n",
    "\n",
    "\n",
    "    from sklearn.metrics import mean_squared_error\n",
    "    from  math import sqrt\n",
    "    metrics['rmse^-1'] = 1/float(math.sqrt(mean_squared_error(original, generated)))\n",
    "    # print('RMSE: %f' % metrics['rmse'])  # # original = original.iloc[0]\n",
    "    \n",
    "    import statistics\n",
    "    metrics['mean_dist^-1'] = 1/abs(statistics.mean(original) - statistics.mean(generated))\n",
    "    metrics['stddev_dist^-1'] = 1/abs(statistics.stdev(original) - statistics.stdev(generated))\n",
    "\n",
    "    # metrics['DTW'], cost_matrix, acc_cost_matrix, path = float(accelerated_dtw(np.array(original), np.array(generated),\n",
    "    #                                                                      dist='euclidean'))\n",
    "    # # print('DTW Distance: %f' % metrics['DTW'])\n",
    "    #\n",
    "    # with HiddenPrints():\n",
    "    #     metrics['MJC'], _ = float(MJC(original, generated))\n",
    "    # # metrics['MJC'], _ =  1, 1\n",
    "    #\n",
    "    from scipy import stats\n",
    "    metrics['pcorr'] = float(stats.pearsonr(original, generated)[0])\n",
    "    # # # print('Pearsons correlation: %.3f' % metrics['pcorr'])\n",
    "    # #\n",
    "#     metrics['scorr'] = float(stats.spearmanr(original, generated)[0])\n",
    "    # # # print('Spearmans correlation: %.3f' % metrics['scorr'])\n",
    "    # #\n",
    "    from scipy.stats import chi2_contingency\n",
    "\n",
    "    def calc_MI(x, y, bins=10):\n",
    "        c_xy = np.histogram2d(x, y, bins)[0]\n",
    "        g, p, dof, expected = chi2_contingency(c_xy, lambda_=\"log-likelihood\")\n",
    "        mi = 0.5 * g / c_xy.sum()\n",
    "        return mi\n",
    "    metrics['NMI'] = float(mutual_information_2d(np.array(original), np.array(generated), sigma=1, normalized=False))\n",
    "    # # # print('NMI: %.3f' % metrics['NMI'])\n",
    "    # #\n",
    "    # plt.clf()\n",
    "    # plt.title(\"Autocorrelation Plot\")\n",
    "    # plt.xlabel(\"Lags\")\n",
    "    # plt.acorr(generated, maxlags = 10)\n",
    "    # plt.grid(True)\n",
    "    # plt.savefig(exportPath + \"autocorr_generated.png\")\n",
    "    # plt.clf()\n",
    "\n",
    "#     metrics['Skewness ori'] = float(pd.DataFrame(original).skew())\n",
    "#     metrics['Skewness gen'] = float(pd.DataFrame(generated).skew())\n",
    "#     metrics['Kurtosis ori'] = float(pd.DataFrame(original).kurt())\n",
    "#     metrics['Kurtosis gen'] = float(pd.DataFrame(generated).kurt())\n",
    "    from scipy.stats import skew\n",
    "    from scipy.stats import kurtosis\n",
    "\n",
    "#     metrics['Skewness ori'] = float(skew(original, axis=0, bias=True))\n",
    "#     metrics['Skewness gen'] = float(skew(generated, axis=0, bias=True))\n",
    "#     metrics['Kurtosis ori'] = float(kurtosis(original, axis=0, bias=True))\n",
    "#     metrics['Kurtosis gen'] = float(kurtosis(generated, axis=0, bias=True))\n",
    "    \n",
    "\n",
    "    metrics['Skewness^-1'] = 1/abs(skew(original, axis=0, bias=True) - skew(generated, axis=0, bias=True))\n",
    "    metrics['Kurtosis^-1'] = 1/abs(kurtosis(original, axis=0, bias=True) - kurtosis(generated, axis=0, bias=True))    \n",
    "    # # print(\"Skewness: %f\" % df.skew())\n",
    "    # # print(\"Kurtosis: %f\" % df.kurt())\n",
    "    #\n",
    "#     ano_original = anomaly_score(pd.Series(original))\n",
    "#     # # # print('ano_original: %.3f' % metrics['ano_original'])\n",
    "\n",
    "#     ano_generated = float(anomaly_score(pd.Series(generated)))\n",
    "#     # print('ano_generated: %.3f' % metrics['ano_generated'])\n",
    "\n",
    "#     metrics['ano_dist^-1'] = 1/abs(ano_generated - ano_original)\n",
    "#     # print('ano_distance: %.3f' % metrics['ano_distance'])\n",
    "    return metrics\n",
    "\n",
    "\n",
    "def compute_metrics_many(original, generated):\n",
    "    metrics = {}\n",
    "    list_metrics = ['rmse^-1','mean_dist^-1','stddev_dist^-1','DTW','pcorr','scorr','NMI','Skewness_dist^-1','Kurtosis_dist^-1']\n",
    "    for m in list_metrics:\n",
    "        metrics[m] = []\n",
    "    \n",
    "    for gen in tqdm(generated):\n",
    "        gen = gen[:len(original)]\n",
    "        metrics['rmse^-1'].append(1/float(math.sqrt(mean_squared_error(original, gen))))\n",
    "        metrics['mean_dist^-1'].append(1/abs(statistics.mean(original) - statistics.mean(gen)))\n",
    "\n",
    "#         dtw, cost_matrix, acc_cost_matrix, path = float(accelerated_dtw(np.array(original), np.array(gen),\n",
    "#                                                                               dist='euclidean'))\n",
    "#         metrics['DTW'].append(dtw)\n",
    "        metrics['pcorr'].append(abs(float(stats.pearsonr(original, gen)[0])))\n",
    "        metrics['scorr'].append(abs(float(stats.spearmanr(original, gen)[0])))\n",
    "        def calc_MI(x, y, bins=10):\n",
    "            c_xy = np.histogram2d(x, y, bins)[0]\n",
    "            g, p, dof, expected = chi2_contingency(c_xy, lambda_=\"log-likelihood\")\n",
    "            mi = 0.5 * g / c_xy.sum()\n",
    "            return mi\n",
    "        metrics['NMI'].append(float(mutual_information_2d(np.array(original), np.array(gen), sigma=1, normalized=False)))\n",
    "        \n",
    "\n",
    "        metrics['Skewness_dist^-1'].append(1/abs(skew(original, axis=0, bias=True) - skew(gen, axis=0, bias=True)))\n",
    "        metrics['Kurtosis_dist^-1'].append(1/abs(kurtosis(original, axis=0, bias=True) - kurtosis(gen, axis=0, bias=True)))\n",
    "    for m in list_metrics:\n",
    "        try: \n",
    "            metrics[m] = sum(metrics[m])/len(metrics[m])\n",
    "        except: \n",
    "            metrics.pop(m, None)\n",
    "    return metrics\n",
    "\n"
   ]
  },
  {
   "cell_type": "code",
   "execution_count": null,
   "id": "731a8c85",
   "metadata": {},
   "outputs": [],
   "source": [
    "ori_sample = data[:len(lsh_res[0])]\n",
    "lsh_sample = lsh_res[1]\n",
    "graph_sample = graph_res[1][:len(lsh_res[0])]\n",
    "random_sample = [random.random() for i in range(len(lsh_res[0]))]\n"
   ]
  },
  {
   "cell_type": "code",
   "execution_count": null,
   "id": "ee09e74a",
   "metadata": {},
   "outputs": [],
   "source": [
    "# metrics_lsh = compute_metrics(ori_sample, lsh_sample)\n",
    "# metrics_graph = compute_metrics(ori_sample, graph_sample)\n",
    "# metrics_naive = compute_metrics(ori_sample, random_sample)\n"
   ]
  },
  {
   "cell_type": "code",
   "execution_count": null,
   "id": "2ee1fad7",
   "metadata": {},
   "outputs": [],
   "source": [
    "metrics_lsh = compute_metrics_many(ori_sample, lsh_res)\n",
    "metrics_graph = compute_metrics_many(ori_sample, graph_res)\n",
    "metrics_naive = compute_metrics_many(ori_sample, [[random.random() for i in range(len(lsh_res[0]))] for i in range(to_generate)])\n"
   ]
  },
  {
   "cell_type": "code",
   "execution_count": null,
   "id": "80447fce",
   "metadata": {},
   "outputs": [],
   "source": [
    "df_metrics = pd.DataFrame([metrics_lsh,metrics_graph,metrics_naive]).T\n",
    "df_metrics.columns = [\"LSH\", \"Graph\", \"Random\"]\n",
    "df_metrics"
   ]
  },
  {
   "cell_type": "code",
   "execution_count": null,
   "id": "7021e28b",
   "metadata": {},
   "outputs": [],
   "source": [
    "df_metrics.div(df_metrics.max(axis=1), axis=0).abs()*100\n"
   ]
  },
  {
   "cell_type": "code",
   "execution_count": null,
   "id": "08b07448",
   "metadata": {
    "scrolled": false
   },
   "outputs": [],
   "source": [
    "fig, ax = plt.subplots()\n",
    "ax.hist(ori_sample , 20, None, fc='none', lw=1.5, histtype='step', label='original')\n",
    "ax.hist(lsh_sample, 20, None, fc='none', lw=1.5, ec = 'green', histtype='step', label='lsh')\n",
    "ax.hist(graph_sample, 20, None, ec = 'red', fc='none', lw=1.5, histtype='step', label='graph')\n",
    "ax.legend(loc='upper left')\n",
    "# plt.show()\n",
    "plt.savefig('histograms.pdf',dpi=1600,\n",
    "            bbox_inches = 'tight')"
   ]
  },
  {
   "cell_type": "code",
   "execution_count": null,
   "id": "1e5ce7e5",
   "metadata": {},
   "outputs": [],
   "source": [
    "plt.hist(data, bins=50, alpha=0.5)\n",
    "plt.show()\n",
    "plt.hist(lsh_res[0], bins=50, alpha=0.5)\n",
    "plt.show()\n",
    "# plt.hist(graph_res[0], bins=50, alpha=0.5)\n",
    "# plt.show()\n"
   ]
  },
  {
   "cell_type": "code",
   "execution_count": null,
   "id": "4958f9ff",
   "metadata": {},
   "outputs": [],
   "source": []
  },
  {
   "cell_type": "code",
   "execution_count": null,
   "id": "a0ad2628",
   "metadata": {},
   "outputs": [],
   "source": []
  },
  {
   "cell_type": "code",
   "execution_count": null,
   "id": "2ff8e11d",
   "metadata": {},
   "outputs": [],
   "source": [
    "import numpy as np\n",
    "import matplotlib.pyplot as plt\n",
    "\n",
    "plt.figure(figsize=(60, 40))\n",
    "\n",
    "plt.style.use('seaborn-deep')\n",
    "\n",
    "plt.yscale('log',base=2) \n",
    "plt.hist([data, res_lsh, res_graph], bins=10, label=['Original', 'LSH', 'Graph'])\n",
    "\n",
    "plt.legend(loc=\"upper right\", prop={'size': 80})\n",
    "\n",
    "plt.savefig('plot_distribution.pdf',dpi=1600,\n",
    "            bbox_inches = 'tight')\n",
    "# plt.show()"
   ]
  },
  {
   "cell_type": "code",
   "execution_count": null,
   "id": "0d5ef04e",
   "metadata": {},
   "outputs": [],
   "source": []
  }
 ],
 "metadata": {
  "kernelspec": {
   "display_name": "Python 3 (ipykernel)",
   "language": "python",
   "name": "python3"
  },
  "language_info": {
   "codemirror_mode": {
    "name": "ipython",
    "version": 3
   },
   "file_extension": ".py",
   "mimetype": "text/x-python",
   "name": "python",
   "nbconvert_exporter": "python",
   "pygments_lexer": "ipython3",
   "version": "3.8.10"
  }
 },
 "nbformat": 4,
 "nbformat_minor": 5
}
