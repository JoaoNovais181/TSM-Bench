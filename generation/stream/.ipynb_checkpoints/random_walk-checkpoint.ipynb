{
 "cells": [
  {
   "cell_type": "code",
   "execution_count": 85,
   "metadata": {},
   "outputs": [],
   "source": [
    "import numpy as np\n",
    "import random\n",
    "import pandas as pd\n",
    "import matplotlib.pyplot as plt\n",
    "from tqdm import tqdm\n",
    "%matplotlib inline"
   ]
  },
  {
   "cell_type": "code",
   "execution_count": 4,
   "metadata": {},
   "outputs": [
    {
     "name": "stdout",
     "output_type": "stream",
     "text": [
      "(3072, 3072)\n"
     ]
    }
   ],
   "source": [
    "data= np.loadtxt('./fake_noise_04_raw.txt',delimiter=',')#generated data with Kalman filter\n",
    "\n",
    "print(data.shape)"
   ]
  },
  {
   "cell_type": "code",
   "execution_count": 5,
   "metadata": {},
   "outputs": [],
   "source": [
    "seq=[400] #starting series"
   ]
  },
  {
   "cell_type": "code",
   "execution_count": null,
   "metadata": {},
   "outputs": [],
   "source": [
    "#Calculates the distance between two series. Given series A, B returns the Euclidean distance between A and B\n",
    "def distance(a, b):\n",
    "    return np.sqrt(np.sum((a - b)**2))\n",
    "    \n",
    "#The probability is converted according to the sorted distances, which adds up to 1\n",
    "def distopro(a):\n",
    "    a=len(a)\n",
    "    if(a==3):\n",
    "        b=[0.2,0.3,0.5]\n",
    "    elif(a==4):\n",
    "        b=[0.1,0.2,0.3,0.4]\n",
    "    else:\n",
    "        b=[0.04,0.12,0.2,0.28,0.36]\n",
    "    return np.array(b)\n",
    "        \n",
    "\n",
    "#Input is the original data matrix, return is the relationship matrix relation_matrix, and probability matrix probability_matrix\n",
    "#Data is the matrix of series, the first dimension is the number of series, and the second dimension is each series\n",
    "#Window_size is the size of the window to calculate the distance, and k is the number of the nearest neighbors selected. Currently, 3,4,5 are supported\n",
    "def transform(data, window_size, k):\n",
    "    numOfSeq=data.shape[0]\n",
    "    distance_matrix=np.ones([numOfSeq,numOfSeq],dtype = float)\n",
    "    for i in tqdm(range(numOfSeq)):\n",
    "        for j in range(numOfSeq):\n",
    "            distance_matrix[i][j]=distance(data[i,data.shape[1]-window_size:],data[j,0:window_size])\n",
    "    relation_matrix=np.ones([numOfSeq,k],dtype = int)\n",
    "    subdistance_matrix=np.ones([numOfSeq,k],dtype = float)\n",
    "    probability_matrix=np.ones([numOfSeq,k],dtype = float)\n",
    "    for i in tqdm(range(numOfSeq)):\n",
    "        relation_matrix[i]=distance_matrix[i].argsort()[::-1][data.shape[1]-k:]\n",
    "        #print(relation_matrix[i])\n",
    "    for i in tqdm(range(numOfSeq)):\n",
    "        for j in range(k):\n",
    "            subdistance_matrix[i][j]=distance_matrix[i][relation_matrix[i][j]]\n",
    "    \n",
    "    for i in tqdm(range(numOfSeq)):\n",
    "        probability_matrix[i]=distopro(subdistance_matrix[i])\n",
    "    \n",
    "    \n",
    "    return distance_matrix, subdistance_matrix ,relation_matrix, probability_matrix\n",
    "            \n",
    "#print(transform(np.array([[0,1,1,1],[1,0,1,1],[1,1,0,1],[1,1,1,0]]), 2, 3))\n",
    "\n",
    "\n",
    "#Given the ID of the current series, the ID of the next series is generated randomly according to probability\n",
    "def next_step(relation_array, probability_array):\n",
    "    value=random.random()\n",
    "    print(value)\n",
    "    threshold=[0]\n",
    "    sum_value=0\n",
    "    for i in range(len(probability_array)):\n",
    "        sum_value=sum_value+probability_array[i]\n",
    "        threshold.append(sum_value)\n",
    "    for i in range(len(threshold)-1):\n",
    "        if(value>threshold[i] and value<=threshold[i+1]):\n",
    "            return relation_array[i]\n",
    "\n",
    "#Given a relation matrix and a probability matrix, returns a series of length        \n",
    "def random_walk(relation_matrix, probability_matrix, length):\n",
    "    #seq=[0]\n",
    "    temp_id=0\n",
    "    for i in range(length-1):\n",
    "        temp_id=next_step(relation_matrix[temp_id],probability_matrix[temp_id])\n",
    "        seq.append(temp_id)\n",
    "        #print(temp_id)\n",
    "    return np.array(seq)\n",
    "\n",
    "a,b,c,d=transform(data, 100, 5)\n",
    "\n",
    "print(random_walk( c, d, 10))"
   ]
  },
  {
   "cell_type": "code",
   "execution_count": null,
   "metadata": {},
   "outputs": [],
   "source": [
    "import numpy as np\n",
    "\n",
    "def sigmoid(x):\n",
    "    s = 1 / (1 + np.exp(-x))\n",
    "    return s\n",
    "\n",
    "#data是一个二维数组，每一维表示一个拼接的片段，size为拟合窗口的长度\n",
    "def contact(data, size):\n",
    "    result=[]\n",
    "    result=np.array(result)\n",
    "    colomns=data.shape[1]\n",
    "    for i in range(data.shape[0]):\n",
    "        if(i==0):\n",
    "            result=np.append(result, data[i][0:colomns-size])\n",
    "        elif(i>0 and i <data.shape[0]-2):\n",
    "            result=np.append(result, data[i][size:colomns-size])\n",
    "        else:\n",
    "            result=np.append(result, data[i][size:])\n",
    "            break\n",
    "        for j in range(size):\n",
    "            temp=(1-sigmoid(j))*data[i][colomns-size+j]+sigmoid(j)*data[i+1][j]\n",
    "            #print(1-sigmoid(j))\n",
    "            result=np.append(result, temp)\n",
    "        #print('i:',i,result)\n",
    "    plt.figure(figsize=(60, 8))\n",
    "    plt.plot(result,color='blue')\n",
    "    plt.xlim(0,26848)\n",
    "    #plt.xticks([])\n",
    "    #plt.yticks([])\n",
    "    plt.savefig('./fake_04.pdf',dpi=600,\n",
    "            bbox_inches = 'tight')\n",
    "    np.savetxt(\"./fake_04.txt\", result, fmt='%f',delimiter=',')\n",
    "    return len(result)"
   ]
  },
  {
   "cell_type": "code",
   "execution_count": null,
   "metadata": {},
   "outputs": [],
   "source": [
    "data_con=[]\n",
    "for i in range(10):\n",
    "    index=seq[i]\n",
    "    data_con.append(data[index])"
   ]
  },
  {
   "cell_type": "code",
   "execution_count": null,
   "metadata": {},
   "outputs": [],
   "source": [
    "data_con=np.array(data_con)"
   ]
  },
  {
   "cell_type": "code",
   "execution_count": null,
   "metadata": {},
   "outputs": [],
   "source": [
    "#data=np.array([[1,2,3,4,5,6],[1,1,4,3,7,8]])\n",
    "print(contact(data_con,100))"
   ]
  },
  {
   "cell_type": "code",
   "execution_count": null,
   "metadata": {},
   "outputs": [],
   "source": [
    "c=[]\n",
    "for i in range(10):\n",
    "    index=seq[i]\n",
    "    data0=data[index].tolist()\n",
    "    c+=data0"
   ]
  },
  {
   "cell_type": "code",
   "execution_count": null,
   "metadata": {},
   "outputs": [],
   "source": [
    "len(c)"
   ]
  },
  {
   "cell_type": "code",
   "execution_count": null,
   "metadata": {},
   "outputs": [],
   "source": [
    "np.savetxt(\"pin4_19.txt\", c, fmt='%f',delimiter=',')"
   ]
  },
  {
   "cell_type": "code",
   "execution_count": null,
   "metadata": {},
   "outputs": [],
   "source": [
    "datas = pd.read_csv(\"14_data.csv\",header=None)#real data"
   ]
  },
  {
   "cell_type": "code",
   "execution_count": null,
   "metadata": {},
   "outputs": [],
   "source": [
    "data4=datas[4]\n",
    "data4=data4.tolist()"
   ]
  },
  {
   "cell_type": "code",
   "execution_count": null,
   "metadata": {},
   "outputs": [],
   "source": [
    "a=data4[400*50:400*50+26848]"
   ]
  },
  {
   "cell_type": "code",
   "execution_count": null,
   "metadata": {},
   "outputs": [],
   "source": [
    "len(a)"
   ]
  },
  {
   "cell_type": "code",
   "execution_count": null,
   "metadata": {},
   "outputs": [],
   "source": [
    "plt.figure(figsize=(60, 8))\n",
    "plt.plot(a,color='red')\n",
    "plt.xlim(0,26848)\n",
    "plt.savefig('real_04.pdf',dpi=600,\n",
    "            bbox_inches = 'tight')"
   ]
  },
  {
   "cell_type": "code",
   "execution_count": null,
   "metadata": {},
   "outputs": [],
   "source": []
  },
  {
   "cell_type": "code",
   "execution_count": null,
   "metadata": {},
   "outputs": [],
   "source": []
  }
 ],
 "metadata": {
  "kernelspec": {
   "display_name": "Python 3 (ipykernel)",
   "language": "python",
   "name": "python3"
  },
  "language_info": {
   "codemirror_mode": {
    "name": "ipython",
    "version": 3
   },
   "file_extension": ".py",
   "mimetype": "text/x-python",
   "name": "python",
   "nbconvert_exporter": "python",
   "pygments_lexer": "ipython3",
   "version": "3.8.10"
  }
 },
 "nbformat": 4,
 "nbformat_minor": 2
}
