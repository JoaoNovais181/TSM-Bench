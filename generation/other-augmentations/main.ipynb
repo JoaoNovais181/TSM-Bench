{
 "cells": [
  {
   "cell_type": "code",
   "execution_count": 1,
   "metadata": {},
   "outputs": [],
   "source": [
    "import json\n",
    "import numpy as np\n",
    "\n",
    "from tsaug import TimeWarp, Crop, Quantize, Drift, Reverse\n",
    "from tsaug.visualization import plot"
   ]
  },
  {
   "cell_type": "code",
   "execution_count": 2,
   "metadata": {},
   "outputs": [],
   "source": [
    "with open(\"../parameters.json\", \"r\") as f:\n",
    "    para_dict = json.load(f)\n",
    "    data_paths = para_dict[\"input_data_path\"]  # dataset path"
   ]
  },
  {
   "cell_type": "code",
   "execution_count": 3,
   "metadata": {},
   "outputs": [],
   "source": [
    "my_augmenter = (\n",
    "    TimeWarp() #* 2  # random time warping 5 times in parallel\n",
    "    # + Crop(size=300)  # random crop subsequences with length 300\n",
    "    +\n",
    "    Quantize(n_levels=[10, 20, 30])  # random quantize to 10-, 20-, or 30- level sets\n",
    "    + \n",
    "    Drift(max_drift=(0.1, 0.5)) @ 0.8  # with 80% probability, random drift the signal up to 10% - 50%\n",
    "    + \n",
    "    # \n",
    "    Reverse() @ 0.5  # with 50% probability, reverse the sequence\n",
    ")"
   ]
  },
  {
   "cell_type": "code",
   "execution_count": 4,
   "metadata": {},
   "outputs": [],
   "source": [
    "X = X_aug = []\n",
    "\n",
    "for data_path in data_paths:\n",
    "    x = np.genfromtxt('../' + data_path, delimiter=',', dtype=np.float32).transpose()\n",
    "    from pathlib import Path\n",
    "    pth = Path(data_path)\n",
    "    fn = pth.with_suffix('').stem\n",
    "    X_aug = my_augmenter.augment(x)\n",
    "    \n",
    "    np.savetxt(\"combined_\" + fn + \".csv\", X_aug.transpose(), delimiter=',')\n",
    "    #plot(x, X_aug);\n"
   ]
  },
  {
   "cell_type": "code",
   "execution_count": null,
   "metadata": {},
   "outputs": [],
   "source": []
  }
 ],
 "metadata": {
  "kernelspec": {
   "display_name": "Python 3",
   "language": "python",
   "name": "python3"
  },
  "language_info": {
   "codemirror_mode": {
    "name": "ipython",
    "version": 3
   },
   "file_extension": ".py",
   "mimetype": "text/x-python",
   "name": "python",
   "nbconvert_exporter": "python",
   "pygments_lexer": "ipython3",
   "version": "3.7.9"
  }
 },
 "nbformat": 4,
 "nbformat_minor": 4
}
