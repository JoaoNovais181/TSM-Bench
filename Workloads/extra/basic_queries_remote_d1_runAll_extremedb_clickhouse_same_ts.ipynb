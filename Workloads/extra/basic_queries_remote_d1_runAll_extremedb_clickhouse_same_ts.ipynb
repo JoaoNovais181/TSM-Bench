{
 "cells": [
  {
   "cell_type": "markdown",
   "id": "ef0773e3",
   "metadata": {},
   "source": [
    "# Basic Queries D1 vary ALL"
   ]
  },
  {
   "cell_type": "code",
   "execution_count": 1,
   "id": "841e5e3b",
   "metadata": {},
   "outputs": [],
   "source": [
    "import time\n",
    "import statistics as stats\n",
    "#import os\n",
    "#os.system('sudo sync; echo 3 > /proc/sys/vm/drop_caches')\n",
    "start_program = time.time()\n",
    "import pandas as pd\n",
    "import time\n",
    "import statistics as stats\n",
    "#import os\n",
    "#os.system('sudo sync; echo 3 > /proc/sys/vm/drop_caches')\n",
    "import pandas as pd"
   ]
  },
  {
   "cell_type": "code",
   "execution_count": 2,
   "id": "63a19ff4",
   "metadata": {},
   "outputs": [],
   "source": [
    "import random\n",
    "import time\n",
    "from tqdm import tqdm\n",
    "import numpy as np\n",
    "    \n",
    "def str_time_prop(start, end, time_format, prop):\n",
    "    \"\"\"Get a time at a proportion of a range of two formatted times.\n",
    "\n",
    "    start and end should be strings specifying times formatted in the\n",
    "    given format (strftime-style), giving an interval [start, end].\n",
    "    prop specifies how a proportion of the interval to be taken after\n",
    "    start.  The returned time will be in the specified format.\n",
    "    \"\"\"\n",
    "\n",
    "    stime = time.mktime(time.strptime(start, time_format))\n",
    "    etime = time.mktime(time.strptime(end, time_format))\n",
    "\n",
    "    ptime = stime + prop * (etime - stime)\n",
    "\n",
    "    return time.strftime(time_format, time.localtime(ptime))\n",
    "\n",
    "\n",
    "def random_date(start, end, prop, dform = '%Y-%m-%dT%H:%M:%S'):\n",
    "    return str_time_prop(start, end, dform, prop)\n",
    "    \n",
    "def get_list(elm, n_elm, max_r = 10, prefix = '', suffix = '', apostrophe = True):\n",
    "    res = ''\n",
    "    elms = random.sample(range(max_r), n_elm)\n",
    "    for i in range(n_elm): \n",
    "        item = prefix + elm + str(elms[i]) +  suffix \n",
    "        if apostrophe: \n",
    "            item = \"'\" + item + \"'\"\n",
    "        res += item \n",
    "        if i < n_elm - 1: \n",
    "            res += \", \"\n",
    "    return res\n",
    "\n",
    "import math\n",
    "\n",
    "def percentile(data, perc: int):\n",
    "    size = len(data)\n",
    "    return sorted(data)[int(math.ceil((size * perc) / 100)) - 1]\n"
   ]
  },
  {
   "cell_type": "code",
   "execution_count": 3,
   "id": "b5709e5d",
   "metadata": {},
   "outputs": [],
   "source": [
    "query1, query2, query3, query4, query5 = [{},{}],[{},{}],[{},{}],[{},{}],[{},{}]\n"
   ]
  },
  {
   "cell_type": "code",
   "execution_count": 4,
   "id": "ed6e3a31",
   "metadata": {},
   "outputs": [],
   "source": [
    "# max_duration = {\n",
    "#     1: 10,\n",
    "#     2: 15,\n",
    "#     3: 30,\n",
    "#     4: 5,\n",
    "#     5: 75\n",
    "# }\n",
    "max_duration = {\n",
    "    1: 1,\n",
    "    2: 1,\n",
    "    3: 1,\n",
    "    4: 1,\n",
    "    5: 1\n",
    "}\n",
    "rangesUnit = {\n",
    "    1: \"hour\",\n",
    "    2: \"hour\",\n",
    "    3: \"hour\",\n",
    "    4: \"hour\",\n",
    "    5: \"hour\",\n",
    "}\n",
    "\n",
    "n_it = 30\n",
    "\n",
    "\n",
    "number_stations = 10\n",
    "number_sensors = 100\n",
    "\n",
    "def_st = 1\n",
    "def_s = 10\n",
    "def_r = 'day'"
   ]
  },
  {
   "cell_type": "code",
   "execution_count": 5,
   "id": "19e4dfd2",
   "metadata": {},
   "outputs": [],
   "source": [
    "random.seed(1)\n",
    "\n",
    "set_st = [str(random.randint(0,9)) for i in range(500)]\n",
    "set_s = [str(random.randint(0,99)) for i in range(500)]\n",
    "set_date = [random.random() for i in range(500)]\n"
   ]
  },
  {
   "cell_type": "code",
   "execution_count": 6,
   "id": "9c1ab18d",
   "metadata": {},
   "outputs": [],
   "source": [
    "def to_pm(v):\n",
    "    return str(round(v[0][0],2)) + \"$\" + '\\\\' + \"pm$\" + str(round(v[1][0],2))\n"
   ]
  },
  {
   "cell_type": "markdown",
   "id": "4c96bd9e",
   "metadata": {},
   "source": [
    "# ClickHouse"
   ]
  },
  {
   "cell_type": "code",
   "execution_count": null,
   "id": "5cec060c",
   "metadata": {},
   "outputs": [],
   "source": [
    "# A simple class\n",
    "# attribute\n",
    "\n",
    "c_q1 = \"\"\"select time, id_station, <sid> FROM d1_same_ts where id_station in <stid>\n",
    "AND time > TIMESTAMP '<timestamp>' - INTERVAL '<nb>' <rangesUnit> \n",
    "AND time < TIMESTAMP '<timestamp>';\"\"\"\n",
    "\n",
    "# c_q1 = \"\"\"select time, s<sid> FROM d1_same_ts where id_station='st<stid>'\n",
    "# AND time > TIMESTAMP '<timestamp>' - INTERVAL '<nb>' <rangesUnit> \n",
    "# AND time < TIMESTAMP '<timestamp>';\"\"\"\n",
    "\n",
    "c_q2 = \"\"\"select time, id_station, <sid> FROM d1_same_ts where id_station in <stid>\n",
    "AND time > TIMESTAMP '<timestamp>' - INTERVAL '<nb>' <rangesUnit> \n",
    "AND time < TIMESTAMP '<timestamp>' and <sfilter>\"\"\" # s<sid> > 0.95;\n",
    "\n",
    "c_q3 = \"\"\"SELECT id_station, <avg_s> FROM d1_same_ts \n",
    "WHERE time > TIMESTAMP '<timestamp>' - INTERVAL '<nb>' <rangesUnit> \n",
    "AND time < TIMESTAMP '<timestamp>' \n",
    "AND id_station in <stid>\n",
    "GROUP BY id_station;\"\"\"   #avg(s<sid>)\n",
    "\n",
    "c_q4 = \"\"\"SELECT id_station, EXTRACT(YEAR FROM time) AS \"year\",\n",
    "date_trunc('month', time) AS \"month\", \n",
    "date_trunc('day', time) AS \"day\", \n",
    "date_trunc('hour', time) AS \"hour\", \n",
    "<avg_s> \n",
    "FROM d1_same_ts where  time > TIMESTAMP '<timestamp>' - INTERVAL '<nb>' <rangesUnit> \n",
    "AND time < TIMESTAMP '<timestamp>' \n",
    "AND id_station in <stid>\n",
    "GROUP BY id_station, \"year\", \"month\", \"day\", \"hour\";\"\"\" # AVG(s<sid>) AS avg_s<sid>\n",
    "\n",
    "c_q5 = \"\"\"select time, id_station, <sid> FROM d1_same_ts where id_station in <stid>\n",
    "\tAND time > TIMESTAMP '<timestamp>' - INTERVAL '<nb>' <rangesUnit> \n",
    "\tAND time < TIMESTAMP '<timestamp>' ORDER BY\n",
    "\tid_station ASC,\n",
    "\ttime ASC WITH FILL STEP 5\n",
    "\tINTERPOLATE ( <sid>, id_station AS id_station );\n",
    "\"\"\"\n",
    "\n"
   ]
  },
  {
   "cell_type": "code",
   "execution_count": null,
   "id": "c04d54cc",
   "metadata": {},
   "outputs": [],
   "source": [
    "from clickhouse_driver import Client\n",
    "from clickhouse_driver import connect as connect_ClickHouse\n",
    "\n",
    "class ClickHouse:\n",
    " \n",
    "    # A sample method \n",
    "    @staticmethod\n",
    "    def query(query, max_d, rangesUnit, n_it, n_st = 1, n_s = 10):\n",
    "#         client = Client('diufrm102')\n",
    "        conn = connect_ClickHouse(\"clickhouse://diufrm102\")\n",
    "        cursor = conn.cursor()\n",
    "#         print(client.execute('SHOW TABLES'))\n",
    "#         return None, None\n",
    "        duration = max_d\n",
    "        results = [[],[]]       \n",
    "        runtimes = []\n",
    "        full_time = time.time()\n",
    "        for i in tqdm(range(n_it)):\n",
    "#             time.sleep(0.5)\n",
    "            date = random_date(\"2019-04-01T00:00:00\", \"2019-05-01T00:00:00\", set_date[(duration*i)%500], dform = '%Y-%m-%dT%H:%M:%S')\n",
    "            temp = query.replace(\"<timestamp>\", date)\n",
    "            temp = temp.replace(\"<nb>\", str(duration))\n",
    "            temp = temp.replace(\"<rangesUnit>\", str(rangesUnit))\n",
    "#             temp = temp.replace(\"<sid>\", str(set_s[(duration*i)%500]))\n",
    "            # st\n",
    "            li = ['st' + str(z) for z in random.sample(range(number_stations), n_st)]\n",
    "            q = '(' + \"'\" + li[0] + \"'\"\n",
    "            for j in li[1:]:\n",
    "                q += ', ' + \"'\" + j + \"'\"\n",
    "            q += \")\"\n",
    "            temp = temp.replace(\"<stid>\", q)\n",
    "            \n",
    "            # sensor\n",
    "            li = ['s' + str(z) for z in random.sample(range(number_sensors), n_s)]\n",
    "            q = li[0]\n",
    "            q_filter = '(' + li[0] + ' > 0.95'\n",
    "            q_avg = 'avg(' + li[0] + ')'\n",
    "            for j in li[1:]:\n",
    "                q += ', ' + j\n",
    "                q_filter += ' OR ' + j + ' > 0.95'\n",
    "                q_avg += ', ' + 'avg(' + j + ')'\n",
    "            temp = temp.replace(\"<sid>\", q)\n",
    "            temp = temp.replace(\"<sfilter>\", q_filter + ')')\n",
    "            temp = temp.replace(\"<avg_s>\", q_avg)\n",
    "            \n",
    "\n",
    "            start = time.time()\n",
    "#             print(temp)\n",
    "            cursor.execute(temp)\n",
    "            print(len(cursor.fetchall()))\n",
    "            diff = (time.time()-start)*1000\n",
    "#                 print(temp, diff)\n",
    "            runtimes.append(diff)\n",
    "            if time.time() - full_time > 60 * 10 and i > 3: \n",
    "                break              \n",
    "#             print(temp)\n",
    "        results[0].append(stats.mean(runtimes))\n",
    "#             results[1].append(percentile(runtimes,85))\n",
    "        results[1].append(stats.stdev(runtimes))\n",
    "        conn.close()\n",
    "        return results[0], results[1]"
   ]
  },
  {
   "cell_type": "code",
   "execution_count": null,
   "id": "97e8697c",
   "metadata": {
    "scrolled": false
   },
   "outputs": [],
   "source": [
    "for st in range(2, 11, 2):\n",
    "# for s in range(10, 101, 10):\n",
    "# for r in [\"minute\", \"hour\", \"day\", \"week\", \"month\"]:\n",
    "    print(ClickHouse.query(c_q5, 1, \"hour\", 2, n_st = st, n_s = 10))\n",
    "# print(ClickHouse.query(c_q2, 1, \"hour\", 2, n_st = 2, n_s = 10))\n",
    "# print(ClickHouse.query(c_q2, 1, \"hour\", 2, n_st = 2, n_s = 100))\n"
   ]
  },
  {
   "cell_type": "markdown",
   "id": "b27fc749",
   "metadata": {},
   "source": [
    "# eXtremeDB"
   ]
  },
  {
   "cell_type": "code",
   "execution_count": 30,
   "id": "eb690017",
   "metadata": {},
   "outputs": [],
   "source": [
    "# A simple class\n",
    "# d1_same_ts_v\n",
    "# attribute\n",
    "# e_q1 = \"\"\"select seq_search(t,<timestamp> - <nb> * <rangesUnit>,<timestamp>) as tt, s<sid>@tt FROM d1_v WHERE id_station = 'st<stid>';\"\"\"\n",
    "e_q1 = \"\"\"select id_station, seq_search(t,<timestamp> - <nb> * <rangesUnit>,<timestamp>) as tt, <sid> FROM d1_v WHERE id_station in <stid>;\"\"\"\n",
    "\n",
    "\n",
    "e_q2 = \"\"\"select id_station, seq_search(t,<timestamp> - <nb> * <rangesUnit>,<timestamp>) as tt, <sfilter> as fe, <sid_filtered> FROM d1_v WHERE id_station in <stid>; \"\"\" #!seq_filter_search(s<sid>@tt > 0.95, tt),. <sid>@fe \n",
    "\n",
    "e_q2AND = \"\"\"select id_station, seq_search(t,<timestamp> - <nb> * <rangesUnit>,<timestamp>) as tt, <sfilterAND> as fe, <sid_filtered> FROM d1_v WHERE id_station in <stid>; \"\"\" #!seq_filter_search(s<sid>@tt > 0.95, tt),. <sid>@fe \n",
    "\n",
    "\n",
    "e_q3 = \"\"\"SELECT id_station, ! seq_search(t,<timestamp> - <nb> * <rangesUnit>,<timestamp>) as tt, <seq_avg> FROM d1_v WHERE id_station in <stid>;\"\"\" # where id_station = 'st<stid>', <seq_avg>(<sid>@tt)\n",
    "\n",
    "\n",
    "e_q4 = \"\"\"select id_station, seq_search(t,<timestamp> - <nb> * <rangesUnit>, <timestamp>) as tt, t@tt/3600 as hour, <seq_group_agg_dev> FROM d1_v where id_station in <stid>\"\"\" #seq_group_agg_dev(s<sid>@tt, t@tt/3600) \n",
    "\n",
    "\n",
    "e_q5 = \"\"\"select seq_aprogres_datetime(<timestamp> -  <nb> * <rangesUnit>, 5, <nb> * <rangesUnit>) as ts5, <seq_stretch> from d1_v where id_station in <stid>;\"\"\" #seq_stretch(ts5,t,s<sid>)\n",
    "\n"
   ]
  },
  {
   "cell_type": "code",
   "execution_count": 33,
   "id": "378c7d2f",
   "metadata": {},
   "outputs": [],
   "source": [
    "class EXtremeDB:\n",
    " \n",
    "    # A sample method \n",
    "    @staticmethod\n",
    "    def query(query, max_d, rangesUnit, n_it, n_st = 1, n_s = 10):\n",
    "        # map the inputs to the function blocks\n",
    "        import exdb \n",
    "        import datetime\n",
    "        exdb.init_runtime(debug = False, shm = False, disk = False, tmgr = 'mursiw')\n",
    "        con = exdb.connect('diufrm118', 5001)\n",
    "        curs = con.cursor()\n",
    "        curs.execute(\"SELECT s23 FROM d1_same_ts_v where id_station = 'st3'\")\n",
    "        curs.fetchall()\n",
    "        results = [[],[]]\n",
    "        options = {\"day\" : 60 * 60* 24,\n",
    "                   \"week\" : 60 * 60* 24 * 7,\n",
    "                   \"minute\" : 60,\n",
    "                   \"hour\" : 60 * 60,\n",
    "                   \"second\" : 1,\n",
    "                   \"month\" : 60 * 60 * 24 * 30,\n",
    "                   \"year\" :  60 * 60 * 24 * 30 * 12\n",
    "        }\n",
    "        duration = max_d\n",
    "        runtimes = []\n",
    "        full_time = time.time()\n",
    "        for i in tqdm(range(n_it)):\n",
    "#             time.sleep(0.5)\n",
    "            date = random_date(\"2019-04-01 00:00:00\", \"2019-05-01 00:00:00\", set_date[(duration*i)%500], dform = '%Y-%m-%d %H:%M:%S')\n",
    "            date = int(time.mktime(datetime.datetime.strptime(date, '%Y-%m-%d %H:%M:%S').timetuple()))\n",
    "            temp = query.replace(\"<timestamp>\", str(date))\n",
    "            temp = temp.replace(\"<nb>\", str(duration))\n",
    "#             temp = temp.replace(\"<sid>\", str(set_s[(duration*i)%500]))\n",
    "            temp = temp.replace(\"<rangesUnit>\", str(options[rangesUnit]))\n",
    "        \n",
    "            li = ['st' + str(z) for z in random.sample(range(number_stations), n_st)]\n",
    "            q = '(' + \"'\" + li[0] + \"'\"\n",
    "            for j in li[1:]:\n",
    "                q += ', ' + \"'\" + j + \"'\"\n",
    "            q += \")\"\n",
    "            temp = temp.replace(\"<stid>\", q)\n",
    "            \n",
    "            # sensor\n",
    "         \n",
    "            \n",
    "            \n",
    "            li = ['s' + str(z) + \"@tt\" for z in random.sample(range(number_sensors), n_s)]\n",
    "            li_filtered = ['s' + str(z) + \"@fe\" for z in random.sample(range(number_sensors), n_s)]\n",
    "#             <seq_group_agg_dev> seq_group_agg_dev(s<sid>@tt, t@tt/3600), \n",
    "#             <seq_stretch> #seq_stretch(ts5,t,s<sid>), \n",
    "#             <sfilter> !seq_filter_search(s<sid>@tt > 0.95, tt)\n",
    "            \n",
    "            q = li[0]\n",
    "            q_filtered = li_filtered[0]\n",
    "            q_seq_group_agg_dev = \"seq_group_agg_dev(\" + li[0] + \" , t@tt/3600)\" \n",
    "            q_seq_avg = \"seq_avg(\" + li[0] + \")\" \n",
    "            q_seq_stretch = \"seq_stretch(ts5,t,\" + li[0].split('@')[0] + \")\" \n",
    "#             q_filter = \"!seq_filter_search(\" +li[0] + \"> 0.95, tt)\"\n",
    "            q_filter = \"!seq_filter_search(\" +li[0] + \"> 0.01\"\n",
    "            q_filterAND = \"!seq_filter_search(\" +li[0] + \"> 0.01\"\n",
    "            \n",
    "#             q_avg = 'avg(' + li[0] + ')'\n",
    "            for j in li_filtered[1:]:\n",
    "                q_filtered += ', ' + j\n",
    "        \n",
    "            for j in li[1:]:\n",
    "                q += ', ' + j\n",
    "                q_seq_avg += \", seq_avg(\" + j + \")\" \n",
    "                q_seq_group_agg_dev += \", seq_group_agg_dev(\" + j + \" , t@tt/3600)\" #        li[0] + ' > 0.95'\n",
    "                q_seq_stretch += \", seq_stretch(ts5,t,\" + j.split('@')[0] + \")\" \n",
    "#                 q_filter += \", !seq_filter_search(\" + j + \"> 0.95, tt)\"\n",
    "                q_filter += \" OR \" + j + \"> 0.01\"\n",
    "                q_filterAND += \" AND \" + j + \"> 0.01\"\n",
    "#                 q_filter += ' OR ' + j + ' > 0.95'\n",
    "#                 q_avg += ', ' + 'avg(' + j + ')'\n",
    "            temp = temp.replace(\"<sid>\", q)\n",
    "            temp = temp.replace(\"<seq_avg>\", q_seq_avg)\n",
    "            temp = temp.replace(\"<sid_filtered>\", q_filtered )\n",
    "            temp = temp.replace(\"<seq_group_agg_dev>\", q_seq_group_agg_dev)\n",
    "            temp = temp.replace(\"<sfilter>\", q_filter + \", tt)\")\n",
    "            temp = temp.replace(\"<sfilterAND>\", q_filterAND + \", tt)\")\n",
    "            temp = temp.replace(\"<seq_stretch>\", q_seq_stretch)\n",
    "#             temp = temp.replace(\"<avg_s>\", q_avg)            \n",
    "            print(temp)\n",
    "#             print(temp)\n",
    "            start = time.time()\n",
    "            curs.execute(temp)\n",
    "            # print(curs.rowcount)\n",
    "            curs.fetchall()\n",
    "            diff = (time.time()-start)*1000\n",
    "#                 print(temp, diff)\n",
    "            runtimes.append(diff)\n",
    "            if time.time() - full_time > 60 * 10 and i > 3: \n",
    "                break                \n",
    "#         print(rxuntimes)\n",
    "        results[0].append(stats.mean(runtimes))\n",
    "#             results[1].append(percentile(runtimes,85))\n",
    "        results[1].append(stats.stdev(runtimes))\n",
    "        con.close()\n",
    "        return results\n"
   ]
  },
  {
   "cell_type": "code",
   "execution_count": 34,
   "id": "821d26ca",
   "metadata": {
    "scrolled": true
   },
   "outputs": [
    {
     "name": "stderr",
     "output_type": "stream",
     "text": [
      "100%|███████████████████████████████████████████████████████████████████████████████████████████████████████████████████| 2/2 [00:00<00:00, 476.46it/s]\n"
     ]
    },
    {
     "name": "stdout",
     "output_type": "stream",
     "text": [
      "select id_station, seq_search(t,1556461234 - 1 * 60, 1556461234) as tt, t@tt/3600 as hour, seq_group_agg_dev(s65@tt , t@tt/3600), seq_group_agg_dev(s81@tt , t@tt/3600), seq_group_agg_dev(s8@tt , t@tt/3600), seq_group_agg_dev(s24@tt , t@tt/3600), seq_group_agg_dev(s42@tt , t@tt/3600), seq_group_agg_dev(s77@tt , t@tt/3600), seq_group_agg_dev(s59@tt , t@tt/3600), seq_group_agg_dev(s74@tt , t@tt/3600), seq_group_agg_dev(s23@tt , t@tt/3600), seq_group_agg_dev(s53@tt , t@tt/3600) FROM d1_v where id_station in ('st7')\n",
      "select id_station, seq_search(t,1554258458 - 1 * 60, 1554258458) as tt, t@tt/3600 as hour, seq_group_agg_dev(s87@tt , t@tt/3600), seq_group_agg_dev(s55@tt , t@tt/3600), seq_group_agg_dev(s29@tt , t@tt/3600), seq_group_agg_dev(s22@tt , t@tt/3600), seq_group_agg_dev(s10@tt , t@tt/3600), seq_group_agg_dev(s6@tt , t@tt/3600), seq_group_agg_dev(s16@tt , t@tt/3600), seq_group_agg_dev(s91@tt , t@tt/3600), seq_group_agg_dev(s33@tt , t@tt/3600), seq_group_agg_dev(s54@tt , t@tt/3600) FROM d1_v where id_station in ('st1')\n",
      "[[1.8110275268554688], [0.03776357626576105]]\n"
     ]
    },
    {
     "name": "stderr",
     "output_type": "stream",
     "text": [
      "100%|███████████████████████████████████████████████████████████████████████████████████████████████████████████████████| 2/2 [00:00<00:00, 305.45it/s]\n"
     ]
    },
    {
     "name": "stdout",
     "output_type": "stream",
     "text": [
      "select id_station, seq_search(t,1556461234 - 1 * 3600, 1556461234) as tt, t@tt/3600 as hour, seq_group_agg_dev(s50@tt , t@tt/3600), seq_group_agg_dev(s85@tt , t@tt/3600), seq_group_agg_dev(s5@tt , t@tt/3600), seq_group_agg_dev(s22@tt , t@tt/3600), seq_group_agg_dev(s73@tt , t@tt/3600), seq_group_agg_dev(s82@tt , t@tt/3600), seq_group_agg_dev(s42@tt , t@tt/3600), seq_group_agg_dev(s35@tt , t@tt/3600), seq_group_agg_dev(s77@tt , t@tt/3600), seq_group_agg_dev(s6@tt , t@tt/3600) FROM d1_v where id_station in ('st1')\n",
      "select id_station, seq_search(t,1554258458 - 1 * 3600, 1554258458) as tt, t@tt/3600 as hour, seq_group_agg_dev(s67@tt , t@tt/3600), seq_group_agg_dev(s33@tt , t@tt/3600), seq_group_agg_dev(s54@tt , t@tt/3600), seq_group_agg_dev(s15@tt , t@tt/3600), seq_group_agg_dev(s43@tt , t@tt/3600), seq_group_agg_dev(s72@tt , t@tt/3600), seq_group_agg_dev(s93@tt , t@tt/3600), seq_group_agg_dev(s97@tt , t@tt/3600), seq_group_agg_dev(s30@tt , t@tt/3600), seq_group_agg_dev(s0@tt , t@tt/3600) FROM d1_v where id_station in ('st6')\n",
      "[[2.9631853103637695], [0.03186301747423589]]\n"
     ]
    },
    {
     "name": "stderr",
     "output_type": "stream",
     "text": [
      "100%|████████████████████████████████████████████████████████████████████████████████████████████████████████████████████| 2/2 [00:00<00:00, 30.38it/s]\n"
     ]
    },
    {
     "name": "stdout",
     "output_type": "stream",
     "text": [
      "select id_station, seq_search(t,1556461234 - 1 * 86400, 1556461234) as tt, t@tt/3600 as hour, seq_group_agg_dev(s33@tt , t@tt/3600), seq_group_agg_dev(s56@tt , t@tt/3600), seq_group_agg_dev(s20@tt , t@tt/3600), seq_group_agg_dev(s88@tt , t@tt/3600), seq_group_agg_dev(s84@tt , t@tt/3600), seq_group_agg_dev(s49@tt , t@tt/3600), seq_group_agg_dev(s81@tt , t@tt/3600), seq_group_agg_dev(s82@tt , t@tt/3600), seq_group_agg_dev(s94@tt , t@tt/3600), seq_group_agg_dev(s34@tt , t@tt/3600) FROM d1_v where id_station in ('st7')\n",
      "select id_station, seq_search(t,1554258458 - 1 * 86400, 1554258458) as tt, t@tt/3600 as hour, seq_group_agg_dev(s99@tt , t@tt/3600), seq_group_agg_dev(s5@tt , t@tt/3600), seq_group_agg_dev(s39@tt , t@tt/3600), seq_group_agg_dev(s20@tt , t@tt/3600), seq_group_agg_dev(s34@tt , t@tt/3600), seq_group_agg_dev(s9@tt , t@tt/3600), seq_group_agg_dev(s51@tt , t@tt/3600), seq_group_agg_dev(s32@tt , t@tt/3600), seq_group_agg_dev(s83@tt , t@tt/3600), seq_group_agg_dev(s3@tt , t@tt/3600) FROM d1_v where id_station in ('st9')\n",
      "[[32.61363506317139], [0.8383851105787041]]\n"
     ]
    },
    {
     "name": "stderr",
     "output_type": "stream",
     "text": [
      " 50%|██████████████████████████████████████████████████████████                                                          | 1/2 [00:00<00:00,  5.77it/s]"
     ]
    },
    {
     "name": "stdout",
     "output_type": "stream",
     "text": [
      "select id_station, seq_search(t,1556461234 - 1 * 604800, 1556461234) as tt, t@tt/3600 as hour, seq_group_agg_dev(s82@tt , t@tt/3600), seq_group_agg_dev(s6@tt , t@tt/3600), seq_group_agg_dev(s2@tt , t@tt/3600), seq_group_agg_dev(s74@tt , t@tt/3600), seq_group_agg_dev(s92@tt , t@tt/3600), seq_group_agg_dev(s27@tt , t@tt/3600), seq_group_agg_dev(s77@tt , t@tt/3600), seq_group_agg_dev(s56@tt , t@tt/3600), seq_group_agg_dev(s78@tt , t@tt/3600), seq_group_agg_dev(s65@tt , t@tt/3600) FROM d1_v where id_station in ('st8')\n",
      "select id_station, seq_search(t,1554258458 - 1 * 604800, 1554258458) as tt, t@tt/3600 as hour, seq_group_agg_dev(s90@tt , t@tt/3600), seq_group_agg_dev(s8@tt , t@tt/3600), seq_group_agg_dev(s33@tt , t@tt/3600), seq_group_agg_dev(s98@tt , t@tt/3600), seq_group_agg_dev(s93@tt , t@tt/3600), seq_group_agg_dev(s66@tt , t@tt/3600), seq_group_agg_dev(s68@tt , t@tt/3600), seq_group_agg_dev(s13@tt , t@tt/3600), seq_group_agg_dev(s2@tt , t@tt/3600), seq_group_agg_dev(s35@tt , t@tt/3600) FROM d1_v where id_station in ('st8')\n"
     ]
    },
    {
     "name": "stderr",
     "output_type": "stream",
     "text": [
      "100%|████████████████████████████████████████████████████████████████████████████████████████████████████████████████████| 2/2 [00:00<00:00,  5.78it/s]\n"
     ]
    },
    {
     "name": "stdout",
     "output_type": "stream",
     "text": [
      "[[171.9144582748413], [1.5090257640840499]]\n"
     ]
    },
    {
     "name": "stderr",
     "output_type": "stream",
     "text": [
      "\r",
      "  0%|                                                                                                                            | 0/2 [00:00<?, ?it/s]"
     ]
    },
    {
     "name": "stdout",
     "output_type": "stream",
     "text": [
      "select id_station, seq_search(t,1556461234 - 1 * 2592000, 1556461234) as tt, t@tt/3600 as hour, seq_group_agg_dev(s70@tt , t@tt/3600), seq_group_agg_dev(s66@tt , t@tt/3600), seq_group_agg_dev(s59@tt , t@tt/3600), seq_group_agg_dev(s89@tt , t@tt/3600), seq_group_agg_dev(s18@tt , t@tt/3600), seq_group_agg_dev(s71@tt , t@tt/3600), seq_group_agg_dev(s6@tt , t@tt/3600), seq_group_agg_dev(s84@tt , t@tt/3600), seq_group_agg_dev(s81@tt , t@tt/3600), seq_group_agg_dev(s31@tt , t@tt/3600) FROM d1_v where id_station in ('st7')\n"
     ]
    },
    {
     "name": "stderr",
     "output_type": "stream",
     "text": [
      "\r",
      " 50%|██████████████████████████████████████████████████████████                                                          | 1/2 [00:00<00:00,  1.35it/s]"
     ]
    },
    {
     "name": "stdout",
     "output_type": "stream",
     "text": [
      "select id_station, seq_search(t,1554258458 - 1 * 2592000, 1554258458) as tt, t@tt/3600 as hour, seq_group_agg_dev(s17@tt , t@tt/3600), seq_group_agg_dev(s82@tt , t@tt/3600), seq_group_agg_dev(s24@tt , t@tt/3600), seq_group_agg_dev(s48@tt , t@tt/3600), seq_group_agg_dev(s59@tt , t@tt/3600), seq_group_agg_dev(s64@tt , t@tt/3600), seq_group_agg_dev(s5@tt , t@tt/3600), seq_group_agg_dev(s67@tt , t@tt/3600), seq_group_agg_dev(s97@tt , t@tt/3600), seq_group_agg_dev(s56@tt , t@tt/3600) FROM d1_v where id_station in ('st5')\n"
     ]
    },
    {
     "name": "stderr",
     "output_type": "stream",
     "text": [
      "100%|████████████████████████████████████████████████████████████████████████████████████████████████████████████████████| 2/2 [00:01<00:00,  1.40it/s]"
     ]
    },
    {
     "name": "stdout",
     "output_type": "stream",
     "text": [
      "[[713.6216163635254], [34.729677522552855]]\n"
     ]
    },
    {
     "name": "stderr",
     "output_type": "stream",
     "text": [
      "\n"
     ]
    }
   ],
   "source": [
    "# for st in range(2, 11, 2):\n",
    "# for s in range(10, 101, 10):\n",
    "for r in [\"minute\", \"hour\", \"day\", \"week\", \"month\"]:\n",
    "    print(EXtremeDB.query(e_q4, 1, r, 2, n_st = 1, n_s = 10))"
   ]
  },
  {
   "cell_type": "markdown",
   "id": "ddca7ff1",
   "metadata": {},
   "source": [
    "# Run all "
   ]
  },
  {
   "cell_type": "code",
   "execution_count": null,
   "id": "20f4b24a",
   "metadata": {},
   "outputs": [],
   "source": [
    "print(to_pm(ClickHouse.query(c_q1, 7, \"day\", 5, n_st = 1, n_s = 10)))\n"
   ]
  },
  {
   "cell_type": "code",
   "execution_count": null,
   "id": "7b4509ad",
   "metadata": {},
   "outputs": [],
   "source": [
    "print(to_pm(EXtremeDB.query(e_q1, 7, \"day\", 5, n_st = 1, n_s = 10)))"
   ]
  },
  {
   "cell_type": "code",
   "execution_count": null,
   "id": "66d065d1",
   "metadata": {},
   "outputs": [],
   "source": [
    "results = [{} for i in range(5)]\n",
    "\n",
    "for i in range(5):\n",
    "    for sys in ['clickhouse', 'extremedb']:\n",
    "        results[i][sys] = []"
   ]
  },
  {
   "cell_type": "code",
   "execution_count": null,
   "id": "1ac5386a",
   "metadata": {},
   "outputs": [],
   "source": [
    "[1] + [i for i in range(10, 101, 10)]\n"
   ]
  },
  {
   "cell_type": "code",
   "execution_count": 28,
   "id": "2c4c0df5",
   "metadata": {},
   "outputs": [],
   "source": [
    "def queryClickHouse():\n",
    "    for i in range(5):\n",
    "        results[i][\"clickhouse\"] = []\n",
    "    for n_st in [1] + [i for i in range(2, 11, 2)]:\n",
    "        results[0]['clickhouse'].append(to_pm(ClickHouse.query(c_q1, 1, def_r, n_it, n_st = n_st, n_s = def_s)))\n",
    "        results[1]['clickhouse'].append(to_pm(ClickHouse.query(c_q2, 1, def_r, n_it, n_st = n_st, n_s = def_s)))\n",
    "#         results[2]['clickhouse'].append(to_pm(ClickHouse.query(c_q3, 1, def_r, n_it, n_st = n_st, n_s = def_s)))\n",
    "#         results[3]['clickhouse'].append(to_pm(ClickHouse.query(c_q4, 1, def_r, n_it, n_st = n_st, n_s = def_s)))\n",
    "#         results[4]['clickhouse'].append(to_pm(ClickHouse.query(c_q5, 1, def_r, n_it, n_st = n_st, n_s = def_s)))\n",
    "    for n_s in [1] + [i for i in range(10, 101, 10)]:\n",
    "        results[0]['clickhouse'].append(to_pm(ClickHouse.query(c_q1, 1, def_r, n_it, n_st = def_st, n_s = n_s)))\n",
    "        results[1]['clickhouse'].append(to_pm(ClickHouse.query(c_q2, 1, def_r, n_it, n_st = def_st, n_s = n_s)))\n",
    "#         results[2]['clickhouse'].append(to_pm(ClickHouse.query(c_q3, 1, def_r, n_it, n_st = def_st, n_s = n_s)))\n",
    "#         results[3]['clickhouse'].append(to_pm(ClickHouse.query(c_q4, 1, def_r, n_it, n_st = def_st, n_s = n_s)))\n",
    "#         results[4]['clickhouse'].append(to_pm(ClickHouse.query(c_q5, 1, def_r, n_it, n_st = def_st, n_s = n_s)))\n",
    "    for r in ['minute', 'hour', 'day', 'week', 'month']:\n",
    "        results[0]['clickhouse'].append(to_pm(ClickHouse.query(c_q1, 1, r, n_it, n_st = def_st, n_s = def_s)))\n",
    "        results[1]['clickhouse'].append(to_pm(ClickHouse.query(c_q2, 1, r, n_it, n_st = def_st, n_s = def_s)))\n",
    "#         results[2]['clickhouse'].append(to_pm(ClickHouse.query(c_q3, 1, r, n_it, n_st = def_st, n_s = def_s)))\n",
    "#         results[3]['clickhouse'].append(to_pm(ClickHouse.query(c_q4, 1, r, n_it, n_st = def_st, n_s = def_s)))\n",
    "#         results[4]['clickhouse'].append(to_pm(ClickHouse.query(c_q5, 1, r, n_it, n_st = def_st, n_s = def_s)))\n",
    "\n",
    "def queryExtremeDB():    \n",
    "    for i in range(5):\n",
    "        results = []    \n",
    "    for n_st in [1] + [i for i in range(2, 11, 2)]:\n",
    "#         results[0]['extremedb'].append(to_pm(EXtremeDB.query(e_q1, 1, def_r, n_it, n_st = n_st, n_s = def_s)))\n",
    "        results.append(to_pm(EXtremeDB.query(e_q2, 1, def_r, n_it, n_st = n_st, n_s = def_s)))\n",
    "#         results[2]['extremedb'].append(to_pm(EXtremeDB.query(e_q3, 1, def_r, n_it, n_st = n_st, n_s = def_s)))\n",
    "#         results[3]['extremedb'].append(to_pm(EXtremeDB.query(e_q4, 1, def_r, n_it, n_st = n_st, n_s = def_s)))\n",
    "#         results[4]['extremedb'].append(to_pm(EXtremeDB.query(e_q5, 1, def_r, n_it, n_st = n_st, n_s = def_s)))\n",
    "    results.append(-1)\n",
    "    for n_s in [1] + [i for i in range(10, 101, 10)]:\n",
    "#         results[0]['extremedb'].append(to_pm(EXtremeDB.query(e_q1, 1, def_r, n_it, n_st = def_st, n_s = n_s)))\n",
    "        results.append(to_pm(EXtremeDB.query(e_q2, 1, def_r, n_it, n_st = def_st, n_s = n_s)))\n",
    "#         results[2]['extremedb'].append(to_pm(EXtremeDB.query(e_q3, 1, def_r, n_it, n_st = def_st, n_s = n_s)))\n",
    "#         results[3]['extremedb'].append(to_pm(EXtremeDB.query(e_q4, 1, def_r, n_it, n_st = def_st, n_s = n_s)))\n",
    "#         results[4]['extremedb'].append(to_pm(EXtremeDB.query(e_q5, 1, def_r, n_it, n_st = def_st, n_s = n_s)))\n",
    "    results.append(-1)\n",
    "    for r in ['minute', 'hour', 'day', 'week', 'month']:\n",
    "#         results[0]['extremedb'].append(to_pm(EXtremeDB.query(e_q1, 1, r, n_it, n_st = def_st, n_s = def_s)))\n",
    "        results.append(to_pm(EXtremeDB.query(e_q2, 1, r, n_it, n_st = def_st, n_s = def_s)))\n",
    "#         results[2]['extremedb'].append(to_pm(EXtremeDB.query(e_q3, 1, r, n_it, n_st = def_st, n_s = def_s)))\n",
    "#         results[3]['extremedb'].append(to_pm(EXtremeDB.query(e_q4, 1, r, n_it, n_st = def_st, n_s = def_s)))\n",
    "#         results[4]['extremedb'].append(to_pm(EXtremeDB.query(e_q5, 1, r, n_it, n_st = def_st, n_s = def_s)))\n",
    "    return results\n",
    "\n",
    "\n",
    "def queryAll():\n",
    "    queryClickHouse()\n",
    "    queryExtremeDB()"
   ]
  },
  {
   "cell_type": "code",
   "execution_count": null,
   "id": "8c8ad24f",
   "metadata": {
    "scrolled": false
   },
   "outputs": [],
   "source": [
    "# TimescaleDB.query(t_q5, 7, \"day\", 100, n_st = 1, n_s = 10)"
   ]
  },
  {
   "cell_type": "code",
   "execution_count": null,
   "id": "133a4e06",
   "metadata": {},
   "outputs": [],
   "source": [
    "# Influx_Wide.query(iw_q5, 1, 'month', 5, n_st = def_st, n_s = def_s)"
   ]
  },
  {
   "cell_type": "code",
   "execution_count": null,
   "id": "8dc7d12b",
   "metadata": {},
   "outputs": [],
   "source": []
  },
  {
   "cell_type": "code",
   "execution_count": null,
   "id": "f8155b23",
   "metadata": {
    "scrolled": true
   },
   "outputs": [],
   "source": [
    "start_program = time.time()\n",
    "# results = queryAll(duration_range)"
   ]
  },
  {
   "cell_type": "code",
   "execution_count": null,
   "id": "ee6d9bab",
   "metadata": {
    "scrolled": true
   },
   "outputs": [],
   "source": [
    "queryClickHouse()\n"
   ]
  },
  {
   "cell_type": "code",
   "execution_count": 31,
   "id": "57fee07f",
   "metadata": {
    "scrolled": false
   },
   "outputs": [
    {
     "name": "stderr",
     "output_type": "stream",
     "text": [
      "100%|██████████████████████████████████████████████████████████████████████████████████████████████████████████████████| 30/30 [00:02<00:00, 10.15it/s]\n",
      "100%|██████████████████████████████████████████████████████████████████████████████████████████████████████████████████| 30/30 [00:05<00:00,  5.37it/s]\n",
      "100%|██████████████████████████████████████████████████████████████████████████████████████████████████████████████████| 30/30 [00:10<00:00,  2.74it/s]\n",
      "100%|██████████████████████████████████████████████████████████████████████████████████████████████████████████████████| 30/30 [00:16<00:00,  1.85it/s]\n",
      "100%|██████████████████████████████████████████████████████████████████████████████████████████████████████████████████| 30/30 [00:21<00:00,  1.40it/s]\n",
      "100%|██████████████████████████████████████████████████████████████████████████████████████████████████████████████████| 30/30 [00:26<00:00,  1.13it/s]\n",
      "100%|██████████████████████████████████████████████████████████████████████████████████████████████████████████████████| 30/30 [00:00<00:00, 51.56it/s]\n",
      "100%|██████████████████████████████████████████████████████████████████████████████████████████████████████████████████| 30/30 [00:02<00:00, 10.20it/s]\n",
      "100%|██████████████████████████████████████████████████████████████████████████████████████████████████████████████████| 30/30 [00:06<00:00,  5.00it/s]\n",
      "100%|██████████████████████████████████████████████████████████████████████████████████████████████████████████████████| 30/30 [00:09<00:00,  3.02it/s]\n",
      "100%|██████████████████████████████████████████████████████████████████████████████████████████████████████████████████| 30/30 [00:14<00:00,  2.03it/s]\n",
      "100%|██████████████████████████████████████████████████████████████████████████████████████████████████████████████████| 30/30 [00:20<00:00,  1.45it/s]\n",
      "100%|██████████████████████████████████████████████████████████████████████████████████████████████████████████████████| 30/30 [00:30<00:00,  1.00s/it]\n",
      "100%|██████████████████████████████████████████████████████████████████████████████████████████████████████████████████| 30/30 [00:32<00:00,  1.10s/it]\n",
      "100%|██████████████████████████████████████████████████████████████████████████████████████████████████████████████████| 30/30 [00:44<00:00,  1.47s/it]\n",
      "100%|██████████████████████████████████████████████████████████████████████████████████████████████████████████████████| 30/30 [00:49<00:00,  1.64s/it]\n",
      "100%|██████████████████████████████████████████████████████████████████████████████████████████████████████████████████| 30/30 [00:54<00:00,  1.83s/it]\n",
      "100%|█████████████████████████████████████████████████████████████████████████████████████████████████████████████████| 30/30 [00:00<00:00, 410.33it/s]\n",
      "100%|█████████████████████████████████████████████████████████████████████████████████████████████████████████████████| 30/30 [00:00<00:00, 150.41it/s]\n",
      "100%|██████████████████████████████████████████████████████████████████████████████████████████████████████████████████| 30/30 [00:02<00:00, 10.35it/s]\n",
      "100%|██████████████████████████████████████████████████████████████████████████████████████████████████████████████████| 30/30 [00:18<00:00,  1.60it/s]\n",
      "100%|██████████████████████████████████████████████████████████████████████████████████████████████████████████████████| 30/30 [01:22<00:00,  2.74s/it]\n"
     ]
    },
    {
     "data": {
      "text/plain": [
       "['97.93$\\\\pm$3.14',\n",
       " '185.32$\\\\pm$5.16',\n",
       " '364.07$\\\\pm$14.16',\n",
       " '540.41$\\\\pm$17.75',\n",
       " '711.78$\\\\pm$26.6',\n",
       " '883.39$\\\\pm$40.34',\n",
       " -1,\n",
       " '19.07$\\\\pm$1.19',\n",
       " '97.43$\\\\pm$3.28',\n",
       " '199.15$\\\\pm$8.36',\n",
       " '329.54$\\\\pm$24.6',\n",
       " '491.12$\\\\pm$42.86',\n",
       " '687.95$\\\\pm$71.53',\n",
       " '1000.8$\\\\pm$109.81',\n",
       " '1098.19$\\\\pm$148.24',\n",
       " '1467.53$\\\\pm$135.51',\n",
       " '1635.75$\\\\pm$199.08',\n",
       " '1824.95$\\\\pm$220.07',\n",
       " -1,\n",
       " '2.13$\\\\pm$0.56',\n",
       " '6.3$\\\\pm$1.03',\n",
       " '96.05$\\\\pm$2.97',\n",
       " '623.05$\\\\pm$17.64',\n",
       " '2737.61$\\\\pm$121.77']"
      ]
     },
     "execution_count": 31,
     "metadata": {},
     "output_type": "execute_result"
    }
   ],
   "source": [
    "queryExtremeDB()\n"
   ]
  },
  {
   "cell_type": "code",
   "execution_count": null,
   "id": "0fa8ee35",
   "metadata": {},
   "outputs": [],
   "source": [
    "# results = queryAllClickHouse(duration_range)\n",
    "# results = queryAllClickHouse(duration_range)\n",
    "stop_program = time.time() "
   ]
  },
  {
   "cell_type": "code",
   "execution_count": null,
   "id": "2235f8c1",
   "metadata": {},
   "outputs": [],
   "source": [
    "print('Benchmark Runtime: %s minutes' % str((stop_program - start_program)/60))"
   ]
  },
  {
   "cell_type": "code",
   "execution_count": null,
   "id": "f86f7250",
   "metadata": {
    "scrolled": true
   },
   "outputs": [],
   "source": [
    "print(results[4]['timescaledb'])"
   ]
  },
  {
   "cell_type": "code",
   "execution_count": null,
   "id": "479ff42d",
   "metadata": {},
   "outputs": [],
   "source": []
  },
  {
   "cell_type": "markdown",
   "id": "cf3994fc",
   "metadata": {},
   "source": [
    "results[0] = { k: results[0][k] for k in [\"clickhouse\",\"druid_wide\",\"extremedb\",\"influx\", \"influx_wide\", \"monetdb\",\"questdb\",\"timescaledb\"] }\n",
    "results[1] = { k: results[1][k] for k in [\"clickhouse\",\"druid_wide\",\"extremedb\",\"influx\", \"influx_wide\", \"monetdb\",\"questdb\",\"timescaledb\"] }\n",
    "results[2] = { k: results[2][k] for k in [\"clickhouse\",\"druid_wide\",\"extremedb\",\"influx\", \"influx_wide\", \"monetdb\",\"questdb\",\"timescaledb\"] }\n",
    "results[3] = { k: results[3][k] for k in [\"clickhouse\",\"druid_wide\",\"extremedb\",\"influx\", \"influx_wide\", \"monetdb\",\"questdb\",\"timescaledb\"] }\n",
    "results[4] = { k: results[4][k] for k in ['extremedb', \"influx\", \"influx_wide\", 'questdb', 'timescaledb'] }\n"
   ]
  },
  {
   "cell_type": "code",
   "execution_count": null,
   "id": "f879b9e0",
   "metadata": {
    "scrolled": false
   },
   "outputs": [],
   "source": [
    "pd.set_option('display.max_columns', None)\n",
    "pd.set_option('display.expand_frame_repr', False)\n",
    "pd.set_option('max_colwidth', -1)\n",
    "import matplotlib\n",
    "\n",
    "# colors = {'clickhouse': \"#584A9D\", 'druid': \"#CF3650\", 'extremedb': \"#9966CC\", 'influx': \"green\", 'monetdb': \"#915C83\", 'questdb': \"#3D2B1F\", 'timescaledb': \"orange\"}\n",
    "for i in tqdm(range(len(results))): \n",
    "    print('query ', i+1)\n",
    "    font = {'family' : 'normal',\n",
    "        'weight' : 'bold',\n",
    "        'size'   : 22}\n",
    "\n",
    "    matplotlib.rc('font', **font)    \n",
    "    \n",
    "    plt.figure(figsize=(30,6))\n",
    "    plt.subplot(1, 3, 1)\n",
    "    plt.suptitle('Query ' + str(i+1) +  '; default: Station = 1, Sensor = 10, Range = hour;')\n",
    "\n",
    "\n",
    "    df_all = pd.DataFrame(results[i])\n",
    "    df_all.index = [1] + [i for i in range(2, 11, 2)] + [1] + [i for i in range(10, 101, 10)] + [\"minute\", \"hour\", \"day\", \"week\", \"month\"]\n",
    "#     df_all.style.highlight_max(color = 'lightgreen', axis = 1)\n",
    "    print(df_all)\n",
    "#     print('problematic: ')\n",
    "#     for col in df_all: \n",
    "#         temp = df_all[df_all[col].str.split('$').str[2].astype(float) / df_all[col].str.split('$').str[0].astype(float) > 0.3]\n",
    "#         if not temp.empty: print(temp, col)\n",
    "    \n",
    "    df = df_all[:6]\n",
    "#     df.index = [1] + [i for i in range(2, 11, 2)]\n",
    "    df_runtime = df.copy()\n",
    "    df_variance = df.copy()\n",
    "    for col in df: \n",
    "        df_runtime[col] = df[col].str.split('$').str[0].astype(float)\n",
    "        df_variance[col] = df[col].str.split('$').str[2].astype(float)\n",
    "#         df_runtime[col].plot(logy = True, marker='o', logx = False, xticks = df_runtime.index, title = \"Query \" + str(i+1), xlabel = \"# Stations\", ylabel = \"Runtime (ms)\")\n",
    "        plt.errorbar(df_runtime[col].index, df_runtime[col], linewidth=4, elinewidth=2, markeredgewidth=2, yerr=df_variance[col], marker='o') #, color = colors[col])\n",
    "    plt.yscale('log')\n",
    "#     plt.title(\"Query \" + str(i+1))\n",
    "    plt.ylabel(\"Runtime (ms)\")\n",
    "    plt.xlabel(\"# Stations\")\n",
    "#     plt.legend(['clickhouse', 'druid', 'extremedb', 'influx', 'monetdb', 'questdb', 'timescaledb'], loc='upper left', bbox_to_anchor=(1.05, 1))\n",
    "\n",
    "    print()\n",
    "\n",
    "    plt.subplot(1, 3, 2)\n",
    "    df = df_all[6:17]\n",
    "#     df.index = [1] + [i for i in range(10, 101, 10)]\n",
    "    df_runtime = df.copy()\n",
    "    df_variance = df.copy()\n",
    "    for col in df: \n",
    "        df_runtime[col] = df[col].str.split('$').str[0].astype(float)\n",
    "        df_variance[col] = df[col].str.split('$').str[2].astype(float)\n",
    "#         df_runtime[col].plot(logy = True, marker='o', logx = False, xticks = df_runtime.index, title = \"Query \" + str(i+1), xlabel = \"# Stations\", ylabel = \"Runtime (ms)\")\n",
    "        plt.errorbar(df_runtime[col].index, df_runtime[col], linewidth=4, elinewidth=2, markeredgewidth=2, yerr=df_variance[col], marker='o') #, color = colors[col])\n",
    "    plt.yscale('log')\n",
    "#     plt.xscale('log')\n",
    "#     plt.title(\"Query \" + str(i+1))\n",
    "    plt.ylabel(\"Runtime (ms)\")\n",
    "    plt.xlabel(\"# Sensors\")\n",
    "#     plt.legend(['clickhouse', 'druid', 'extremedb', 'influx', 'monetdb', 'questdb', 'timescaledb'], loc='upper left', bbox_to_anchor=(1.05, 1))\n",
    "\n",
    "    print()\n",
    "    \n",
    "    \n",
    "    plt.subplot(1, 3, 3)\n",
    "    df = df_all[17:22]\n",
    "#     df.index = [\"minute\", \"hour\", \"day\", \"week\", \"month\"]\n",
    "    df_runtime = df.copy()\n",
    "    df_variance = df.copy()\n",
    "    for col in df: \n",
    "        df_runtime[col] = df[col].str.split('$').str[0].astype(float)\n",
    "        df_variance[col] = df[col].str.split('$').str[2].astype(float)\n",
    "#         df_runtime[col].plot(logy = True, marker='o', logx = False, xticks = df_runtime.index, title = \"Query \" + str(i+1), xlabel = \"# Stations\", ylabel = \"Runtime (ms)\")\n",
    "        plt.errorbar(df_runtime[col].index, df_runtime[col], linewidth=4, elinewidth=2, markeredgewidth=2, yerr=df_variance[col], marker='o') #, color = colors[col])\n",
    "    plt.xticks(range(0,len(df_runtime.index)), df_runtime.index)\n",
    "    plt.yscale('log')\n",
    "#     plt.title(\"Query \" + str(i+1))\n",
    "    plt.ylabel(\"Runtime (ms)\")\n",
    "    plt.xlabel(\"Range\")\n",
    "    plt.legend(['clickhouse', 'druid', 'extremedb', 'influx', 'monetdb', 'questdb', 'timescaledb'], loc='upper left', bbox_to_anchor=(0.9, 1))\n",
    "    plt.savefig('query' + str(i+1) +'.pdf', dpi=400)\n",
    "    plt.show()\n",
    "\n",
    "    print()\n",
    "#     print('query', i+1)\n",
    "#     df = pd.DataFrame(results[i])[3:6]\n",
    "#     df.index = [1,10,100]\n",
    "#     df_runtime = df.copy()\n",
    "#     df_variance = df.copy()\n",
    "#     for col in df: \n",
    "#         df_runtime[col] = df[col].str.split('$').str[0].astype(float)\n",
    "#         df_variance[col] = df[col].str.split('$').str[2].astype(float)\n",
    "#     print(df_runtime)\n",
    "#     df_runtime.plot(logy = True, marker='o', logx = True, xticks = df_runtime.index, title = \"Query \" + str(i+1), xlabel = \"# Sensors\", ylabel = \"Runtime (ms)\")\n",
    "#     print(df_variance)\n",
    "#     print()\n",
    "\n",
    "#     print('query', i+1)\n",
    "#     df = pd.DataFrame(results[i])[6:]\n",
    "#     df.index = [\"minute\", \"hour\", \"day\", \"week\", \"month\"]\n",
    "#     df_runtime = df.copy()\n",
    "#     df_variance = df.copy()\n",
    "#     for col in df: \n",
    "#         df_runtime[col] = df[col].str.split('$').str[0].astype(float)\n",
    "#         df_variance[col] = df[col].str.split('$').str[2].astype(float)\n",
    "#     print(df_runtime)\n",
    "#     df_runtime.plot(logy = True, marker='o', title = \"Query \" + str(i+1), xlabel = \"Range\", ylabel = \"Runtime (ms)\")\n",
    "#     plt.xticks(range(0,len(df_runtime.index)), df_runtime.index)\n",
    "#     print(df_variance)\n",
    "#     print()\n",
    "\n",
    "                \n",
    "    \n",
    "    \n"
   ]
  },
  {
   "cell_type": "code",
   "execution_count": null,
   "id": "c11f5162",
   "metadata": {},
   "outputs": [],
   "source": [
    "from functools import partial\n",
    "\n",
    "def to_latex(df):\n",
    "    cols = df.columns\n",
    "    rows = []\n",
    "    for index, row in df.iterrows():\n",
    "        l = row.tolist()\n",
    "#         for i in range(len(l)): \n",
    "#             if l[i]: \n",
    "#                 l[i] = float(l[i].split('$')[0])\n",
    "        l_sorted = sorted(l, key=lambda x: float('inf') if x is None else float(x.split('$')[0]))\n",
    "        l[l.index(l_sorted[0])] = '\\\\textbf{'+ str(l[l.index(l_sorted[0])]) + '$^\\\\star$}'\n",
    "        l[l.index(l_sorted[1])] = '\\\\textbf{'+ str(l[l.index(l_sorted[1])]) + '$^\\\\bullet$}'\n",
    "#         print(l)\n",
    "        rows.append(l)\n",
    "#     print(rows)\n",
    "    df = pd.DataFrame(np.array(rows),\n",
    "                   columns=cols, index= df.index)  \n",
    "    return df\n",
    "    return df.to_latex(index=False,\n",
    "            header=cols,\n",
    "            escape=False)                   \n"
   ]
  },
  {
   "cell_type": "code",
   "execution_count": null,
   "id": "055a6d2d",
   "metadata": {
    "scrolled": false
   },
   "outputs": [],
   "source": [
    "for i in tqdm(range(len(results))): \n",
    "    print('query ', i+1)\n",
    "    df_all = pd.DataFrame(results[i])\n",
    "    df_all.index = [1] + [i for i in range(2, 11, 2)] + [1] + [i for i in range(10, 101, 10)] + [\"minute\", \"hour\", \"day\", \"week\", \"month\"]\n",
    "    print(to_latex(df_all))\n",
    "    print()\n",
    "    \n",
    "    \n",
    "    "
   ]
  },
  {
   "cell_type": "code",
   "execution_count": null,
   "id": "2404af61",
   "metadata": {
    "scrolled": false
   },
   "outputs": [],
   "source": [
    "pd.set_option('display.max_columns', None)\n",
    "pd.set_option('display.expand_frame_repr', False)\n",
    "pd.set_option('max_colwidth', -1)\n",
    "import matplotlib\n",
    "\n",
    "systems_to_plot = ['clickhouse', 'timescaledb']\n",
    "\n",
    "# colors = {'clickhouse': \"#584A9D\", 'druid': \"#CF3650\", 'extremedb': \"#9966CC\", 'influx': \"green\", 'monetdb': \"#915C83\", 'questdb': \"#3D2B1F\", 'timescaledb': \"orange\"}\n",
    "for i in tqdm(range(len(results))): \n",
    "    print('query ', i+1)\n",
    "    font = {'family' : 'normal',\n",
    "        'weight' : 'bold',\n",
    "        'size'   : 22}\n",
    "\n",
    "    matplotlib.rc('font', **font)    \n",
    "    \n",
    "    plt.figure(figsize=(30,6))\n",
    "    plt.subplot(1, 3, 1)\n",
    "    plt.suptitle('Query ' + str(i+1) +  '; default: Station = 1, Sensor = 10, Range = hour;')\n",
    "\n",
    "\n",
    "    df_all = pd.DataFrame(results[i])\n",
    "    df_all.index = [1] + [i for i in range(2, 11, 2)] + [1] + [i for i in range(10, 101, 10)] + [\"minute\", \"hour\", \"day\", \"week\", \"month\"]\n",
    "#     df_all.style.highlight_max(color = 'lightgreen', axis = 1)\n",
    "#     print(df_all)\n",
    "#     print('problematic: ')\n",
    "#     for col in df_all: \n",
    "#         temp = df_all[df_all[col].str.split('$').str[2].astype(float) / df_all[col].str.split('$').str[0].astype(float) > 0.3]\n",
    "#         if not temp.empty: print(temp, col)\n",
    "    \n",
    "    df = df_all[:6]\n",
    "#     df.index = [1] + [i for i in range(2, 11, 2)]\n",
    "    df_runtime = df.copy()\n",
    "    df_variance = df.copy()\n",
    "    for col in systems_to_plot: \n",
    "        df_runtime[col] = df[col].str.split('$').str[0].astype(float)\n",
    "        df_variance[col] = df[col].str.split('$').str[2].astype(float)\n",
    "#         df_runtime[col].plot(logy = True, marker='o', logx = False, xticks = df_runtime.index, title = \"Query \" + str(i+1), xlabel = \"# Stations\", ylabel = \"Runtime (ms)\")\n",
    "        plt.errorbar(df_runtime[col].index, df_runtime[col], linewidth=4, elinewidth=2, markeredgewidth=2, yerr=df_variance[col], marker='o') #, color = colors[col])\n",
    "#     plt.yscale('log')\n",
    "#     plt.title(\"Query \" + str(i+1))\n",
    "    plt.ylabel(\"Runtime (ms)\")\n",
    "    plt.xlabel(\"# Stations\")\n",
    "#     plt.legend(['clickhouse', 'druid', 'extremedb', 'influx', 'monetdb', 'questdb', 'timescaledb'], loc='upper left', bbox_to_anchor=(1.05, 1))\n",
    "\n",
    "    print()\n",
    "\n",
    "    plt.subplot(1, 3, 2)\n",
    "    df = df_all[6:17]\n",
    "#     df.index = [1] + [i for i in range(10, 101, 10)]\n",
    "    df_runtime = df.copy()\n",
    "    df_variance = df.copy()\n",
    "    for col in systems_to_plot: \n",
    "        df_runtime[col] = df[col].str.split('$').str[0].astype(float)\n",
    "        df_variance[col] = df[col].str.split('$').str[2].astype(float)\n",
    "#         df_runtime[col].plot(logy = True, marker='o', logx = False, xticks = df_runtime.index, title = \"Query \" + str(i+1), xlabel = \"# Stations\", ylabel = \"Runtime (ms)\")\n",
    "        plt.errorbar(df_runtime[col].index, df_runtime[col], linewidth=4, elinewidth=2, markeredgewidth=2, yerr=df_variance[col], marker='o') #, color = colors[col])\n",
    "#     plt.yscale('log')\n",
    "#     plt.xscale('log')\n",
    "#     plt.title(\"Query \" + str(i+1))\n",
    "    plt.ylabel(\"Runtime (ms)\")\n",
    "    plt.xlabel(\"# Sensors\")\n",
    "#     plt.legend(['clickhouse', 'druid', 'extremedb', 'influx', 'monetdb', 'questdb', 'timescaledb'], loc='upper left', bbox_to_anchor=(1.05, 1))\n",
    "\n",
    "    print()\n",
    "    \n",
    "    \n",
    "    plt.subplot(1, 3, 3)\n",
    "    df = df_all[17:22]\n",
    "#     df.index = [\"minute\", \"hour\", \"day\", \"week\", \"month\"]\n",
    "    df_runtime = df.copy()\n",
    "    df_variance = df.copy()\n",
    "    for col in systems_to_plot: \n",
    "        df_runtime[col] = df[col].str.split('$').str[0].astype(float)\n",
    "        df_variance[col] = df[col].str.split('$').str[2].astype(float)\n",
    "#         df_runtime[col].plot(logy = True, marker='o', logx = False, xticks = df_runtime.index, title = \"Query \" + str(i+1), xlabel = \"# Stations\", ylabel = \"Runtime (ms)\")\n",
    "        plt.errorbar(df_runtime[col].index, df_runtime[col], linewidth=4, elinewidth=2, markeredgewidth=2, yerr=df_variance[col], marker='o') #, color = colors[col])\n",
    "    plt.xticks(range(0,len(df_runtime.index)), df_runtime.index)\n",
    "#     plt.yscale('log')\n",
    "#     plt.title(\"Query \" + str(i+1))\n",
    "    plt.ylabel(\"Runtime (ms)\")\n",
    "    plt.xlabel(\"Range\")\n",
    "    plt.legend(systems_to_plot, loc='upper left', bbox_to_anchor=(0.9, 1))\n",
    "    plt.savefig('query' + str(i+1) +'.pdf', dpi=400)\n",
    "    plt.show()\n",
    "\n",
    "    print()\n",
    "#     print('query', i+1)\n",
    "#     df = pd.DataFrame(results[i])[3:6]\n",
    "#     df.index = [1,10,100]\n",
    "#     df_runtime = df.copy()\n",
    "#     df_variance = df.copy()\n",
    "#     for col in df: \n",
    "#         df_runtime[col] = df[col].str.split('$').str[0].astype(float)\n",
    "#         df_variance[col] = df[col].str.split('$').str[2].astype(float)\n",
    "#     print(df_runtime)\n",
    "#     df_runtime.plot(logy = True, marker='o', logx = True, xticks = df_runtime.index, title = \"Query \" + str(i+1), xlabel = \"# Sensors\", ylabel = \"Runtime (ms)\")\n",
    "#     print(df_variance)\n",
    "#     print()\n",
    "\n",
    "#     print('query', i+1)\n",
    "#     df = pd.DataFrame(results[i])[6:]\n",
    "#     df.index = [\"minute\", \"hour\", \"day\", \"week\", \"month\"]\n",
    "#     df_runtime = df.copy()\n",
    "#     df_variance = df.copy()\n",
    "#     for col in df: \n",
    "#         df_runtime[col] = df[col].str.split('$').str[0].astype(float)\n",
    "#         df_variance[col] = df[col].str.split('$').str[2].astype(float)\n",
    "#     print(df_runtime)\n",
    "#     df_runtime.plot(logy = True, marker='o', title = \"Query \" + str(i+1), xlabel = \"Range\", ylabel = \"Runtime (ms)\")\n",
    "#     plt.xticks(range(0,len(df_runtime.index)), df_runtime.index)\n",
    "#     print(df_variance)\n",
    "#     print()\n",
    "\n",
    "                \n",
    "    \n",
    "    \n"
   ]
  },
  {
   "cell_type": "code",
   "execution_count": null,
   "id": "27d37001",
   "metadata": {},
   "outputs": [],
   "source": []
  },
  {
   "cell_type": "code",
   "execution_count": null,
   "id": "e80af254",
   "metadata": {},
   "outputs": [],
   "source": []
  },
  {
   "cell_type": "code",
   "execution_count": null,
   "id": "e68f6492",
   "metadata": {},
   "outputs": [],
   "source": []
  },
  {
   "cell_type": "code",
   "execution_count": null,
   "id": "c6dede61",
   "metadata": {},
   "outputs": [],
   "source": []
  },
  {
   "cell_type": "code",
   "execution_count": null,
   "id": "4a585a30",
   "metadata": {},
   "outputs": [],
   "source": [
    "results[4]['influx']"
   ]
  },
  {
   "cell_type": "markdown",
   "id": "1217ad6e",
   "metadata": {},
   "source": [
    "results[4] = { k: results[4][k] for k in ['extremedb', 'influx', \"influx_wide\", 'questdb', 'timescaledb'] }\n"
   ]
  },
  {
   "cell_type": "markdown",
   "id": "f452446f",
   "metadata": {},
   "source": [
    "print()"
   ]
  },
  {
   "cell_type": "raw",
   "id": "408cd5c1",
   "metadata": {},
   "source": [
    "print('ClickHouse')\n",
    "res = ClickHouse.query(c_q1, 60, rangesUnit, n_it)\n",
    "res = round(res[0][0],2), round(res[1][0],2)\n",
    "print(str(res[0])+'$\\\\pm$'+str(res[1]))\n",
    "\n",
    "res = ClickHouse.query(c_q2, 60, rangesUnit, n_it)\n",
    "res = round(res[0][0],2), round(res[1][0],2)\n",
    "print(str(res[0])+'$\\\\pm$'+str(res[1]))\n",
    "\n",
    "res = ClickHouse.query(c_q3, 60, rangesUnit, n_it)\n",
    "res = round(res[0][0],2), round(res[1][0],2)\n",
    "print(str(res[0])+'$\\\\pm$'+str(res[1]))\n",
    "\n",
    "res = ClickHouse.query(c_q4, 60, rangesUnit, n_it, n_st = 5)\n",
    "res = round(res[0][0],2), round(res[1][0],2)\n",
    "print(str(res[0])+'$\\\\pm$'+str(res[1]))\n",
    "\n",
    "print('Druid')\n",
    "print(Druid_Wide.query(dw_q1, 60, 'hour', n_it))\n",
    "print(Druid_Wide.query(dw_q2, 60, 'hour', n_it))\n",
    "print(Druid_Wide.query(dw_q3, 60, 'hour', n_it))\n",
    "print(Druid_Wide.query(dw_q4, 60, 'hour', n_it, n_st = 5))\n",
    "#         results[\"druid\"].append(Druid.query(d_q4, duration, rangesUnit, n_it, n_st = 5)[0][-1])\n",
    "\n",
    "print('ExtremeDB')\n",
    "print(EXtremeDB.query(e_q1, 60, rangesUnit, n_it))\n",
    "print(EXtremeDB.query(e_q2, 60, rangesUnit, n_it))\n",
    "print(EXtremeDB.query(e_q3, 60, rangesUnit, n_it))\n",
    "print(EXtremeDB.query(e_q4, 60, rangesUnit, n_it, n_st = 5))\n",
    "print(EXtremeDB.query(e_q5, 60, rangesUnit, n_it, n_st = 5))\n",
    "\n",
    "print('Influx')    \n",
    "print(Influx.query(i_q1, 60, rangesUnit, n_it))\n",
    "print(Influx.query(i_q2, 60, rangesUnit, n_it))\n",
    "print(Influx.query(i_q3, 60, rangesUnit, n_it))\n",
    "print(Influx.query(i_q4, 60, rangesUnit, n_it, n_st = 5))\n",
    "print(Influx.query(i_q5, 60, rangesUnit, n_it, n_st = 5))\n",
    "\n",
    "print('Influx_Wide')    \n",
    "print(Influx_Wide.query(iw_q1, 60, rangesUnit, n_it))\n",
    "print(Influx_Wide.query(iw_q2, 60, rangesUnit, n_it))\n",
    "print(Influx_Wide.query(iw_q3, 60, rangesUnit, n_it))\n",
    "print(Influx_Wide.query(iw_q4, 60, rangesUnit, n_it, n_st = 5))\n",
    "print(Influx_Wide.query(iw_q5, 60, rangesUnit, n_it, n_st = 5))\n",
    "\n",
    "    \n",
    "print('MonetDB')    \n",
    "print(MonetDB.query(m_q1, 60, rangesUnit, n_it))\n",
    "print(MonetDB.query(m_q2, 60, rangesUnit, n_it))\n",
    "print(MonetDB.query(m_q3, 60, rangesUnit, n_it))\n",
    "print(MonetDB.query(m_q4, 60, rangesUnit, n_it, n_st = 5))\n",
    "#         results[\"monetdb\"].append(MonetDB.query(m_q5, duration, rangesUnit, n_it, n_st = 5)[0][-1])\n",
    "\n",
    "\n",
    "    \n",
    "print('QuestDB')    \n",
    "print(QuestDB.query(q_q1, 60, rangesUnit, n_it))\n",
    "print(QuestDB.query(q_q2, 60, rangesUnit, n_it))\n",
    "print(QuestDB.query(q_q3, 60, rangesUnit, n_it))\n",
    "print(QuestDB.query(q_q4, 60, rangesUnit, n_it, n_st = 5))\n",
    "print(QuestDB.query(q_q5, 60, rangesUnit, n_it, n_st = 5))\n",
    "\n",
    "    \n",
    "print('TimescaleDB')    \n",
    "print(TimescaleDB.query(t_q1, 60, rangesUnit, n_it))\n",
    "print(TimescaleDB.query(t_q2, 60, rangesUnit, n_it))\n",
    "print(TimescaleDB.query(t_q3, 60, rangesUnit, n_it))\n",
    "print(TimescaleDB.query(t_q4, 60, rangesUnit, n_it, n_st = 5))\n",
    "print(TimescaleDB.query(t_q5, 60, rangesUnit, n_it, n_st = 5))\n",
    "\n"
   ]
  },
  {
   "cell_type": "code",
   "execution_count": null,
   "id": "5f52f021",
   "metadata": {},
   "outputs": [],
   "source": [
    "results[1][\"clickhouse\"]"
   ]
  },
  {
   "cell_type": "code",
   "execution_count": null,
   "id": "357d9c82",
   "metadata": {},
   "outputs": [],
   "source": [
    "results[1][\"clickhouse\"] = []\n",
    "for n_st in [1] + [i for i in range(2, 11, 2)]:\n",
    "    results[1]['clickhouse'].append(to_pm(ClickHouse.query(c_q2, 1, def_r, n_it, n_st = n_st, n_s = def_s)))\n",
    "for n_s in [1] + [i for i in range(10, 101, 10)]:\n",
    "    results[1]['clickhouse'].append(to_pm(ClickHouse.query(c_q2, 1, def_r, n_it, n_st = def_st, n_s = n_s)))\n",
    "for r in ['minute', 'hour', 'day', 'week', 'month']:\n",
    "    results[1]['clickhouse'].append(to_pm(ClickHouse.query(c_q2, 1, r, n_it, n_st = def_st, n_s = def_s)))\n"
   ]
  },
  {
   "cell_type": "code",
   "execution_count": null,
   "id": "e443d781",
   "metadata": {},
   "outputs": [],
   "source": []
  }
 ],
 "metadata": {
  "kernelspec": {
   "display_name": "Python 3 (ipykernel)",
   "language": "python",
   "name": "python3"
  },
  "language_info": {
   "codemirror_mode": {
    "name": "ipython",
    "version": 3
   },
   "file_extension": ".py",
   "mimetype": "text/x-python",
   "name": "python",
   "nbconvert_exporter": "python",
   "pygments_lexer": "ipython3",
   "version": "3.8.10"
  }
 },
 "nbformat": 4,
 "nbformat_minor": 5
}
